{
 "cells": [
  {
   "cell_type": "markdown",
   "metadata": {},
   "source": [
    "# Parts-of-speech (POS) Tagging\n",
    "In this assignment we will perform POS tagging using RNNs.\n",
    "For the task, we will use treebank with universal tagset. It consists of a total of 3914 samples with a total of 12 different tags.\n",
    "You need to perform the following:\n",
    "- Create the model structure which will, at least, include the following: embedding layer, RNN layer(s), and the output dense layer for many-to-many sequence modeling.\n",
    "- Train the system using train set. Use 15% of the train set as validation data during the call to the fit() function\n",
    "- Do the final evaluation on the test set using accurcay as the main metric. **Important note: while computing the accurcay make sure not to include the padding in the input and the output. Otherwise your accuracy score may be unrealistically high. Similarly, you can use ``mask_zero=True`` in the Embedding layer during training**\n"
   ]
  },
  {
   "cell_type": "markdown",
   "metadata": {},
   "source": [
    "## Read the dataset"
   ]
  },
  {
   "cell_type": "code",
   "execution_count": 47,
   "metadata": {},
   "outputs": [],
   "source": [
    "import numpy as np\n",
    "import nltk\n",
    "from matplotlib import pyplot as plt\n",
    "from keras.preprocessing.sequence import pad_sequences\n",
    "from keras.utils.np_utils import to_categorical\n",
    "from keras.models import Sequential\n",
    "from keras.layers import Embedding, Dense, Input, TimeDistributed\n",
    "from keras.layers import LSTM, GRU, Bidirectional, SimpleRNN, RNN\n",
    "from keras.models import Model\n",
    "from keras.preprocessing.text import Tokenizer"
   ]
  },
  {
   "cell_type": "code",
   "execution_count": 48,
   "metadata": {},
   "outputs": [
    {
     "name": "stderr",
     "output_type": "stream",
     "text": [
      "[nltk_data] Downloading package treebank to\n",
      "[nltk_data]     C:\\Users\\0xboja\\AppData\\Roaming\\nltk_data...\n",
      "[nltk_data]   Package treebank is already up-to-date!\n",
      "[nltk_data] Downloading package universal_tagset to\n",
      "[nltk_data]     C:\\Users\\0xboja\\AppData\\Roaming\\nltk_data...\n",
      "[nltk_data]   Package universal_tagset is already up-to-date!\n"
     ]
    },
    {
     "data": {
      "text/plain": [
       "3914"
      ]
     },
     "execution_count": 48,
     "metadata": {},
     "output_type": "execute_result"
    }
   ],
   "source": [
    "from nltk.corpus import treebank\n",
    "nltk.download('treebank')\n",
    "nltk.download('universal_tagset')\n",
    "treebank_corpus = treebank.tagged_sents(tagset='universal')\n",
    "len(treebank_corpus)"
   ]
  },
  {
   "cell_type": "markdown",
   "metadata": {},
   "source": [
    "### Check a sample"
   ]
  },
  {
   "cell_type": "code",
   "execution_count": 49,
   "metadata": {},
   "outputs": [
    {
     "data": {
      "text/plain": [
       "[('Pierre', 'NOUN'),\n",
       " ('Vinken', 'NOUN'),\n",
       " (',', '.'),\n",
       " ('61', 'NUM'),\n",
       " ('years', 'NOUN'),\n",
       " ('old', 'ADJ'),\n",
       " (',', '.'),\n",
       " ('will', 'VERB'),\n",
       " ('join', 'VERB'),\n",
       " ('the', 'DET'),\n",
       " ('board', 'NOUN'),\n",
       " ('as', 'ADP'),\n",
       " ('a', 'DET'),\n",
       " ('nonexecutive', 'ADJ'),\n",
       " ('director', 'NOUN'),\n",
       " ('Nov.', 'NOUN'),\n",
       " ('29', 'NUM'),\n",
       " ('.', '.')]"
      ]
     },
     "execution_count": 49,
     "metadata": {},
     "output_type": "execute_result"
    }
   ],
   "source": [
    "treebank_corpus[0]"
   ]
  },
  {
   "cell_type": "markdown",
   "metadata": {},
   "source": [
    "## Split the data into iput and output"
   ]
  },
  {
   "cell_type": "code",
   "execution_count": 50,
   "metadata": {},
   "outputs": [],
   "source": [
    "X = [] # store input sequence\n",
    "Y = [] # store output sequence\n",
    "\n",
    "for sentence in treebank_corpus:\n",
    "    X_sentence = []\n",
    "    Y_sentence = []\n",
    "    for entity in sentence:         \n",
    "        X_sentence.append(entity[0])  # entity[0] contains the word\n",
    "        Y_sentence.append(entity[1])  # entity[1] contains corresponding tag\n",
    "        \n",
    "    X.append(X_sentence)\n",
    "    Y.append(Y_sentence)"
   ]
  },
  {
   "cell_type": "code",
   "execution_count": 51,
   "metadata": {},
   "outputs": [
    {
     "name": "stdout",
     "output_type": "stream",
     "text": [
      "Total number of tagged sentences: 3914\n",
      "Vocabulary size: 11387\n",
      "Total number of tags: 12\n",
      "Tage set: {'ADP', 'DET', 'ADV', 'NOUN', '.', 'NUM', 'PRON', 'X', 'PRT', 'ADJ', 'CONJ', 'VERB'}\n"
     ]
    }
   ],
   "source": [
    "num_words = len(set([word.lower() for sentence in X for word in sentence]))\n",
    "tag_set = set([word for sentence in Y for word in sentence])\n",
    "num_tags   = len(tag_set)\n",
    "print(\"Total number of tagged sentences: {}\".format(len(X)))\n",
    "print(\"Vocabulary size: {}\".format(num_words))\n",
    "print(\"Total number of tags: {}\".format(num_tags))\n",
    "print(\"Tage set:\",tag_set)"
   ]
  },
  {
   "cell_type": "code",
   "execution_count": 52,
   "metadata": {},
   "outputs": [
    {
     "name": "stdout",
     "output_type": "stream",
     "text": [
      "sample X:  ['Pierre', 'Vinken', ',', '61', 'years', 'old', ',', 'will', 'join', 'the', 'board', 'as', 'a', 'nonexecutive', 'director', 'Nov.', '29', '.'] \n",
      "\n",
      "sample Y:  ['NOUN', 'NOUN', '.', 'NUM', 'NOUN', 'ADJ', '.', 'VERB', 'VERB', 'DET', 'NOUN', 'ADP', 'DET', 'ADJ', 'NOUN', 'NOUN', 'NUM', '.'] \n",
      "\n"
     ]
    }
   ],
   "source": [
    "# let's look at first data point\n",
    "print('sample X: ', X[0], '\\n')\n",
    "print('sample Y: ', Y[0], '\\n')"
   ]
  },
  {
   "cell_type": "code",
   "execution_count": 53,
   "metadata": {},
   "outputs": [
    {
     "name": "stdout",
     "output_type": "stream",
     "text": [
      "Length of longest sentence: 271\n"
     ]
    }
   ],
   "source": [
    "# check length of longest sentence\n",
    "lengths = [len(seq) for seq in X]\n",
    "print(\"Length of longest sentence: {}\".format(max(lengths)))"
   ]
  },
  {
   "cell_type": "code",
   "execution_count": 54,
   "metadata": {},
   "outputs": [],
   "source": [
    "# encode X\n",
    "from tensorflow.keras.preprocessing.text import Tokenizer\n",
    "word_tokenizer = Tokenizer()                      # instantiate tokeniser\n",
    "word_tokenizer.fit_on_texts(X)                    # fit tokeniser on data\n",
    "X_encoded = word_tokenizer.texts_to_sequences(X)  # use the tokeniser to encode input sequence"
   ]
  },
  {
   "cell_type": "code",
   "execution_count": 55,
   "metadata": {},
   "outputs": [],
   "source": [
    "# encode Y\n",
    "tag_tokenizer = Tokenizer()\n",
    "tag_tokenizer.fit_on_texts(Y)\n",
    "Y_encoded = tag_tokenizer.texts_to_sequences(Y)"
   ]
  },
  {
   "cell_type": "code",
   "execution_count": 56,
   "metadata": {},
   "outputs": [
    {
     "name": "stdout",
     "output_type": "stream",
     "text": [
      "** Raw data point ** \n",
      " ---------------------------------------------------------------------------------------------------- \n",
      "\n",
      "X:  ['Pierre', 'Vinken', ',', '61', 'years', 'old', ',', 'will', 'join', 'the', 'board', 'as', 'a', 'nonexecutive', 'director', 'Nov.', '29', '.'] \n",
      "\n",
      "Y:  ['NOUN', 'NOUN', '.', 'NUM', 'NOUN', 'ADJ', '.', 'VERB', 'VERB', 'DET', 'NOUN', 'ADP', 'DET', 'ADJ', 'NOUN', 'NOUN', 'NUM', '.'] \n",
      "\n",
      "\n",
      "** Encoded data point ** \n",
      " ---------------------------------------------------------------------------------------------------- \n",
      "\n",
      "X:  [5601, 3746, 1, 2024, 86, 331, 1, 46, 2405, 2, 131, 27, 6, 2025, 332, 459, 2026, 3] \n",
      "\n",
      "Y:  [1, 1, 3, 8, 1, 7, 3, 2, 2, 5, 1, 4, 5, 7, 1, 1, 8, 3] \n",
      "\n"
     ]
    }
   ],
   "source": [
    "# look at first encoded data point\n",
    "\n",
    "print(\"** Raw data point **\", \"\\n\", \"-\"*100, \"\\n\")\n",
    "print('X: ', X[0], '\\n')\n",
    "print('Y: ', Y[0], '\\n')\n",
    "print()\n",
    "print(\"** Encoded data point **\", \"\\n\", \"-\"*100, \"\\n\")\n",
    "print('X: ', X_encoded[0], '\\n')\n",
    "print('Y: ', Y_encoded[0], '\\n')"
   ]
  },
  {
   "cell_type": "markdown",
   "metadata": {},
   "source": [
    "## 1. Padd the sequences"
   ]
  },
  {
   "cell_type": "code",
   "execution_count": 57,
   "metadata": {},
   "outputs": [],
   "source": [
    "from tensorflow.keras.preprocessing.sequence import pad_sequences\n",
    "MAX_SEQ_LENGTH = 100  \n",
    "\n",
    "X_padded = pad_sequences(X_encoded, maxlen=MAX_SEQ_LENGTH, padding=\"pre\", truncating=\"post\")\n",
    "Y_padded = pad_sequences(Y_encoded, maxlen=MAX_SEQ_LENGTH, padding=\"pre\", truncating=\"post\")\n"
   ]
  },
  {
   "cell_type": "code",
   "execution_count": 58,
   "metadata": {},
   "outputs": [],
   "source": [
    "X, Y = X_padded, Y_padded\n",
    "Y = to_categorical(Y)"
   ]
  },
  {
   "cell_type": "markdown",
   "metadata": {},
   "source": [
    "## Split The dataset into Train and Test"
   ]
  },
  {
   "cell_type": "code",
   "execution_count": 59,
   "metadata": {},
   "outputs": [],
   "source": [
    "from sklearn.model_selection import train_test_split\n",
    "TEST_SIZE = 0.30\n",
    "\n",
    "X_train, X_test, Y_train, Y_test = train_test_split(X, Y, test_size=TEST_SIZE, random_state=777)"
   ]
  },
  {
   "cell_type": "code",
   "execution_count": 60,
   "metadata": {},
   "outputs": [],
   "source": [
    "\n",
    "VALID_SIZE = 0.15\n",
    "X_train, X_validation, Y_train, Y_validation = train_test_split(X_train, Y_train, test_size=VALID_SIZE, random_state=777)"
   ]
  },
  {
   "cell_type": "code",
   "execution_count": 61,
   "metadata": {},
   "outputs": [
    {
     "name": "stdout",
     "output_type": "stream",
     "text": [
      "TRAINING DATA\n",
      "Shape of input sequences: (2328, 100)\n",
      "Shape of output sequences: (2328, 100, 13)\n",
      "--------------------------------------------------\n",
      "VALIDATION DATA\n",
      "Shape of input sequences: (411, 100)\n",
      "Shape of output sequences: (411, 100, 13)\n",
      "--------------------------------------------------\n",
      "TESTING DATA\n",
      "Shape of input sequences: (1175, 100)\n",
      "Shape of output sequences: (1175, 100, 13)\n"
     ]
    }
   ],
   "source": [
    "\n",
    "print(\"TRAINING DATA\")\n",
    "print('Shape of input sequences: {}'.format(X_train.shape))\n",
    "print('Shape of output sequences: {}'.format(Y_train.shape))\n",
    "print(\"-\"*50)\n",
    "print(\"VALIDATION DATA\")\n",
    "print('Shape of input sequences: {}'.format(X_validation.shape))\n",
    "print('Shape of output sequences: {}'.format(Y_validation.shape))\n",
    "print(\"-\"*50)\n",
    "print(\"TESTING DATA\")\n",
    "print('Shape of input sequences: {}'.format(X_test.shape))\n",
    "print('Shape of output sequences: {}'.format(Y_test.shape))"
   ]
  },
  {
   "cell_type": "markdown",
   "metadata": {},
   "source": [
    "### 2. Develop an RNN-based Model \n",
    "The RNN can be LSTM, GRU, or even Bidirectional ones\n",
    "You need to at least the following:\n",
    "- An embedding layer\n",
    "- One or more RNN layers\n",
    "- An output dense layer with softmax activation\n",
    "\n",
    "Once you develop your model architecture, you need to compile and train it. use 15% of training data during fit as validataion data.\n",
    "\n",
    "Plot the training and validation losses"
   ]
  },
  {
   "cell_type": "code",
   "execution_count": 62,
   "metadata": {},
   "outputs": [
    {
     "name": "stdout",
     "output_type": "stream",
     "text": [
      "11388\n"
     ]
    }
   ],
   "source": [
    "\n",
    "EMBEDDING_SIZE  = 100\n",
    "VOCABULARY_SIZE = len(word_tokenizer.word_index) + 1\n",
    "print(VOCABULARY_SIZE)\n",
    "NUM_CLASSES = Y.shape[2]"
   ]
  },
  {
   "cell_type": "code",
   "execution_count": 63,
   "metadata": {},
   "outputs": [],
   "source": [
    "# create architecture\n",
    "\n",
    "rnn_model = Sequential()\n",
    "\n",
    "rnn_model.add(Embedding(input_dim     =  VOCABULARY_SIZE,     \n",
    "                        output_dim    =  EMBEDDING_SIZE,          \n",
    "                        input_length  =  MAX_SEQ_LENGTH,      \n",
    "                        trainable     =  True                   \n",
    "))\n",
    "\n",
    "rnn_model.add(SimpleRNN(64, \n",
    "              return_sequences=True\n",
    "))\n",
    "\n",
    "\n",
    "rnn_model.add(TimeDistributed(Dense(NUM_CLASSES, activation='softmax')))"
   ]
  },
  {
   "cell_type": "code",
   "execution_count": 64,
   "metadata": {},
   "outputs": [],
   "source": [
    "rnn_model.compile(loss      =  'categorical_crossentropy',\n",
    "                  optimizer =  'adam',\n",
    "                  metrics   =  ['acc'])"
   ]
  },
  {
   "cell_type": "code",
   "execution_count": 65,
   "metadata": {},
   "outputs": [
    {
     "name": "stdout",
     "output_type": "stream",
     "text": [
      "Model: \"sequential_2\"\n",
      "_________________________________________________________________\n",
      " Layer (type)                Output Shape              Param #   \n",
      "=================================================================\n",
      " embedding_2 (Embedding)     (None, 100, 100)          1138800   \n",
      "                                                                 \n",
      " simple_rnn_2 (SimpleRNN)    (None, 100, 64)           10560     \n",
      "                                                                 \n",
      " time_distributed_2 (TimeDis  (None, 100, 13)          845       \n",
      " tributed)                                                       \n",
      "                                                                 \n",
      "=================================================================\n",
      "Total params: 1,150,205\n",
      "Trainable params: 1,150,205\n",
      "Non-trainable params: 0\n",
      "_________________________________________________________________\n"
     ]
    }
   ],
   "source": [
    "\n",
    "rnn_model.summary()"
   ]
  },
  {
   "cell_type": "code",
   "execution_count": 66,
   "metadata": {},
   "outputs": [
    {
     "name": "stdout",
     "output_type": "stream",
     "text": [
      "Epoch 1/20\n",
      "19/19 [==============================] - 1s 37ms/step - loss: 1.5153 - acc: 0.7104 - val_loss: 0.9401 - val_acc: 0.7577\n",
      "Epoch 2/20\n",
      "19/19 [==============================] - 1s 30ms/step - loss: 0.8173 - acc: 0.7763 - val_loss: 0.7522 - val_acc: 0.7854\n",
      "Epoch 3/20\n",
      "19/19 [==============================] - 1s 31ms/step - loss: 0.6910 - acc: 0.8085 - val_loss: 0.6413 - val_acc: 0.8048\n",
      "Epoch 4/20\n",
      "19/19 [==============================] - 1s 31ms/step - loss: 0.5830 - acc: 0.8305 - val_loss: 0.5701 - val_acc: 0.8342\n",
      "Epoch 5/20\n",
      "19/19 [==============================] - 1s 31ms/step - loss: 0.5211 - acc: 0.8611 - val_loss: 0.5326 - val_acc: 0.8594\n",
      "Epoch 6/20\n",
      "19/19 [==============================] - 1s 31ms/step - loss: 0.4699 - acc: 0.8826 - val_loss: 0.4589 - val_acc: 0.8993\n",
      "Epoch 7/20\n",
      "19/19 [==============================] - 1s 30ms/step - loss: 0.3993 - acc: 0.9160 - val_loss: 0.3929 - val_acc: 0.9126\n",
      "Epoch 8/20\n",
      "19/19 [==============================] - 1s 30ms/step - loss: 0.3317 - acc: 0.9295 - val_loss: 0.3303 - val_acc: 0.9272\n",
      "Epoch 9/20\n",
      "19/19 [==============================] - 1s 31ms/step - loss: 0.2715 - acc: 0.9424 - val_loss: 0.2762 - val_acc: 0.9392\n",
      "Epoch 10/20\n",
      "19/19 [==============================] - 1s 31ms/step - loss: 0.2208 - acc: 0.9543 - val_loss: 0.2321 - val_acc: 0.9496\n",
      "Epoch 11/20\n",
      "19/19 [==============================] - 1s 31ms/step - loss: 0.1797 - acc: 0.9641 - val_loss: 0.1972 - val_acc: 0.9570\n",
      "Epoch 12/20\n",
      "19/19 [==============================] - 1s 30ms/step - loss: 0.1471 - acc: 0.9714 - val_loss: 0.1692 - val_acc: 0.9638\n",
      "Epoch 13/20\n",
      "19/19 [==============================] - 1s 32ms/step - loss: 0.1210 - acc: 0.9780 - val_loss: 0.1468 - val_acc: 0.9690\n",
      "Epoch 14/20\n",
      "19/19 [==============================] - 1s 31ms/step - loss: 0.1003 - acc: 0.9831 - val_loss: 0.1290 - val_acc: 0.9725\n",
      "Epoch 15/20\n",
      "19/19 [==============================] - 1s 31ms/step - loss: 0.0841 - acc: 0.9868 - val_loss: 0.1163 - val_acc: 0.9749\n",
      "Epoch 16/20\n",
      "19/19 [==============================] - 1s 30ms/step - loss: 0.0714 - acc: 0.9894 - val_loss: 0.1048 - val_acc: 0.9774\n",
      "Epoch 17/20\n",
      "19/19 [==============================] - 1s 30ms/step - loss: 0.0612 - acc: 0.9913 - val_loss: 0.0963 - val_acc: 0.9786\n",
      "Epoch 18/20\n",
      "19/19 [==============================] - 1s 30ms/step - loss: 0.0529 - acc: 0.9924 - val_loss: 0.0897 - val_acc: 0.9795\n",
      "Epoch 19/20\n",
      "19/19 [==============================] - 1s 31ms/step - loss: 0.0466 - acc: 0.9933 - val_loss: 0.0841 - val_acc: 0.9803\n",
      "Epoch 20/20\n",
      "19/19 [==============================] - 1s 31ms/step - loss: 0.0411 - acc: 0.9941 - val_loss: 0.0800 - val_acc: 0.9806\n"
     ]
    }
   ],
   "source": [
    "rnn_training = rnn_model.fit(X_train, Y_train, batch_size=128, epochs=20, validation_data=(X_validation, Y_validation))"
   ]
  },
  {
   "cell_type": "markdown",
   "metadata": {},
   "source": [
    "## 3. Evaluate on the test set\n",
    "Once you finalize the model based on validation set loss and accuracy, you should do the final evaluation on the test set.\n",
    "\n",
    "**Important note: while computing the accurcay make sure not to include the padding in the input and the output. Otherwise your accuracy score may be unrealistically high.**"
   ]
  },
  {
   "cell_type": "code",
   "execution_count": 67,
   "metadata": {},
   "outputs": [
    {
     "data": {
      "image/png": "[encoded data removed]",
      "text/plain": [
       "<Figure size 432x288 with 1 Axes>"
      ]
     },
     "metadata": {
      "needs_background": "light"
     },
     "output_type": "display_data"
    }
   ],
   "source": [
    "\n",
    "plt.plot(rnn_training.history['acc'])\n",
    "plt.plot(rnn_training.history['val_acc'])\n",
    "plt.title('model accuracy')\n",
    "plt.ylabel('accuracy')\n",
    "plt.xlabel('epoch')\n",
    "plt.legend(['train', 'test'], loc=\"lower right\")\n",
    "plt.show()"
   ]
  },
  {
   "cell_type": "code",
   "execution_count": 68,
   "metadata": {},
   "outputs": [
    {
     "name": "stdout",
     "output_type": "stream",
     "text": [
      "37/37 [==============================] - 0s 4ms/step - loss: 0.0759 - acc: 0.9811\n",
      "Loss: 0.07585166394710541,\n",
      "Accuracy: 98.11404347419739\n"
     ]
    }
   ],
   "source": [
    "loss, accuracy = rnn_model.evaluate(X_test, Y_test, verbose = 1)\n",
    "print(\"Loss: {0},\\nAccuracy: {1}\".format(loss, accuracy*100))"
   ]
  }
 ],
 "metadata": {
  "kernelspec": {
   "display_name": "Python 3 (ipykernel)",
   "language": "python",
   "name": "python3"
  },
  "language_info": {
   "codemirror_mode": {
    "name": "ipython",
    "version": 3
   },
   "file_extension": ".py",
   "mimetype": "text/x-python",
   "name": "python",
   "nbconvert_exporter": "python",
   "pygments_lexer": "ipython3",
   "version": "3.8.8"
  }
 },
 "nbformat": 4,
 "nbformat_minor": 4
}
