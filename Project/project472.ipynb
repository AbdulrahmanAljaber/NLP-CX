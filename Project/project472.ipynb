{
  "nbformat": 4,
  "nbformat_minor": 0,
  "metadata": {
    "colab": {
      "name": "project472.ipynb",
      "provenance": [],
      "collapsed_sections": []
    },
    "kernelspec": {
      "name": "python3",
      "display_name": "Python 3"
    },
    "language_info": {
      "name": "python"
    },
    "accelerator": "GPU",
    "widgets": {
      "application/vnd.jupyter.widget-state+json": {
        "31a3e46bfb9d4e358598858cb1710b22": {
          "model_module": "@jupyter-widgets/controls",
          "model_name": "HBoxModel",
          "model_module_version": "1.5.0",
          "state": {
            "_dom_classes": [],
            "_model_module": "@jupyter-widgets/controls",
            "_model_module_version": "1.5.0",
            "_model_name": "HBoxModel",
            "_view_count": null,
            "_view_module": "@jupyter-widgets/controls",
            "_view_module_version": "1.5.0",
            "_view_name": "HBoxView",
            "box_style": "",
            "children": [
              "IPY_MODEL_fb983a1a12634650893ecc58ad75ab1b",
              "IPY_MODEL_38772ba85c9348138cc10c425aacfa23",
              "IPY_MODEL_5650b6e8c5b14793b84d3e640700937b"
            ],
            "layout": "IPY_MODEL_4d31f1f942a94db0849575453cc45103"
          }
        },
        "fb983a1a12634650893ecc58ad75ab1b": {
          "model_module": "@jupyter-widgets/controls",
          "model_name": "HTMLModel",
          "model_module_version": "1.5.0",
          "state": {
            "_dom_classes": [],
            "_model_module": "@jupyter-widgets/controls",
            "_model_module_version": "1.5.0",
            "_model_name": "HTMLModel",
            "_view_count": null,
            "_view_module": "@jupyter-widgets/controls",
            "_view_module_version": "1.5.0",
            "_view_name": "HTMLView",
            "description": "",
            "description_tooltip": null,
            "layout": "IPY_MODEL_dec965328f3e4bf1afcec4d2f4ce3e2b",
            "placeholder": "​",
            "style": "IPY_MODEL_8f01637f985d4dd8b95dfe516fe097bc",
            "value": "Downloading: 100%"
          }
        },
        "38772ba85c9348138cc10c425aacfa23": {
          "model_module": "@jupyter-widgets/controls",
          "model_name": "FloatProgressModel",
          "model_module_version": "1.5.0",
          "state": {
            "_dom_classes": [],
            "_model_module": "@jupyter-widgets/controls",
            "_model_module_version": "1.5.0",
            "_model_name": "FloatProgressModel",
            "_view_count": null,
            "_view_module": "@jupyter-widgets/controls",
            "_view_module_version": "1.5.0",
            "_view_name": "ProgressView",
            "bar_style": "success",
            "description": "",
            "description_tooltip": null,
            "layout": "IPY_MODEL_21ce7a5dbe0b4c17ae2d706a288cbd41",
            "max": 62,
            "min": 0,
            "orientation": "horizontal",
            "style": "IPY_MODEL_6f5f038c1b8f42009459b61a656bdd58",
            "value": 62
          }
        },
        "5650b6e8c5b14793b84d3e640700937b": {
          "model_module": "@jupyter-widgets/controls",
          "model_name": "HTMLModel",
          "model_module_version": "1.5.0",
          "state": {
            "_dom_classes": [],
            "_model_module": "@jupyter-widgets/controls",
            "_model_module_version": "1.5.0",
            "_model_name": "HTMLModel",
            "_view_count": null,
            "_view_module": "@jupyter-widgets/controls",
            "_view_module_version": "1.5.0",
            "_view_name": "HTMLView",
            "description": "",
            "description_tooltip": null,
            "layout": "IPY_MODEL_47f48fcddc3c4ed485e17a0480adb1d4",
            "placeholder": "​",
            "style": "IPY_MODEL_f90e14840afb4145848e9de71dff836c",
            "value": " 62.0/62.0 [00:00&lt;00:00, 472B/s]"
          }
        },
        "4d31f1f942a94db0849575453cc45103": {
          "model_module": "@jupyter-widgets/base",
          "model_name": "LayoutModel",
          "model_module_version": "1.2.0",
          "state": {
            "_model_module": "@jupyter-widgets/base",
            "_model_module_version": "1.2.0",
            "_model_name": "LayoutModel",
            "_view_count": null,
            "_view_module": "@jupyter-widgets/base",
            "_view_module_version": "1.2.0",
            "_view_name": "LayoutView",
            "align_content": null,
            "align_items": null,
            "align_self": null,
            "border": null,
            "bottom": null,
            "display": null,
            "flex": null,
            "flex_flow": null,
            "grid_area": null,
            "grid_auto_columns": null,
            "grid_auto_flow": null,
            "grid_auto_rows": null,
            "grid_column": null,
            "grid_gap": null,
            "grid_row": null,
            "grid_template_areas": null,
            "grid_template_columns": null,
            "grid_template_rows": null,
            "height": null,
            "justify_content": null,
            "justify_items": null,
            "left": null,
            "margin": null,
            "max_height": null,
            "max_width": null,
            "min_height": null,
            "min_width": null,
            "object_fit": null,
            "object_position": null,
            "order": null,
            "overflow": null,
            "overflow_x": null,
            "overflow_y": null,
            "padding": null,
            "right": null,
            "top": null,
            "visibility": null,
            "width": null
          }
        },
        "dec965328f3e4bf1afcec4d2f4ce3e2b": {
          "model_module": "@jupyter-widgets/base",
          "model_name": "LayoutModel",
          "model_module_version": "1.2.0",
          "state": {
            "_model_module": "@jupyter-widgets/base",
            "_model_module_version": "1.2.0",
            "_model_name": "LayoutModel",
            "_view_count": null,
            "_view_module": "@jupyter-widgets/base",
            "_view_module_version": "1.2.0",
            "_view_name": "LayoutView",
            "align_content": null,
            "align_items": null,
            "align_self": null,
            "border": null,
            "bottom": null,
            "display": null,
            "flex": null,
            "flex_flow": null,
            "grid_area": null,
            "grid_auto_columns": null,
            "grid_auto_flow": null,
            "grid_auto_rows": null,
            "grid_column": null,
            "grid_gap": null,
            "grid_row": null,
            "grid_template_areas": null,
            "grid_template_columns": null,
            "grid_template_rows": null,
            "height": null,
            "justify_content": null,
            "justify_items": null,
            "left": null,
            "margin": null,
            "max_height": null,
            "max_width": null,
            "min_height": null,
            "min_width": null,
            "object_fit": null,
            "object_position": null,
            "order": null,
            "overflow": null,
            "overflow_x": null,
            "overflow_y": null,
            "padding": null,
            "right": null,
            "top": null,
            "visibility": null,
            "width": null
          }
        },
        "8f01637f985d4dd8b95dfe516fe097bc": {
          "model_module": "@jupyter-widgets/controls",
          "model_name": "DescriptionStyleModel",
          "model_module_version": "1.5.0",
          "state": {
            "_model_module": "@jupyter-widgets/controls",
            "_model_module_version": "1.5.0",
            "_model_name": "DescriptionStyleModel",
            "_view_count": null,
            "_view_module": "@jupyter-widgets/base",
            "_view_module_version": "1.2.0",
            "_view_name": "StyleView",
            "description_width": ""
          }
        },
        "21ce7a5dbe0b4c17ae2d706a288cbd41": {
          "model_module": "@jupyter-widgets/base",
          "model_name": "LayoutModel",
          "model_module_version": "1.2.0",
          "state": {
            "_model_module": "@jupyter-widgets/base",
            "_model_module_version": "1.2.0",
            "_model_name": "LayoutModel",
            "_view_count": null,
            "_view_module": "@jupyter-widgets/base",
            "_view_module_version": "1.2.0",
            "_view_name": "LayoutView",
            "align_content": null,
            "align_items": null,
            "align_self": null,
            "border": null,
            "bottom": null,
            "display": null,
            "flex": null,
            "flex_flow": null,
            "grid_area": null,
            "grid_auto_columns": null,
            "grid_auto_flow": null,
            "grid_auto_rows": null,
            "grid_column": null,
            "grid_gap": null,
            "grid_row": null,
            "grid_template_areas": null,
            "grid_template_columns": null,
            "grid_template_rows": null,
            "height": null,
            "justify_content": null,
            "justify_items": null,
            "left": null,
            "margin": null,
            "max_height": null,
            "max_width": null,
            "min_height": null,
            "min_width": null,
            "object_fit": null,
            "object_position": null,
            "order": null,
            "overflow": null,
            "overflow_x": null,
            "overflow_y": null,
            "padding": null,
            "right": null,
            "top": null,
            "visibility": null,
            "width": null
          }
        },
        "6f5f038c1b8f42009459b61a656bdd58": {
          "model_module": "@jupyter-widgets/controls",
          "model_name": "ProgressStyleModel",
          "model_module_version": "1.5.0",
          "state": {
            "_model_module": "@jupyter-widgets/controls",
            "_model_module_version": "1.5.0",
            "_model_name": "ProgressStyleModel",
            "_view_count": null,
            "_view_module": "@jupyter-widgets/base",
            "_view_module_version": "1.2.0",
            "_view_name": "StyleView",
            "bar_color": null,
            "description_width": ""
          }
        },
        "47f48fcddc3c4ed485e17a0480adb1d4": {
          "model_module": "@jupyter-widgets/base",
          "model_name": "LayoutModel",
          "model_module_version": "1.2.0",
          "state": {
            "_model_module": "@jupyter-widgets/base",
            "_model_module_version": "1.2.0",
            "_model_name": "LayoutModel",
            "_view_count": null,
            "_view_module": "@jupyter-widgets/base",
            "_view_module_version": "1.2.0",
            "_view_name": "LayoutView",
            "align_content": null,
            "align_items": null,
            "align_self": null,
            "border": null,
            "bottom": null,
            "display": null,
            "flex": null,
            "flex_flow": null,
            "grid_area": null,
            "grid_auto_columns": null,
            "grid_auto_flow": null,
            "grid_auto_rows": null,
            "grid_column": null,
            "grid_gap": null,
            "grid_row": null,
            "grid_template_areas": null,
            "grid_template_columns": null,
            "grid_template_rows": null,
            "height": null,
            "justify_content": null,
            "justify_items": null,
            "left": null,
            "margin": null,
            "max_height": null,
            "max_width": null,
            "min_height": null,
            "min_width": null,
            "object_fit": null,
            "object_position": null,
            "order": null,
            "overflow": null,
            "overflow_x": null,
            "overflow_y": null,
            "padding": null,
            "right": null,
            "top": null,
            "visibility": null,
            "width": null
          }
        },
        "f90e14840afb4145848e9de71dff836c": {
          "model_module": "@jupyter-widgets/controls",
          "model_name": "DescriptionStyleModel",
          "model_module_version": "1.5.0",
          "state": {
            "_model_module": "@jupyter-widgets/controls",
            "_model_module_version": "1.5.0",
            "_model_name": "DescriptionStyleModel",
            "_view_count": null,
            "_view_module": "@jupyter-widgets/base",
            "_view_module_version": "1.2.0",
            "_view_name": "StyleView",
            "description_width": ""
          }
        },
        "8777d1c1db5046a6aca6fcfa0cc6c062": {
          "model_module": "@jupyter-widgets/controls",
          "model_name": "HBoxModel",
          "model_module_version": "1.5.0",
          "state": {
            "_dom_classes": [],
            "_model_module": "@jupyter-widgets/controls",
            "_model_module_version": "1.5.0",
            "_model_name": "HBoxModel",
            "_view_count": null,
            "_view_module": "@jupyter-widgets/controls",
            "_view_module_version": "1.5.0",
            "_view_name": "HBoxView",
            "box_style": "",
            "children": [
              "IPY_MODEL_1ab6bb6877844022947f536060909155",
              "IPY_MODEL_362e39e95f52492e8c52b450653fd27e",
              "IPY_MODEL_47123836036c4b1495937a519a22ce7d"
            ],
            "layout": "IPY_MODEL_81050a3ff6114168adc1c95ea3f0e3c8"
          }
        },
        "1ab6bb6877844022947f536060909155": {
          "model_module": "@jupyter-widgets/controls",
          "model_name": "HTMLModel",
          "model_module_version": "1.5.0",
          "state": {
            "_dom_classes": [],
            "_model_module": "@jupyter-widgets/controls",
            "_model_module_version": "1.5.0",
            "_model_name": "HTMLModel",
            "_view_count": null,
            "_view_module": "@jupyter-widgets/controls",
            "_view_module_version": "1.5.0",
            "_view_name": "HTMLView",
            "description": "",
            "description_tooltip": null,
            "layout": "IPY_MODEL_8a52cffdaca145789d0529484f49afe2",
            "placeholder": "​",
            "style": "IPY_MODEL_8261917351964bfb88f56e1d50b5e777",
            "value": "Downloading: 100%"
          }
        },
        "362e39e95f52492e8c52b450653fd27e": {
          "model_module": "@jupyter-widgets/controls",
          "model_name": "FloatProgressModel",
          "model_module_version": "1.5.0",
          "state": {
            "_dom_classes": [],
            "_model_module": "@jupyter-widgets/controls",
            "_model_module_version": "1.5.0",
            "_model_name": "FloatProgressModel",
            "_view_count": null,
            "_view_module": "@jupyter-widgets/controls",
            "_view_module_version": "1.5.0",
            "_view_name": "ProgressView",
            "bar_style": "success",
            "description": "",
            "description_tooltip": null,
            "layout": "IPY_MODEL_19904e084ae54105a0fdfc58966fa356",
            "max": 491,
            "min": 0,
            "orientation": "horizontal",
            "style": "IPY_MODEL_61bc3911b2924646a621f8acacf88db6",
            "value": 491
          }
        },
        "47123836036c4b1495937a519a22ce7d": {
          "model_module": "@jupyter-widgets/controls",
          "model_name": "HTMLModel",
          "model_module_version": "1.5.0",
          "state": {
            "_dom_classes": [],
            "_model_module": "@jupyter-widgets/controls",
            "_model_module_version": "1.5.0",
            "_model_name": "HTMLModel",
            "_view_count": null,
            "_view_module": "@jupyter-widgets/controls",
            "_view_module_version": "1.5.0",
            "_view_name": "HTMLView",
            "description": "",
            "description_tooltip": null,
            "layout": "IPY_MODEL_e210195a1e9f446aba419a60c2e5d606",
            "placeholder": "​",
            "style": "IPY_MODEL_298d1b44b5fe495db16797e77ec275c9",
            "value": " 491/491 [00:00&lt;00:00, 4.01kB/s]"
          }
        },
        "81050a3ff6114168adc1c95ea3f0e3c8": {
          "model_module": "@jupyter-widgets/base",
          "model_name": "LayoutModel",
          "model_module_version": "1.2.0",
          "state": {
            "_model_module": "@jupyter-widgets/base",
            "_model_module_version": "1.2.0",
            "_model_name": "LayoutModel",
            "_view_count": null,
            "_view_module": "@jupyter-widgets/base",
            "_view_module_version": "1.2.0",
            "_view_name": "LayoutView",
            "align_content": null,
            "align_items": null,
            "align_self": null,
            "border": null,
            "bottom": null,
            "display": null,
            "flex": null,
            "flex_flow": null,
            "grid_area": null,
            "grid_auto_columns": null,
            "grid_auto_flow": null,
            "grid_auto_rows": null,
            "grid_column": null,
            "grid_gap": null,
            "grid_row": null,
            "grid_template_areas": null,
            "grid_template_columns": null,
            "grid_template_rows": null,
            "height": null,
            "justify_content": null,
            "justify_items": null,
            "left": null,
            "margin": null,
            "max_height": null,
            "max_width": null,
            "min_height": null,
            "min_width": null,
            "object_fit": null,
            "object_position": null,
            "order": null,
            "overflow": null,
            "overflow_x": null,
            "overflow_y": null,
            "padding": null,
            "right": null,
            "top": null,
            "visibility": null,
            "width": null
          }
        },
        "8a52cffdaca145789d0529484f49afe2": {
          "model_module": "@jupyter-widgets/base",
          "model_name": "LayoutModel",
          "model_module_version": "1.2.0",
          "state": {
            "_model_module": "@jupyter-widgets/base",
            "_model_module_version": "1.2.0",
            "_model_name": "LayoutModel",
            "_view_count": null,
            "_view_module": "@jupyter-widgets/base",
            "_view_module_version": "1.2.0",
            "_view_name": "LayoutView",
            "align_content": null,
            "align_items": null,
            "align_self": null,
            "border": null,
            "bottom": null,
            "display": null,
            "flex": null,
            "flex_flow": null,
            "grid_area": null,
            "grid_auto_columns": null,
            "grid_auto_flow": null,
            "grid_auto_rows": null,
            "grid_column": null,
            "grid_gap": null,
            "grid_row": null,
            "grid_template_areas": null,
            "grid_template_columns": null,
            "grid_template_rows": null,
            "height": null,
            "justify_content": null,
            "justify_items": null,
            "left": null,
            "margin": null,
            "max_height": null,
            "max_width": null,
            "min_height": null,
            "min_width": null,
            "object_fit": null,
            "object_position": null,
            "order": null,
            "overflow": null,
            "overflow_x": null,
            "overflow_y": null,
            "padding": null,
            "right": null,
            "top": null,
            "visibility": null,
            "width": null
          }
        },
        "8261917351964bfb88f56e1d50b5e777": {
          "model_module": "@jupyter-widgets/controls",
          "model_name": "DescriptionStyleModel",
          "model_module_version": "1.5.0",
          "state": {
            "_model_module": "@jupyter-widgets/controls",
            "_model_module_version": "1.5.0",
            "_model_name": "DescriptionStyleModel",
            "_view_count": null,
            "_view_module": "@jupyter-widgets/base",
            "_view_module_version": "1.2.0",
            "_view_name": "StyleView",
            "description_width": ""
          }
        },
        "19904e084ae54105a0fdfc58966fa356": {
          "model_module": "@jupyter-widgets/base",
          "model_name": "LayoutModel",
          "model_module_version": "1.2.0",
          "state": {
            "_model_module": "@jupyter-widgets/base",
            "_model_module_version": "1.2.0",
            "_model_name": "LayoutModel",
            "_view_count": null,
            "_view_module": "@jupyter-widgets/base",
            "_view_module_version": "1.2.0",
            "_view_name": "LayoutView",
            "align_content": null,
            "align_items": null,
            "align_self": null,
            "border": null,
            "bottom": null,
            "display": null,
            "flex": null,
            "flex_flow": null,
            "grid_area": null,
            "grid_auto_columns": null,
            "grid_auto_flow": null,
            "grid_auto_rows": null,
            "grid_column": null,
            "grid_gap": null,
            "grid_row": null,
            "grid_template_areas": null,
            "grid_template_columns": null,
            "grid_template_rows": null,
            "height": null,
            "justify_content": null,
            "justify_items": null,
            "left": null,
            "margin": null,
            "max_height": null,
            "max_width": null,
            "min_height": null,
            "min_width": null,
            "object_fit": null,
            "object_position": null,
            "order": null,
            "overflow": null,
            "overflow_x": null,
            "overflow_y": null,
            "padding": null,
            "right": null,
            "top": null,
            "visibility": null,
            "width": null
          }
        },
        "61bc3911b2924646a621f8acacf88db6": {
          "model_module": "@jupyter-widgets/controls",
          "model_name": "ProgressStyleModel",
          "model_module_version": "1.5.0",
          "state": {
            "_model_module": "@jupyter-widgets/controls",
            "_model_module_version": "1.5.0",
            "_model_name": "ProgressStyleModel",
            "_view_count": null,
            "_view_module": "@jupyter-widgets/base",
            "_view_module_version": "1.2.0",
            "_view_name": "StyleView",
            "bar_color": null,
            "description_width": ""
          }
        },
        "e210195a1e9f446aba419a60c2e5d606": {
          "model_module": "@jupyter-widgets/base",
          "model_name": "LayoutModel",
          "model_module_version": "1.2.0",
          "state": {
            "_model_module": "@jupyter-widgets/base",
            "_model_module_version": "1.2.0",
            "_model_name": "LayoutModel",
            "_view_count": null,
            "_view_module": "@jupyter-widgets/base",
            "_view_module_version": "1.2.0",
            "_view_name": "LayoutView",
            "align_content": null,
            "align_items": null,
            "align_self": null,
            "border": null,
            "bottom": null,
            "display": null,
            "flex": null,
            "flex_flow": null,
            "grid_area": null,
            "grid_auto_columns": null,
            "grid_auto_flow": null,
            "grid_auto_rows": null,
            "grid_column": null,
            "grid_gap": null,
            "grid_row": null,
            "grid_template_areas": null,
            "grid_template_columns": null,
            "grid_template_rows": null,
            "height": null,
            "justify_content": null,
            "justify_items": null,
            "left": null,
            "margin": null,
            "max_height": null,
            "max_width": null,
            "min_height": null,
            "min_width": null,
            "object_fit": null,
            "object_position": null,
            "order": null,
            "overflow": null,
            "overflow_x": null,
            "overflow_y": null,
            "padding": null,
            "right": null,
            "top": null,
            "visibility": null,
            "width": null
          }
        },
        "298d1b44b5fe495db16797e77ec275c9": {
          "model_module": "@jupyter-widgets/controls",
          "model_name": "DescriptionStyleModel",
          "model_module_version": "1.5.0",
          "state": {
            "_model_module": "@jupyter-widgets/controls",
            "_model_module_version": "1.5.0",
            "_model_name": "DescriptionStyleModel",
            "_view_count": null,
            "_view_module": "@jupyter-widgets/base",
            "_view_module_version": "1.2.0",
            "_view_name": "StyleView",
            "description_width": ""
          }
        },
        "6633f2ec23594bf4a3e9b7acbe369b59": {
          "model_module": "@jupyter-widgets/controls",
          "model_name": "HBoxModel",
          "model_module_version": "1.5.0",
          "state": {
            "_dom_classes": [],
            "_model_module": "@jupyter-widgets/controls",
            "_model_module_version": "1.5.0",
            "_model_name": "HBoxModel",
            "_view_count": null,
            "_view_module": "@jupyter-widgets/controls",
            "_view_module_version": "1.5.0",
            "_view_name": "HBoxView",
            "box_style": "",
            "children": [
              "IPY_MODEL_319a553ddba54fe298093c2ec5496c08",
              "IPY_MODEL_15e740e70ba44b09ac54de789ee8000e",
              "IPY_MODEL_d7ef2f83107a47ec94d5c4e4e9b3255d"
            ],
            "layout": "IPY_MODEL_9e2825daa74b47229f15ba00a59f1735"
          }
        },
        "319a553ddba54fe298093c2ec5496c08": {
          "model_module": "@jupyter-widgets/controls",
          "model_name": "HTMLModel",
          "model_module_version": "1.5.0",
          "state": {
            "_dom_classes": [],
            "_model_module": "@jupyter-widgets/controls",
            "_model_module_version": "1.5.0",
            "_model_name": "HTMLModel",
            "_view_count": null,
            "_view_module": "@jupyter-widgets/controls",
            "_view_module_version": "1.5.0",
            "_view_name": "HTMLView",
            "description": "",
            "description_tooltip": null,
            "layout": "IPY_MODEL_913a171ffaa44edb8bcaf64a51bee3e0",
            "placeholder": "​",
            "style": "IPY_MODEL_57cb4b687d5545d5b498fa41f91ff8f3",
            "value": "Downloading: 100%"
          }
        },
        "15e740e70ba44b09ac54de789ee8000e": {
          "model_module": "@jupyter-widgets/controls",
          "model_name": "FloatProgressModel",
          "model_module_version": "1.5.0",
          "state": {
            "_dom_classes": [],
            "_model_module": "@jupyter-widgets/controls",
            "_model_module_version": "1.5.0",
            "_model_name": "FloatProgressModel",
            "_view_count": null,
            "_view_module": "@jupyter-widgets/controls",
            "_view_module_version": "1.5.0",
            "_view_name": "ProgressView",
            "bar_style": "success",
            "description": "",
            "description_tooltip": null,
            "layout": "IPY_MODEL_d1d8b267bfc24f0b957a34adcb761ab3",
            "max": 333770,
            "min": 0,
            "orientation": "horizontal",
            "style": "IPY_MODEL_3bb016ec642847ecb9b2b890e68c9992",
            "value": 333770
          }
        },
        "d7ef2f83107a47ec94d5c4e4e9b3255d": {
          "model_module": "@jupyter-widgets/controls",
          "model_name": "HTMLModel",
          "model_module_version": "1.5.0",
          "state": {
            "_dom_classes": [],
            "_model_module": "@jupyter-widgets/controls",
            "_model_module_version": "1.5.0",
            "_model_name": "HTMLModel",
            "_view_count": null,
            "_view_module": "@jupyter-widgets/controls",
            "_view_module_version": "1.5.0",
            "_view_name": "HTMLView",
            "description": "",
            "description_tooltip": null,
            "layout": "IPY_MODEL_3a4e4f9870c64cc597f330b6f228be38",
            "placeholder": "​",
            "style": "IPY_MODEL_c86b669391164204b6291b76993021d4",
            "value": " 326k/326k [00:00&lt;00:00, 1.24MB/s]"
          }
        },
        "9e2825daa74b47229f15ba00a59f1735": {
          "model_module": "@jupyter-widgets/base",
          "model_name": "LayoutModel",
          "model_module_version": "1.2.0",
          "state": {
            "_model_module": "@jupyter-widgets/base",
            "_model_module_version": "1.2.0",
            "_model_name": "LayoutModel",
            "_view_count": null,
            "_view_module": "@jupyter-widgets/base",
            "_view_module_version": "1.2.0",
            "_view_name": "LayoutView",
            "align_content": null,
            "align_items": null,
            "align_self": null,
            "border": null,
            "bottom": null,
            "display": null,
            "flex": null,
            "flex_flow": null,
            "grid_area": null,
            "grid_auto_columns": null,
            "grid_auto_flow": null,
            "grid_auto_rows": null,
            "grid_column": null,
            "grid_gap": null,
            "grid_row": null,
            "grid_template_areas": null,
            "grid_template_columns": null,
            "grid_template_rows": null,
            "height": null,
            "justify_content": null,
            "justify_items": null,
            "left": null,
            "margin": null,
            "max_height": null,
            "max_width": null,
            "min_height": null,
            "min_width": null,
            "object_fit": null,
            "object_position": null,
            "order": null,
            "overflow": null,
            "overflow_x": null,
            "overflow_y": null,
            "padding": null,
            "right": null,
            "top": null,
            "visibility": null,
            "width": null
          }
        },
        "913a171ffaa44edb8bcaf64a51bee3e0": {
          "model_module": "@jupyter-widgets/base",
          "model_name": "LayoutModel",
          "model_module_version": "1.2.0",
          "state": {
            "_model_module": "@jupyter-widgets/base",
            "_model_module_version": "1.2.0",
            "_model_name": "LayoutModel",
            "_view_count": null,
            "_view_module": "@jupyter-widgets/base",
            "_view_module_version": "1.2.0",
            "_view_name": "LayoutView",
            "align_content": null,
            "align_items": null,
            "align_self": null,
            "border": null,
            "bottom": null,
            "display": null,
            "flex": null,
            "flex_flow": null,
            "grid_area": null,
            "grid_auto_columns": null,
            "grid_auto_flow": null,
            "grid_auto_rows": null,
            "grid_column": null,
            "grid_gap": null,
            "grid_row": null,
            "grid_template_areas": null,
            "grid_template_columns": null,
            "grid_template_rows": null,
            "height": null,
            "justify_content": null,
            "justify_items": null,
            "left": null,
            "margin": null,
            "max_height": null,
            "max_width": null,
            "min_height": null,
            "min_width": null,
            "object_fit": null,
            "object_position": null,
            "order": null,
            "overflow": null,
            "overflow_x": null,
            "overflow_y": null,
            "padding": null,
            "right": null,
            "top": null,
            "visibility": null,
            "width": null
          }
        },
        "57cb4b687d5545d5b498fa41f91ff8f3": {
          "model_module": "@jupyter-widgets/controls",
          "model_name": "DescriptionStyleModel",
          "model_module_version": "1.5.0",
          "state": {
            "_model_module": "@jupyter-widgets/controls",
            "_model_module_version": "1.5.0",
            "_model_name": "DescriptionStyleModel",
            "_view_count": null,
            "_view_module": "@jupyter-widgets/base",
            "_view_module_version": "1.2.0",
            "_view_name": "StyleView",
            "description_width": ""
          }
        },
        "d1d8b267bfc24f0b957a34adcb761ab3": {
          "model_module": "@jupyter-widgets/base",
          "model_name": "LayoutModel",
          "model_module_version": "1.2.0",
          "state": {
            "_model_module": "@jupyter-widgets/base",
            "_model_module_version": "1.2.0",
            "_model_name": "LayoutModel",
            "_view_count": null,
            "_view_module": "@jupyter-widgets/base",
            "_view_module_version": "1.2.0",
            "_view_name": "LayoutView",
            "align_content": null,
            "align_items": null,
            "align_self": null,
            "border": null,
            "bottom": null,
            "display": null,
            "flex": null,
            "flex_flow": null,
            "grid_area": null,
            "grid_auto_columns": null,
            "grid_auto_flow": null,
            "grid_auto_rows": null,
            "grid_column": null,
            "grid_gap": null,
            "grid_row": null,
            "grid_template_areas": null,
            "grid_template_columns": null,
            "grid_template_rows": null,
            "height": null,
            "justify_content": null,
            "justify_items": null,
            "left": null,
            "margin": null,
            "max_height": null,
            "max_width": null,
            "min_height": null,
            "min_width": null,
            "object_fit": null,
            "object_position": null,
            "order": null,
            "overflow": null,
            "overflow_x": null,
            "overflow_y": null,
            "padding": null,
            "right": null,
            "top": null,
            "visibility": null,
            "width": null
          }
        },
        "3bb016ec642847ecb9b2b890e68c9992": {
          "model_module": "@jupyter-widgets/controls",
          "model_name": "ProgressStyleModel",
          "model_module_version": "1.5.0",
          "state": {
            "_model_module": "@jupyter-widgets/controls",
            "_model_module_version": "1.5.0",
            "_model_name": "ProgressStyleModel",
            "_view_count": null,
            "_view_module": "@jupyter-widgets/base",
            "_view_module_version": "1.2.0",
            "_view_name": "StyleView",
            "bar_color": null,
            "description_width": ""
          }
        },
        "3a4e4f9870c64cc597f330b6f228be38": {
          "model_module": "@jupyter-widgets/base",
          "model_name": "LayoutModel",
          "model_module_version": "1.2.0",
          "state": {
            "_model_module": "@jupyter-widgets/base",
            "_model_module_version": "1.2.0",
            "_model_name": "LayoutModel",
            "_view_count": null,
            "_view_module": "@jupyter-widgets/base",
            "_view_module_version": "1.2.0",
            "_view_name": "LayoutView",
            "align_content": null,
            "align_items": null,
            "align_self": null,
            "border": null,
            "bottom": null,
            "display": null,
            "flex": null,
            "flex_flow": null,
            "grid_area": null,
            "grid_auto_columns": null,
            "grid_auto_flow": null,
            "grid_auto_rows": null,
            "grid_column": null,
            "grid_gap": null,
            "grid_row": null,
            "grid_template_areas": null,
            "grid_template_columns": null,
            "grid_template_rows": null,
            "height": null,
            "justify_content": null,
            "justify_items": null,
            "left": null,
            "margin": null,
            "max_height": null,
            "max_width": null,
            "min_height": null,
            "min_width": null,
            "object_fit": null,
            "object_position": null,
            "order": null,
            "overflow": null,
            "overflow_x": null,
            "overflow_y": null,
            "padding": null,
            "right": null,
            "top": null,
            "visibility": null,
            "width": null
          }
        },
        "c86b669391164204b6291b76993021d4": {
          "model_module": "@jupyter-widgets/controls",
          "model_name": "DescriptionStyleModel",
          "model_module_version": "1.5.0",
          "state": {
            "_model_module": "@jupyter-widgets/controls",
            "_model_module_version": "1.5.0",
            "_model_name": "DescriptionStyleModel",
            "_view_count": null,
            "_view_module": "@jupyter-widgets/base",
            "_view_module_version": "1.2.0",
            "_view_name": "StyleView",
            "description_width": ""
          }
        },
        "2d6e4483a9784f7f80dc126a4e6ccddf": {
          "model_module": "@jupyter-widgets/controls",
          "model_name": "HBoxModel",
          "model_module_version": "1.5.0",
          "state": {
            "_dom_classes": [],
            "_model_module": "@jupyter-widgets/controls",
            "_model_module_version": "1.5.0",
            "_model_name": "HBoxModel",
            "_view_count": null,
            "_view_module": "@jupyter-widgets/controls",
            "_view_module_version": "1.5.0",
            "_view_name": "HBoxView",
            "box_style": "",
            "children": [
              "IPY_MODEL_9b21c02ae06343738dfaccf004f5d657",
              "IPY_MODEL_8c53d9bdf0904fe08156a91bb8159903",
              "IPY_MODEL_75c82c03e59446c282f1d51fe9d0e34f"
            ],
            "layout": "IPY_MODEL_184c2cf9d09846df908403530c80559d"
          }
        },
        "9b21c02ae06343738dfaccf004f5d657": {
          "model_module": "@jupyter-widgets/controls",
          "model_name": "HTMLModel",
          "model_module_version": "1.5.0",
          "state": {
            "_dom_classes": [],
            "_model_module": "@jupyter-widgets/controls",
            "_model_module_version": "1.5.0",
            "_model_name": "HTMLModel",
            "_view_count": null,
            "_view_module": "@jupyter-widgets/controls",
            "_view_module_version": "1.5.0",
            "_view_name": "HTMLView",
            "description": "",
            "description_tooltip": null,
            "layout": "IPY_MODEL_eb507c41814b4b9996db721515d90e6f",
            "placeholder": "​",
            "style": "IPY_MODEL_acf8dbbd2aae4e59851eacbf06583000",
            "value": "Downloading: 100%"
          }
        },
        "8c53d9bdf0904fe08156a91bb8159903": {
          "model_module": "@jupyter-widgets/controls",
          "model_name": "FloatProgressModel",
          "model_module_version": "1.5.0",
          "state": {
            "_dom_classes": [],
            "_model_module": "@jupyter-widgets/controls",
            "_model_module_version": "1.5.0",
            "_model_name": "FloatProgressModel",
            "_view_count": null,
            "_view_module": "@jupyter-widgets/controls",
            "_view_module_version": "1.5.0",
            "_view_name": "ProgressView",
            "bar_style": "success",
            "description": "",
            "description_tooltip": null,
            "layout": "IPY_MODEL_9a349df14a274e4494c40e912e125427",
            "max": 112,
            "min": 0,
            "orientation": "horizontal",
            "style": "IPY_MODEL_6bea09f6da664208924f3b8fb9bca03e",
            "value": 112
          }
        },
        "75c82c03e59446c282f1d51fe9d0e34f": {
          "model_module": "@jupyter-widgets/controls",
          "model_name": "HTMLModel",
          "model_module_version": "1.5.0",
          "state": {
            "_dom_classes": [],
            "_model_module": "@jupyter-widgets/controls",
            "_model_module_version": "1.5.0",
            "_model_name": "HTMLModel",
            "_view_count": null,
            "_view_module": "@jupyter-widgets/controls",
            "_view_module_version": "1.5.0",
            "_view_name": "HTMLView",
            "description": "",
            "description_tooltip": null,
            "layout": "IPY_MODEL_e131f47a9d4e4459a794cd49e100ede6",
            "placeholder": "​",
            "style": "IPY_MODEL_36d49de9a1b44f51a18eea6e2e6a868c",
            "value": " 112/112 [00:00&lt;00:00, 841B/s]"
          }
        },
        "184c2cf9d09846df908403530c80559d": {
          "model_module": "@jupyter-widgets/base",
          "model_name": "LayoutModel",
          "model_module_version": "1.2.0",
          "state": {
            "_model_module": "@jupyter-widgets/base",
            "_model_module_version": "1.2.0",
            "_model_name": "LayoutModel",
            "_view_count": null,
            "_view_module": "@jupyter-widgets/base",
            "_view_module_version": "1.2.0",
            "_view_name": "LayoutView",
            "align_content": null,
            "align_items": null,
            "align_self": null,
            "border": null,
            "bottom": null,
            "display": null,
            "flex": null,
            "flex_flow": null,
            "grid_area": null,
            "grid_auto_columns": null,
            "grid_auto_flow": null,
            "grid_auto_rows": null,
            "grid_column": null,
            "grid_gap": null,
            "grid_row": null,
            "grid_template_areas": null,
            "grid_template_columns": null,
            "grid_template_rows": null,
            "height": null,
            "justify_content": null,
            "justify_items": null,
            "left": null,
            "margin": null,
            "max_height": null,
            "max_width": null,
            "min_height": null,
            "min_width": null,
            "object_fit": null,
            "object_position": null,
            "order": null,
            "overflow": null,
            "overflow_x": null,
            "overflow_y": null,
            "padding": null,
            "right": null,
            "top": null,
            "visibility": null,
            "width": null
          }
        },
        "eb507c41814b4b9996db721515d90e6f": {
          "model_module": "@jupyter-widgets/base",
          "model_name": "LayoutModel",
          "model_module_version": "1.2.0",
          "state": {
            "_model_module": "@jupyter-widgets/base",
            "_model_module_version": "1.2.0",
            "_model_name": "LayoutModel",
            "_view_count": null,
            "_view_module": "@jupyter-widgets/base",
            "_view_module_version": "1.2.0",
            "_view_name": "LayoutView",
            "align_content": null,
            "align_items": null,
            "align_self": null,
            "border": null,
            "bottom": null,
            "display": null,
            "flex": null,
            "flex_flow": null,
            "grid_area": null,
            "grid_auto_columns": null,
            "grid_auto_flow": null,
            "grid_auto_rows": null,
            "grid_column": null,
            "grid_gap": null,
            "grid_row": null,
            "grid_template_areas": null,
            "grid_template_columns": null,
            "grid_template_rows": null,
            "height": null,
            "justify_content": null,
            "justify_items": null,
            "left": null,
            "margin": null,
            "max_height": null,
            "max_width": null,
            "min_height": null,
            "min_width": null,
            "object_fit": null,
            "object_position": null,
            "order": null,
            "overflow": null,
            "overflow_x": null,
            "overflow_y": null,
            "padding": null,
            "right": null,
            "top": null,
            "visibility": null,
            "width": null
          }
        },
        "acf8dbbd2aae4e59851eacbf06583000": {
          "model_module": "@jupyter-widgets/controls",
          "model_name": "DescriptionStyleModel",
          "model_module_version": "1.5.0",
          "state": {
            "_model_module": "@jupyter-widgets/controls",
            "_model_module_version": "1.5.0",
            "_model_name": "DescriptionStyleModel",
            "_view_count": null,
            "_view_module": "@jupyter-widgets/base",
            "_view_module_version": "1.2.0",
            "_view_name": "StyleView",
            "description_width": ""
          }
        },
        "9a349df14a274e4494c40e912e125427": {
          "model_module": "@jupyter-widgets/base",
          "model_name": "LayoutModel",
          "model_module_version": "1.2.0",
          "state": {
            "_model_module": "@jupyter-widgets/base",
            "_model_module_version": "1.2.0",
            "_model_name": "LayoutModel",
            "_view_count": null,
            "_view_module": "@jupyter-widgets/base",
            "_view_module_version": "1.2.0",
            "_view_name": "LayoutView",
            "align_content": null,
            "align_items": null,
            "align_self": null,
            "border": null,
            "bottom": null,
            "display": null,
            "flex": null,
            "flex_flow": null,
            "grid_area": null,
            "grid_auto_columns": null,
            "grid_auto_flow": null,
            "grid_auto_rows": null,
            "grid_column": null,
            "grid_gap": null,
            "grid_row": null,
            "grid_template_areas": null,
            "grid_template_columns": null,
            "grid_template_rows": null,
            "height": null,
            "justify_content": null,
            "justify_items": null,
            "left": null,
            "margin": null,
            "max_height": null,
            "max_width": null,
            "min_height": null,
            "min_width": null,
            "object_fit": null,
            "object_position": null,
            "order": null,
            "overflow": null,
            "overflow_x": null,
            "overflow_y": null,
            "padding": null,
            "right": null,
            "top": null,
            "visibility": null,
            "width": null
          }
        },
        "6bea09f6da664208924f3b8fb9bca03e": {
          "model_module": "@jupyter-widgets/controls",
          "model_name": "ProgressStyleModel",
          "model_module_version": "1.5.0",
          "state": {
            "_model_module": "@jupyter-widgets/controls",
            "_model_module_version": "1.5.0",
            "_model_name": "ProgressStyleModel",
            "_view_count": null,
            "_view_module": "@jupyter-widgets/base",
            "_view_module_version": "1.2.0",
            "_view_name": "StyleView",
            "bar_color": null,
            "description_width": ""
          }
        },
        "e131f47a9d4e4459a794cd49e100ede6": {
          "model_module": "@jupyter-widgets/base",
          "model_name": "LayoutModel",
          "model_module_version": "1.2.0",
          "state": {
            "_model_module": "@jupyter-widgets/base",
            "_model_module_version": "1.2.0",
            "_model_name": "LayoutModel",
            "_view_count": null,
            "_view_module": "@jupyter-widgets/base",
            "_view_module_version": "1.2.0",
            "_view_name": "LayoutView",
            "align_content": null,
            "align_items": null,
            "align_self": null,
            "border": null,
            "bottom": null,
            "display": null,
            "flex": null,
            "flex_flow": null,
            "grid_area": null,
            "grid_auto_columns": null,
            "grid_auto_flow": null,
            "grid_auto_rows": null,
            "grid_column": null,
            "grid_gap": null,
            "grid_row": null,
            "grid_template_areas": null,
            "grid_template_columns": null,
            "grid_template_rows": null,
            "height": null,
            "justify_content": null,
            "justify_items": null,
            "left": null,
            "margin": null,
            "max_height": null,
            "max_width": null,
            "min_height": null,
            "min_width": null,
            "object_fit": null,
            "object_position": null,
            "order": null,
            "overflow": null,
            "overflow_x": null,
            "overflow_y": null,
            "padding": null,
            "right": null,
            "top": null,
            "visibility": null,
            "width": null
          }
        },
        "36d49de9a1b44f51a18eea6e2e6a868c": {
          "model_module": "@jupyter-widgets/controls",
          "model_name": "DescriptionStyleModel",
          "model_module_version": "1.5.0",
          "state": {
            "_model_module": "@jupyter-widgets/controls",
            "_model_module_version": "1.5.0",
            "_model_name": "DescriptionStyleModel",
            "_view_count": null,
            "_view_module": "@jupyter-widgets/base",
            "_view_module_version": "1.2.0",
            "_view_name": "StyleView",
            "description_width": ""
          }
        },
        "51637afb39a6427d9b285b4998e7ef85": {
          "model_module": "@jupyter-widgets/controls",
          "model_name": "HBoxModel",
          "model_module_version": "1.5.0",
          "state": {
            "_dom_classes": [],
            "_model_module": "@jupyter-widgets/controls",
            "_model_module_version": "1.5.0",
            "_model_name": "HBoxModel",
            "_view_count": null,
            "_view_module": "@jupyter-widgets/controls",
            "_view_module_version": "1.5.0",
            "_view_name": "HBoxView",
            "box_style": "",
            "children": [
              "IPY_MODEL_6333763f59b54e1eab7fa51d83b01d44",
              "IPY_MODEL_2d3edafdad624bbc802012fdc5b45deb",
              "IPY_MODEL_4fbc9b4ee2684d86aaabc97230d72a8d"
            ],
            "layout": "IPY_MODEL_279a1c35a6894cb786e2f088638806b3"
          }
        },
        "6333763f59b54e1eab7fa51d83b01d44": {
          "model_module": "@jupyter-widgets/controls",
          "model_name": "HTMLModel",
          "model_module_version": "1.5.0",
          "state": {
            "_dom_classes": [],
            "_model_module": "@jupyter-widgets/controls",
            "_model_module_version": "1.5.0",
            "_model_name": "HTMLModel",
            "_view_count": null,
            "_view_module": "@jupyter-widgets/controls",
            "_view_module_version": "1.5.0",
            "_view_name": "HTMLView",
            "description": "",
            "description_tooltip": null,
            "layout": "IPY_MODEL_c0d6de200e2f437e8d1bc06e220fde20",
            "placeholder": "​",
            "style": "IPY_MODEL_30caeb39f7644cfba4acbed73e298de3",
            "value": "Downloading: 100%"
          }
        },
        "2d3edafdad624bbc802012fdc5b45deb": {
          "model_module": "@jupyter-widgets/controls",
          "model_name": "FloatProgressModel",
          "model_module_version": "1.5.0",
          "state": {
            "_dom_classes": [],
            "_model_module": "@jupyter-widgets/controls",
            "_model_module_version": "1.5.0",
            "_model_name": "FloatProgressModel",
            "_view_count": null,
            "_view_module": "@jupyter-widgets/controls",
            "_view_module_version": "1.5.0",
            "_view_name": "ProgressView",
            "bar_style": "success",
            "description": "",
            "description_tooltip": null,
            "layout": "IPY_MODEL_d9c286f3d1424f6ea7334a33872e5417",
            "max": 445014353,
            "min": 0,
            "orientation": "horizontal",
            "style": "IPY_MODEL_88887deb19644ffaa53e79b2cfb72365",
            "value": 445014353
          }
        },
        "4fbc9b4ee2684d86aaabc97230d72a8d": {
          "model_module": "@jupyter-widgets/controls",
          "model_name": "HTMLModel",
          "model_module_version": "1.5.0",
          "state": {
            "_dom_classes": [],
            "_model_module": "@jupyter-widgets/controls",
            "_model_module_version": "1.5.0",
            "_model_name": "HTMLModel",
            "_view_count": null,
            "_view_module": "@jupyter-widgets/controls",
            "_view_module_version": "1.5.0",
            "_view_name": "HTMLView",
            "description": "",
            "description_tooltip": null,
            "layout": "IPY_MODEL_9d28cebd489e480482a0098c70568a56",
            "placeholder": "​",
            "style": "IPY_MODEL_3b2ea9f970734fa2ae28f2e1833a2faa",
            "value": " 424M/424M [00:13&lt;00:00, 42.7MB/s]"
          }
        },
        "279a1c35a6894cb786e2f088638806b3": {
          "model_module": "@jupyter-widgets/base",
          "model_name": "LayoutModel",
          "model_module_version": "1.2.0",
          "state": {
            "_model_module": "@jupyter-widgets/base",
            "_model_module_version": "1.2.0",
            "_model_name": "LayoutModel",
            "_view_count": null,
            "_view_module": "@jupyter-widgets/base",
            "_view_module_version": "1.2.0",
            "_view_name": "LayoutView",
            "align_content": null,
            "align_items": null,
            "align_self": null,
            "border": null,
            "bottom": null,
            "display": null,
            "flex": null,
            "flex_flow": null,
            "grid_area": null,
            "grid_auto_columns": null,
            "grid_auto_flow": null,
            "grid_auto_rows": null,
            "grid_column": null,
            "grid_gap": null,
            "grid_row": null,
            "grid_template_areas": null,
            "grid_template_columns": null,
            "grid_template_rows": null,
            "height": null,
            "justify_content": null,
            "justify_items": null,
            "left": null,
            "margin": null,
            "max_height": null,
            "max_width": null,
            "min_height": null,
            "min_width": null,
            "object_fit": null,
            "object_position": null,
            "order": null,
            "overflow": null,
            "overflow_x": null,
            "overflow_y": null,
            "padding": null,
            "right": null,
            "top": null,
            "visibility": null,
            "width": null
          }
        },
        "c0d6de200e2f437e8d1bc06e220fde20": {
          "model_module": "@jupyter-widgets/base",
          "model_name": "LayoutModel",
          "model_module_version": "1.2.0",
          "state": {
            "_model_module": "@jupyter-widgets/base",
            "_model_module_version": "1.2.0",
            "_model_name": "LayoutModel",
            "_view_count": null,
            "_view_module": "@jupyter-widgets/base",
            "_view_module_version": "1.2.0",
            "_view_name": "LayoutView",
            "align_content": null,
            "align_items": null,
            "align_self": null,
            "border": null,
            "bottom": null,
            "display": null,
            "flex": null,
            "flex_flow": null,
            "grid_area": null,
            "grid_auto_columns": null,
            "grid_auto_flow": null,
            "grid_auto_rows": null,
            "grid_column": null,
            "grid_gap": null,
            "grid_row": null,
            "grid_template_areas": null,
            "grid_template_columns": null,
            "grid_template_rows": null,
            "height": null,
            "justify_content": null,
            "justify_items": null,
            "left": null,
            "margin": null,
            "max_height": null,
            "max_width": null,
            "min_height": null,
            "min_width": null,
            "object_fit": null,
            "object_position": null,
            "order": null,
            "overflow": null,
            "overflow_x": null,
            "overflow_y": null,
            "padding": null,
            "right": null,
            "top": null,
            "visibility": null,
            "width": null
          }
        },
        "30caeb39f7644cfba4acbed73e298de3": {
          "model_module": "@jupyter-widgets/controls",
          "model_name": "DescriptionStyleModel",
          "model_module_version": "1.5.0",
          "state": {
            "_model_module": "@jupyter-widgets/controls",
            "_model_module_version": "1.5.0",
            "_model_name": "DescriptionStyleModel",
            "_view_count": null,
            "_view_module": "@jupyter-widgets/base",
            "_view_module_version": "1.2.0",
            "_view_name": "StyleView",
            "description_width": ""
          }
        },
        "d9c286f3d1424f6ea7334a33872e5417": {
          "model_module": "@jupyter-widgets/base",
          "model_name": "LayoutModel",
          "model_module_version": "1.2.0",
          "state": {
            "_model_module": "@jupyter-widgets/base",
            "_model_module_version": "1.2.0",
            "_model_name": "LayoutModel",
            "_view_count": null,
            "_view_module": "@jupyter-widgets/base",
            "_view_module_version": "1.2.0",
            "_view_name": "LayoutView",
            "align_content": null,
            "align_items": null,
            "align_self": null,
            "border": null,
            "bottom": null,
            "display": null,
            "flex": null,
            "flex_flow": null,
            "grid_area": null,
            "grid_auto_columns": null,
            "grid_auto_flow": null,
            "grid_auto_rows": null,
            "grid_column": null,
            "grid_gap": null,
            "grid_row": null,
            "grid_template_areas": null,
            "grid_template_columns": null,
            "grid_template_rows": null,
            "height": null,
            "justify_content": null,
            "justify_items": null,
            "left": null,
            "margin": null,
            "max_height": null,
            "max_width": null,
            "min_height": null,
            "min_width": null,
            "object_fit": null,
            "object_position": null,
            "order": null,
            "overflow": null,
            "overflow_x": null,
            "overflow_y": null,
            "padding": null,
            "right": null,
            "top": null,
            "visibility": null,
            "width": null
          }
        },
        "88887deb19644ffaa53e79b2cfb72365": {
          "model_module": "@jupyter-widgets/controls",
          "model_name": "ProgressStyleModel",
          "model_module_version": "1.5.0",
          "state": {
            "_model_module": "@jupyter-widgets/controls",
            "_model_module_version": "1.5.0",
            "_model_name": "ProgressStyleModel",
            "_view_count": null,
            "_view_module": "@jupyter-widgets/base",
            "_view_module_version": "1.2.0",
            "_view_name": "StyleView",
            "bar_color": null,
            "description_width": ""
          }
        },
        "9d28cebd489e480482a0098c70568a56": {
          "model_module": "@jupyter-widgets/base",
          "model_name": "LayoutModel",
          "model_module_version": "1.2.0",
          "state": {
            "_model_module": "@jupyter-widgets/base",
            "_model_module_version": "1.2.0",
            "_model_name": "LayoutModel",
            "_view_count": null,
            "_view_module": "@jupyter-widgets/base",
            "_view_module_version": "1.2.0",
            "_view_name": "LayoutView",
            "align_content": null,
            "align_items": null,
            "align_self": null,
            "border": null,
            "bottom": null,
            "display": null,
            "flex": null,
            "flex_flow": null,
            "grid_area": null,
            "grid_auto_columns": null,
            "grid_auto_flow": null,
            "grid_auto_rows": null,
            "grid_column": null,
            "grid_gap": null,
            "grid_row": null,
            "grid_template_areas": null,
            "grid_template_columns": null,
            "grid_template_rows": null,
            "height": null,
            "justify_content": null,
            "justify_items": null,
            "left": null,
            "margin": null,
            "max_height": null,
            "max_width": null,
            "min_height": null,
            "min_width": null,
            "object_fit": null,
            "object_position": null,
            "order": null,
            "overflow": null,
            "overflow_x": null,
            "overflow_y": null,
            "padding": null,
            "right": null,
            "top": null,
            "visibility": null,
            "width": null
          }
        },
        "3b2ea9f970734fa2ae28f2e1833a2faa": {
          "model_module": "@jupyter-widgets/controls",
          "model_name": "DescriptionStyleModel",
          "model_module_version": "1.5.0",
          "state": {
            "_model_module": "@jupyter-widgets/controls",
            "_model_module_version": "1.5.0",
            "_model_name": "DescriptionStyleModel",
            "_view_count": null,
            "_view_module": "@jupyter-widgets/base",
            "_view_module_version": "1.2.0",
            "_view_name": "StyleView",
            "description_width": ""
          }
        },
        "7a5b70c1be534096bc221113cd8bc42b": {
          "model_module": "@jupyter-widgets/controls",
          "model_name": "HBoxModel",
          "model_module_version": "1.5.0",
          "state": {
            "_dom_classes": [],
            "_model_module": "@jupyter-widgets/controls",
            "_model_module_version": "1.5.0",
            "_model_name": "HBoxModel",
            "_view_count": null,
            "_view_module": "@jupyter-widgets/controls",
            "_view_module_version": "1.5.0",
            "_view_name": "HBoxView",
            "box_style": "",
            "children": [
              "IPY_MODEL_2be3fcd142c840058e6adaa6dbc893e9",
              "IPY_MODEL_48ba51c3476543989444b679b1901697",
              "IPY_MODEL_203e1112041f4cd6aa329044b2bc2053"
            ],
            "layout": "IPY_MODEL_2ce1b6a9193f49ed8557bbe3425241c1"
          }
        },
        "2be3fcd142c840058e6adaa6dbc893e9": {
          "model_module": "@jupyter-widgets/controls",
          "model_name": "HTMLModel",
          "model_module_version": "1.5.0",
          "state": {
            "_dom_classes": [],
            "_model_module": "@jupyter-widgets/controls",
            "_model_module_version": "1.5.0",
            "_model_name": "HTMLModel",
            "_view_count": null,
            "_view_module": "@jupyter-widgets/controls",
            "_view_module_version": "1.5.0",
            "_view_name": "HTMLView",
            "description": "",
            "description_tooltip": null,
            "layout": "IPY_MODEL_503f210679ad4ae190175e627275274d",
            "placeholder": "​",
            "style": "IPY_MODEL_3bdb42f030784f63bdf47acabb7b63e5",
            "value": "100%"
          }
        },
        "48ba51c3476543989444b679b1901697": {
          "model_module": "@jupyter-widgets/controls",
          "model_name": "FloatProgressModel",
          "model_module_version": "1.5.0",
          "state": {
            "_dom_classes": [],
            "_model_module": "@jupyter-widgets/controls",
            "_model_module_version": "1.5.0",
            "_model_name": "FloatProgressModel",
            "_view_count": null,
            "_view_module": "@jupyter-widgets/controls",
            "_view_module_version": "1.5.0",
            "_view_name": "ProgressView",
            "bar_style": "success",
            "description": "",
            "description_tooltip": null,
            "layout": "IPY_MODEL_bd283f5bbf53424c9bfcad358475b005",
            "max": 1,
            "min": 0,
            "orientation": "horizontal",
            "style": "IPY_MODEL_7f3430e8760d48d98f6c7b72bda28d6b",
            "value": 1
          }
        },
        "203e1112041f4cd6aa329044b2bc2053": {
          "model_module": "@jupyter-widgets/controls",
          "model_name": "HTMLModel",
          "model_module_version": "1.5.0",
          "state": {
            "_dom_classes": [],
            "_model_module": "@jupyter-widgets/controls",
            "_model_module_version": "1.5.0",
            "_model_name": "HTMLModel",
            "_view_count": null,
            "_view_module": "@jupyter-widgets/controls",
            "_view_module_version": "1.5.0",
            "_view_name": "HTMLView",
            "description": "",
            "description_tooltip": null,
            "layout": "IPY_MODEL_afadd90f978a45adbf08b1b2725857c7",
            "placeholder": "​",
            "style": "IPY_MODEL_30f92c7e516a46bf8f3c1f5e5a9e95d0",
            "value": " 1/1 [00:00&lt;00:00,  8.83ba/s]"
          }
        },
        "2ce1b6a9193f49ed8557bbe3425241c1": {
          "model_module": "@jupyter-widgets/base",
          "model_name": "LayoutModel",
          "model_module_version": "1.2.0",
          "state": {
            "_model_module": "@jupyter-widgets/base",
            "_model_module_version": "1.2.0",
            "_model_name": "LayoutModel",
            "_view_count": null,
            "_view_module": "@jupyter-widgets/base",
            "_view_module_version": "1.2.0",
            "_view_name": "LayoutView",
            "align_content": null,
            "align_items": null,
            "align_self": null,
            "border": null,
            "bottom": null,
            "display": null,
            "flex": null,
            "flex_flow": null,
            "grid_area": null,
            "grid_auto_columns": null,
            "grid_auto_flow": null,
            "grid_auto_rows": null,
            "grid_column": null,
            "grid_gap": null,
            "grid_row": null,
            "grid_template_areas": null,
            "grid_template_columns": null,
            "grid_template_rows": null,
            "height": null,
            "justify_content": null,
            "justify_items": null,
            "left": null,
            "margin": null,
            "max_height": null,
            "max_width": null,
            "min_height": null,
            "min_width": null,
            "object_fit": null,
            "object_position": null,
            "order": null,
            "overflow": null,
            "overflow_x": null,
            "overflow_y": null,
            "padding": null,
            "right": null,
            "top": null,
            "visibility": null,
            "width": null
          }
        },
        "503f210679ad4ae190175e627275274d": {
          "model_module": "@jupyter-widgets/base",
          "model_name": "LayoutModel",
          "model_module_version": "1.2.0",
          "state": {
            "_model_module": "@jupyter-widgets/base",
            "_model_module_version": "1.2.0",
            "_model_name": "LayoutModel",
            "_view_count": null,
            "_view_module": "@jupyter-widgets/base",
            "_view_module_version": "1.2.0",
            "_view_name": "LayoutView",
            "align_content": null,
            "align_items": null,
            "align_self": null,
            "border": null,
            "bottom": null,
            "display": null,
            "flex": null,
            "flex_flow": null,
            "grid_area": null,
            "grid_auto_columns": null,
            "grid_auto_flow": null,
            "grid_auto_rows": null,
            "grid_column": null,
            "grid_gap": null,
            "grid_row": null,
            "grid_template_areas": null,
            "grid_template_columns": null,
            "grid_template_rows": null,
            "height": null,
            "justify_content": null,
            "justify_items": null,
            "left": null,
            "margin": null,
            "max_height": null,
            "max_width": null,
            "min_height": null,
            "min_width": null,
            "object_fit": null,
            "object_position": null,
            "order": null,
            "overflow": null,
            "overflow_x": null,
            "overflow_y": null,
            "padding": null,
            "right": null,
            "top": null,
            "visibility": null,
            "width": null
          }
        },
        "3bdb42f030784f63bdf47acabb7b63e5": {
          "model_module": "@jupyter-widgets/controls",
          "model_name": "DescriptionStyleModel",
          "model_module_version": "1.5.0",
          "state": {
            "_model_module": "@jupyter-widgets/controls",
            "_model_module_version": "1.5.0",
            "_model_name": "DescriptionStyleModel",
            "_view_count": null,
            "_view_module": "@jupyter-widgets/base",
            "_view_module_version": "1.2.0",
            "_view_name": "StyleView",
            "description_width": ""
          }
        },
        "bd283f5bbf53424c9bfcad358475b005": {
          "model_module": "@jupyter-widgets/base",
          "model_name": "LayoutModel",
          "model_module_version": "1.2.0",
          "state": {
            "_model_module": "@jupyter-widgets/base",
            "_model_module_version": "1.2.0",
            "_model_name": "LayoutModel",
            "_view_count": null,
            "_view_module": "@jupyter-widgets/base",
            "_view_module_version": "1.2.0",
            "_view_name": "LayoutView",
            "align_content": null,
            "align_items": null,
            "align_self": null,
            "border": null,
            "bottom": null,
            "display": null,
            "flex": null,
            "flex_flow": null,
            "grid_area": null,
            "grid_auto_columns": null,
            "grid_auto_flow": null,
            "grid_auto_rows": null,
            "grid_column": null,
            "grid_gap": null,
            "grid_row": null,
            "grid_template_areas": null,
            "grid_template_columns": null,
            "grid_template_rows": null,
            "height": null,
            "justify_content": null,
            "justify_items": null,
            "left": null,
            "margin": null,
            "max_height": null,
            "max_width": null,
            "min_height": null,
            "min_width": null,
            "object_fit": null,
            "object_position": null,
            "order": null,
            "overflow": null,
            "overflow_x": null,
            "overflow_y": null,
            "padding": null,
            "right": null,
            "top": null,
            "visibility": null,
            "width": null
          }
        },
        "7f3430e8760d48d98f6c7b72bda28d6b": {
          "model_module": "@jupyter-widgets/controls",
          "model_name": "ProgressStyleModel",
          "model_module_version": "1.5.0",
          "state": {
            "_model_module": "@jupyter-widgets/controls",
            "_model_module_version": "1.5.0",
            "_model_name": "ProgressStyleModel",
            "_view_count": null,
            "_view_module": "@jupyter-widgets/base",
            "_view_module_version": "1.2.0",
            "_view_name": "StyleView",
            "bar_color": null,
            "description_width": ""
          }
        },
        "afadd90f978a45adbf08b1b2725857c7": {
          "model_module": "@jupyter-widgets/base",
          "model_name": "LayoutModel",
          "model_module_version": "1.2.0",
          "state": {
            "_model_module": "@jupyter-widgets/base",
            "_model_module_version": "1.2.0",
            "_model_name": "LayoutModel",
            "_view_count": null,
            "_view_module": "@jupyter-widgets/base",
            "_view_module_version": "1.2.0",
            "_view_name": "LayoutView",
            "align_content": null,
            "align_items": null,
            "align_self": null,
            "border": null,
            "bottom": null,
            "display": null,
            "flex": null,
            "flex_flow": null,
            "grid_area": null,
            "grid_auto_columns": null,
            "grid_auto_flow": null,
            "grid_auto_rows": null,
            "grid_column": null,
            "grid_gap": null,
            "grid_row": null,
            "grid_template_areas": null,
            "grid_template_columns": null,
            "grid_template_rows": null,
            "height": null,
            "justify_content": null,
            "justify_items": null,
            "left": null,
            "margin": null,
            "max_height": null,
            "max_width": null,
            "min_height": null,
            "min_width": null,
            "object_fit": null,
            "object_position": null,
            "order": null,
            "overflow": null,
            "overflow_x": null,
            "overflow_y": null,
            "padding": null,
            "right": null,
            "top": null,
            "visibility": null,
            "width": null
          }
        },
        "30f92c7e516a46bf8f3c1f5e5a9e95d0": {
          "model_module": "@jupyter-widgets/controls",
          "model_name": "DescriptionStyleModel",
          "model_module_version": "1.5.0",
          "state": {
            "_model_module": "@jupyter-widgets/controls",
            "_model_module_version": "1.5.0",
            "_model_name": "DescriptionStyleModel",
            "_view_count": null,
            "_view_module": "@jupyter-widgets/base",
            "_view_module_version": "1.2.0",
            "_view_name": "StyleView",
            "description_width": ""
          }
        },
        "705a2dbe14114dcc85dfb5d9bf196791": {
          "model_module": "@jupyter-widgets/controls",
          "model_name": "HBoxModel",
          "model_module_version": "1.5.0",
          "state": {
            "_dom_classes": [],
            "_model_module": "@jupyter-widgets/controls",
            "_model_module_version": "1.5.0",
            "_model_name": "HBoxModel",
            "_view_count": null,
            "_view_module": "@jupyter-widgets/controls",
            "_view_module_version": "1.5.0",
            "_view_name": "HBoxView",
            "box_style": "",
            "children": [
              "IPY_MODEL_dfd6578f14c8459895056bac762f81d3",
              "IPY_MODEL_6539a8585f174e2d8a79b5ed12906cfc",
              "IPY_MODEL_52c7915112ae40dd8dfabb0732d6b71b"
            ],
            "layout": "IPY_MODEL_96135dffd8714186bb598384a23067b2"
          }
        },
        "dfd6578f14c8459895056bac762f81d3": {
          "model_module": "@jupyter-widgets/controls",
          "model_name": "HTMLModel",
          "model_module_version": "1.5.0",
          "state": {
            "_dom_classes": [],
            "_model_module": "@jupyter-widgets/controls",
            "_model_module_version": "1.5.0",
            "_model_name": "HTMLModel",
            "_view_count": null,
            "_view_module": "@jupyter-widgets/controls",
            "_view_module_version": "1.5.0",
            "_view_name": "HTMLView",
            "description": "",
            "description_tooltip": null,
            "layout": "IPY_MODEL_eaea06637101429fbd0876a22a2bc219",
            "placeholder": "​",
            "style": "IPY_MODEL_1727fed753d747c6b420d6fd423c89ab",
            "value": "100%"
          }
        },
        "6539a8585f174e2d8a79b5ed12906cfc": {
          "model_module": "@jupyter-widgets/controls",
          "model_name": "FloatProgressModel",
          "model_module_version": "1.5.0",
          "state": {
            "_dom_classes": [],
            "_model_module": "@jupyter-widgets/controls",
            "_model_module_version": "1.5.0",
            "_model_name": "FloatProgressModel",
            "_view_count": null,
            "_view_module": "@jupyter-widgets/controls",
            "_view_module_version": "1.5.0",
            "_view_name": "ProgressView",
            "bar_style": "success",
            "description": "",
            "description_tooltip": null,
            "layout": "IPY_MODEL_f23821c5c4b345bb8bb5a93dc668bdbd",
            "max": 1,
            "min": 0,
            "orientation": "horizontal",
            "style": "IPY_MODEL_f0e4156d37fc4ccdb808d0e4dcfded0d",
            "value": 1
          }
        },
        "52c7915112ae40dd8dfabb0732d6b71b": {
          "model_module": "@jupyter-widgets/controls",
          "model_name": "HTMLModel",
          "model_module_version": "1.5.0",
          "state": {
            "_dom_classes": [],
            "_model_module": "@jupyter-widgets/controls",
            "_model_module_version": "1.5.0",
            "_model_name": "HTMLModel",
            "_view_count": null,
            "_view_module": "@jupyter-widgets/controls",
            "_view_module_version": "1.5.0",
            "_view_name": "HTMLView",
            "description": "",
            "description_tooltip": null,
            "layout": "IPY_MODEL_a354453ef6de400bb7f1edf11707ecf7",
            "placeholder": "​",
            "style": "IPY_MODEL_bfb5f74ebfbe4e4e9c52cb76f148624d",
            "value": " 1/1 [00:00&lt;00:00,  7.06ba/s]"
          }
        },
        "96135dffd8714186bb598384a23067b2": {
          "model_module": "@jupyter-widgets/base",
          "model_name": "LayoutModel",
          "model_module_version": "1.2.0",
          "state": {
            "_model_module": "@jupyter-widgets/base",
            "_model_module_version": "1.2.0",
            "_model_name": "LayoutModel",
            "_view_count": null,
            "_view_module": "@jupyter-widgets/base",
            "_view_module_version": "1.2.0",
            "_view_name": "LayoutView",
            "align_content": null,
            "align_items": null,
            "align_self": null,
            "border": null,
            "bottom": null,
            "display": null,
            "flex": null,
            "flex_flow": null,
            "grid_area": null,
            "grid_auto_columns": null,
            "grid_auto_flow": null,
            "grid_auto_rows": null,
            "grid_column": null,
            "grid_gap": null,
            "grid_row": null,
            "grid_template_areas": null,
            "grid_template_columns": null,
            "grid_template_rows": null,
            "height": null,
            "justify_content": null,
            "justify_items": null,
            "left": null,
            "margin": null,
            "max_height": null,
            "max_width": null,
            "min_height": null,
            "min_width": null,
            "object_fit": null,
            "object_position": null,
            "order": null,
            "overflow": null,
            "overflow_x": null,
            "overflow_y": null,
            "padding": null,
            "right": null,
            "top": null,
            "visibility": null,
            "width": null
          }
        },
        "eaea06637101429fbd0876a22a2bc219": {
          "model_module": "@jupyter-widgets/base",
          "model_name": "LayoutModel",
          "model_module_version": "1.2.0",
          "state": {
            "_model_module": "@jupyter-widgets/base",
            "_model_module_version": "1.2.0",
            "_model_name": "LayoutModel",
            "_view_count": null,
            "_view_module": "@jupyter-widgets/base",
            "_view_module_version": "1.2.0",
            "_view_name": "LayoutView",
            "align_content": null,
            "align_items": null,
            "align_self": null,
            "border": null,
            "bottom": null,
            "display": null,
            "flex": null,
            "flex_flow": null,
            "grid_area": null,
            "grid_auto_columns": null,
            "grid_auto_flow": null,
            "grid_auto_rows": null,
            "grid_column": null,
            "grid_gap": null,
            "grid_row": null,
            "grid_template_areas": null,
            "grid_template_columns": null,
            "grid_template_rows": null,
            "height": null,
            "justify_content": null,
            "justify_items": null,
            "left": null,
            "margin": null,
            "max_height": null,
            "max_width": null,
            "min_height": null,
            "min_width": null,
            "object_fit": null,
            "object_position": null,
            "order": null,
            "overflow": null,
            "overflow_x": null,
            "overflow_y": null,
            "padding": null,
            "right": null,
            "top": null,
            "visibility": null,
            "width": null
          }
        },
        "1727fed753d747c6b420d6fd423c89ab": {
          "model_module": "@jupyter-widgets/controls",
          "model_name": "DescriptionStyleModel",
          "model_module_version": "1.5.0",
          "state": {
            "_model_module": "@jupyter-widgets/controls",
            "_model_module_version": "1.5.0",
            "_model_name": "DescriptionStyleModel",
            "_view_count": null,
            "_view_module": "@jupyter-widgets/base",
            "_view_module_version": "1.2.0",
            "_view_name": "StyleView",
            "description_width": ""
          }
        },
        "f23821c5c4b345bb8bb5a93dc668bdbd": {
          "model_module": "@jupyter-widgets/base",
          "model_name": "LayoutModel",
          "model_module_version": "1.2.0",
          "state": {
            "_model_module": "@jupyter-widgets/base",
            "_model_module_version": "1.2.0",
            "_model_name": "LayoutModel",
            "_view_count": null,
            "_view_module": "@jupyter-widgets/base",
            "_view_module_version": "1.2.0",
            "_view_name": "LayoutView",
            "align_content": null,
            "align_items": null,
            "align_self": null,
            "border": null,
            "bottom": null,
            "display": null,
            "flex": null,
            "flex_flow": null,
            "grid_area": null,
            "grid_auto_columns": null,
            "grid_auto_flow": null,
            "grid_auto_rows": null,
            "grid_column": null,
            "grid_gap": null,
            "grid_row": null,
            "grid_template_areas": null,
            "grid_template_columns": null,
            "grid_template_rows": null,
            "height": null,
            "justify_content": null,
            "justify_items": null,
            "left": null,
            "margin": null,
            "max_height": null,
            "max_width": null,
            "min_height": null,
            "min_width": null,
            "object_fit": null,
            "object_position": null,
            "order": null,
            "overflow": null,
            "overflow_x": null,
            "overflow_y": null,
            "padding": null,
            "right": null,
            "top": null,
            "visibility": null,
            "width": null
          }
        },
        "f0e4156d37fc4ccdb808d0e4dcfded0d": {
          "model_module": "@jupyter-widgets/controls",
          "model_name": "ProgressStyleModel",
          "model_module_version": "1.5.0",
          "state": {
            "_model_module": "@jupyter-widgets/controls",
            "_model_module_version": "1.5.0",
            "_model_name": "ProgressStyleModel",
            "_view_count": null,
            "_view_module": "@jupyter-widgets/base",
            "_view_module_version": "1.2.0",
            "_view_name": "StyleView",
            "bar_color": null,
            "description_width": ""
          }
        },
        "a354453ef6de400bb7f1edf11707ecf7": {
          "model_module": "@jupyter-widgets/base",
          "model_name": "LayoutModel",
          "model_module_version": "1.2.0",
          "state": {
            "_model_module": "@jupyter-widgets/base",
            "_model_module_version": "1.2.0",
            "_model_name": "LayoutModel",
            "_view_count": null,
            "_view_module": "@jupyter-widgets/base",
            "_view_module_version": "1.2.0",
            "_view_name": "LayoutView",
            "align_content": null,
            "align_items": null,
            "align_self": null,
            "border": null,
            "bottom": null,
            "display": null,
            "flex": null,
            "flex_flow": null,
            "grid_area": null,
            "grid_auto_columns": null,
            "grid_auto_flow": null,
            "grid_auto_rows": null,
            "grid_column": null,
            "grid_gap": null,
            "grid_row": null,
            "grid_template_areas": null,
            "grid_template_columns": null,
            "grid_template_rows": null,
            "height": null,
            "justify_content": null,
            "justify_items": null,
            "left": null,
            "margin": null,
            "max_height": null,
            "max_width": null,
            "min_height": null,
            "min_width": null,
            "object_fit": null,
            "object_position": null,
            "order": null,
            "overflow": null,
            "overflow_x": null,
            "overflow_y": null,
            "padding": null,
            "right": null,
            "top": null,
            "visibility": null,
            "width": null
          }
        },
        "bfb5f74ebfbe4e4e9c52cb76f148624d": {
          "model_module": "@jupyter-widgets/controls",
          "model_name": "DescriptionStyleModel",
          "model_module_version": "1.5.0",
          "state": {
            "_model_module": "@jupyter-widgets/controls",
            "_model_module_version": "1.5.0",
            "_model_name": "DescriptionStyleModel",
            "_view_count": null,
            "_view_module": "@jupyter-widgets/base",
            "_view_module_version": "1.2.0",
            "_view_name": "StyleView",
            "description_width": ""
          }
        },
        "47c82152a3f543fbb6a4e892693124c1": {
          "model_module": "@jupyter-widgets/controls",
          "model_name": "HBoxModel",
          "model_module_version": "1.5.0",
          "state": {
            "_dom_classes": [],
            "_model_module": "@jupyter-widgets/controls",
            "_model_module_version": "1.5.0",
            "_model_name": "HBoxModel",
            "_view_count": null,
            "_view_module": "@jupyter-widgets/controls",
            "_view_module_version": "1.5.0",
            "_view_name": "HBoxView",
            "box_style": "",
            "children": [
              "IPY_MODEL_dedde5baf06343eeb704d3e928b1a5f2",
              "IPY_MODEL_ac14997efda946638c6a562a1f88cb4a",
              "IPY_MODEL_87def36d2a7646fc8ee8f79f48205f10"
            ],
            "layout": "IPY_MODEL_0abb050ad8a54759a3bc8f7a3e479286"
          }
        },
        "dedde5baf06343eeb704d3e928b1a5f2": {
          "model_module": "@jupyter-widgets/controls",
          "model_name": "HTMLModel",
          "model_module_version": "1.5.0",
          "state": {
            "_dom_classes": [],
            "_model_module": "@jupyter-widgets/controls",
            "_model_module_version": "1.5.0",
            "_model_name": "HTMLModel",
            "_view_count": null,
            "_view_module": "@jupyter-widgets/controls",
            "_view_module_version": "1.5.0",
            "_view_name": "HTMLView",
            "description": "",
            "description_tooltip": null,
            "layout": "IPY_MODEL_84e456f8595d4bb485e7763334a12fa2",
            "placeholder": "​",
            "style": "IPY_MODEL_d76e51bd9f714eb48089c59a312b567d",
            "value": "Downloading: 100%"
          }
        },
        "ac14997efda946638c6a562a1f88cb4a": {
          "model_module": "@jupyter-widgets/controls",
          "model_name": "FloatProgressModel",
          "model_module_version": "1.5.0",
          "state": {
            "_dom_classes": [],
            "_model_module": "@jupyter-widgets/controls",
            "_model_module_version": "1.5.0",
            "_model_name": "FloatProgressModel",
            "_view_count": null,
            "_view_module": "@jupyter-widgets/controls",
            "_view_module_version": "1.5.0",
            "_view_name": "ProgressView",
            "bar_style": "success",
            "description": "",
            "description_tooltip": null,
            "layout": "IPY_MODEL_e0932dee8d5d4b3e9760ad0f01642142",
            "max": 545136632,
            "min": 0,
            "orientation": "horizontal",
            "style": "IPY_MODEL_0234cec67ff74545a188cd693e9a3be9",
            "value": 545136632
          }
        },
        "87def36d2a7646fc8ee8f79f48205f10": {
          "model_module": "@jupyter-widgets/controls",
          "model_name": "HTMLModel",
          "model_module_version": "1.5.0",
          "state": {
            "_dom_classes": [],
            "_model_module": "@jupyter-widgets/controls",
            "_model_module_version": "1.5.0",
            "_model_name": "HTMLModel",
            "_view_count": null,
            "_view_module": "@jupyter-widgets/controls",
            "_view_module_version": "1.5.0",
            "_view_name": "HTMLView",
            "description": "",
            "description_tooltip": null,
            "layout": "IPY_MODEL_9ef0873049b44b0f839e040bbd2637ac",
            "placeholder": "​",
            "style": "IPY_MODEL_8dcebb0f88e941b388006cac5ecbc5cf",
            "value": " 520M/520M [00:14&lt;00:00, 39.2MB/s]"
          }
        },
        "0abb050ad8a54759a3bc8f7a3e479286": {
          "model_module": "@jupyter-widgets/base",
          "model_name": "LayoutModel",
          "model_module_version": "1.2.0",
          "state": {
            "_model_module": "@jupyter-widgets/base",
            "_model_module_version": "1.2.0",
            "_model_name": "LayoutModel",
            "_view_count": null,
            "_view_module": "@jupyter-widgets/base",
            "_view_module_version": "1.2.0",
            "_view_name": "LayoutView",
            "align_content": null,
            "align_items": null,
            "align_self": null,
            "border": null,
            "bottom": null,
            "display": null,
            "flex": null,
            "flex_flow": null,
            "grid_area": null,
            "grid_auto_columns": null,
            "grid_auto_flow": null,
            "grid_auto_rows": null,
            "grid_column": null,
            "grid_gap": null,
            "grid_row": null,
            "grid_template_areas": null,
            "grid_template_columns": null,
            "grid_template_rows": null,
            "height": null,
            "justify_content": null,
            "justify_items": null,
            "left": null,
            "margin": null,
            "max_height": null,
            "max_width": null,
            "min_height": null,
            "min_width": null,
            "object_fit": null,
            "object_position": null,
            "order": null,
            "overflow": null,
            "overflow_x": null,
            "overflow_y": null,
            "padding": null,
            "right": null,
            "top": null,
            "visibility": null,
            "width": null
          }
        },
        "84e456f8595d4bb485e7763334a12fa2": {
          "model_module": "@jupyter-widgets/base",
          "model_name": "LayoutModel",
          "model_module_version": "1.2.0",
          "state": {
            "_model_module": "@jupyter-widgets/base",
            "_model_module_version": "1.2.0",
            "_model_name": "LayoutModel",
            "_view_count": null,
            "_view_module": "@jupyter-widgets/base",
            "_view_module_version": "1.2.0",
            "_view_name": "LayoutView",
            "align_content": null,
            "align_items": null,
            "align_self": null,
            "border": null,
            "bottom": null,
            "display": null,
            "flex": null,
            "flex_flow": null,
            "grid_area": null,
            "grid_auto_columns": null,
            "grid_auto_flow": null,
            "grid_auto_rows": null,
            "grid_column": null,
            "grid_gap": null,
            "grid_row": null,
            "grid_template_areas": null,
            "grid_template_columns": null,
            "grid_template_rows": null,
            "height": null,
            "justify_content": null,
            "justify_items": null,
            "left": null,
            "margin": null,
            "max_height": null,
            "max_width": null,
            "min_height": null,
            "min_width": null,
            "object_fit": null,
            "object_position": null,
            "order": null,
            "overflow": null,
            "overflow_x": null,
            "overflow_y": null,
            "padding": null,
            "right": null,
            "top": null,
            "visibility": null,
            "width": null
          }
        },
        "d76e51bd9f714eb48089c59a312b567d": {
          "model_module": "@jupyter-widgets/controls",
          "model_name": "DescriptionStyleModel",
          "model_module_version": "1.5.0",
          "state": {
            "_model_module": "@jupyter-widgets/controls",
            "_model_module_version": "1.5.0",
            "_model_name": "DescriptionStyleModel",
            "_view_count": null,
            "_view_module": "@jupyter-widgets/base",
            "_view_module_version": "1.2.0",
            "_view_name": "StyleView",
            "description_width": ""
          }
        },
        "e0932dee8d5d4b3e9760ad0f01642142": {
          "model_module": "@jupyter-widgets/base",
          "model_name": "LayoutModel",
          "model_module_version": "1.2.0",
          "state": {
            "_model_module": "@jupyter-widgets/base",
            "_model_module_version": "1.2.0",
            "_model_name": "LayoutModel",
            "_view_count": null,
            "_view_module": "@jupyter-widgets/base",
            "_view_module_version": "1.2.0",
            "_view_name": "LayoutView",
            "align_content": null,
            "align_items": null,
            "align_self": null,
            "border": null,
            "bottom": null,
            "display": null,
            "flex": null,
            "flex_flow": null,
            "grid_area": null,
            "grid_auto_columns": null,
            "grid_auto_flow": null,
            "grid_auto_rows": null,
            "grid_column": null,
            "grid_gap": null,
            "grid_row": null,
            "grid_template_areas": null,
            "grid_template_columns": null,
            "grid_template_rows": null,
            "height": null,
            "justify_content": null,
            "justify_items": null,
            "left": null,
            "margin": null,
            "max_height": null,
            "max_width": null,
            "min_height": null,
            "min_width": null,
            "object_fit": null,
            "object_position": null,
            "order": null,
            "overflow": null,
            "overflow_x": null,
            "overflow_y": null,
            "padding": null,
            "right": null,
            "top": null,
            "visibility": null,
            "width": null
          }
        },
        "0234cec67ff74545a188cd693e9a3be9": {
          "model_module": "@jupyter-widgets/controls",
          "model_name": "ProgressStyleModel",
          "model_module_version": "1.5.0",
          "state": {
            "_model_module": "@jupyter-widgets/controls",
            "_model_module_version": "1.5.0",
            "_model_name": "ProgressStyleModel",
            "_view_count": null,
            "_view_module": "@jupyter-widgets/base",
            "_view_module_version": "1.2.0",
            "_view_name": "StyleView",
            "bar_color": null,
            "description_width": ""
          }
        },
        "9ef0873049b44b0f839e040bbd2637ac": {
          "model_module": "@jupyter-widgets/base",
          "model_name": "LayoutModel",
          "model_module_version": "1.2.0",
          "state": {
            "_model_module": "@jupyter-widgets/base",
            "_model_module_version": "1.2.0",
            "_model_name": "LayoutModel",
            "_view_count": null,
            "_view_module": "@jupyter-widgets/base",
            "_view_module_version": "1.2.0",
            "_view_name": "LayoutView",
            "align_content": null,
            "align_items": null,
            "align_self": null,
            "border": null,
            "bottom": null,
            "display": null,
            "flex": null,
            "flex_flow": null,
            "grid_area": null,
            "grid_auto_columns": null,
            "grid_auto_flow": null,
            "grid_auto_rows": null,
            "grid_column": null,
            "grid_gap": null,
            "grid_row": null,
            "grid_template_areas": null,
            "grid_template_columns": null,
            "grid_template_rows": null,
            "height": null,
            "justify_content": null,
            "justify_items": null,
            "left": null,
            "margin": null,
            "max_height": null,
            "max_width": null,
            "min_height": null,
            "min_width": null,
            "object_fit": null,
            "object_position": null,
            "order": null,
            "overflow": null,
            "overflow_x": null,
            "overflow_y": null,
            "padding": null,
            "right": null,
            "top": null,
            "visibility": null,
            "width": null
          }
        },
        "8dcebb0f88e941b388006cac5ecbc5cf": {
          "model_module": "@jupyter-widgets/controls",
          "model_name": "DescriptionStyleModel",
          "model_module_version": "1.5.0",
          "state": {
            "_model_module": "@jupyter-widgets/controls",
            "_model_module_version": "1.5.0",
            "_model_name": "DescriptionStyleModel",
            "_view_count": null,
            "_view_module": "@jupyter-widgets/base",
            "_view_module_version": "1.2.0",
            "_view_name": "StyleView",
            "description_width": ""
          }
        },
        "d4a8119bcdda4108ae6646850d003d96": {
          "model_module": "@jupyter-widgets/controls",
          "model_name": "HBoxModel",
          "model_module_version": "1.5.0",
          "state": {
            "_dom_classes": [],
            "_model_module": "@jupyter-widgets/controls",
            "_model_module_version": "1.5.0",
            "_model_name": "HBoxModel",
            "_view_count": null,
            "_view_module": "@jupyter-widgets/controls",
            "_view_module_version": "1.5.0",
            "_view_name": "HBoxView",
            "box_style": "",
            "children": [
              "IPY_MODEL_5d8e3045a7d6432b98089375b4f091b9",
              "IPY_MODEL_1586c494792146d7bb251f09bf71726c",
              "IPY_MODEL_6be30a9af5d84ae8af87f5065b2e243c"
            ],
            "layout": "IPY_MODEL_7a40b7a370fa4dcda1cade7bfe725606"
          }
        },
        "5d8e3045a7d6432b98089375b4f091b9": {
          "model_module": "@jupyter-widgets/controls",
          "model_name": "HTMLModel",
          "model_module_version": "1.5.0",
          "state": {
            "_dom_classes": [],
            "_model_module": "@jupyter-widgets/controls",
            "_model_module_version": "1.5.0",
            "_model_name": "HTMLModel",
            "_view_count": null,
            "_view_module": "@jupyter-widgets/controls",
            "_view_module_version": "1.5.0",
            "_view_name": "HTMLView",
            "description": "",
            "description_tooltip": null,
            "layout": "IPY_MODEL_edc635def6f04f238b20c50b356ce429",
            "placeholder": "​",
            "style": "IPY_MODEL_d4d7acd486594d77a9a9f202d64a309e",
            "value": "100%"
          }
        },
        "1586c494792146d7bb251f09bf71726c": {
          "model_module": "@jupyter-widgets/controls",
          "model_name": "FloatProgressModel",
          "model_module_version": "1.5.0",
          "state": {
            "_dom_classes": [],
            "_model_module": "@jupyter-widgets/controls",
            "_model_module_version": "1.5.0",
            "_model_name": "FloatProgressModel",
            "_view_count": null,
            "_view_module": "@jupyter-widgets/controls",
            "_view_module_version": "1.5.0",
            "_view_name": "ProgressView",
            "bar_style": "success",
            "description": "",
            "description_tooltip": null,
            "layout": "IPY_MODEL_06f3e1a935624c15b9bc26c7f898f4de",
            "max": 1,
            "min": 0,
            "orientation": "horizontal",
            "style": "IPY_MODEL_2212577777894b868195dcab5a449af8",
            "value": 1
          }
        },
        "6be30a9af5d84ae8af87f5065b2e243c": {
          "model_module": "@jupyter-widgets/controls",
          "model_name": "HTMLModel",
          "model_module_version": "1.5.0",
          "state": {
            "_dom_classes": [],
            "_model_module": "@jupyter-widgets/controls",
            "_model_module_version": "1.5.0",
            "_model_name": "HTMLModel",
            "_view_count": null,
            "_view_module": "@jupyter-widgets/controls",
            "_view_module_version": "1.5.0",
            "_view_name": "HTMLView",
            "description": "",
            "description_tooltip": null,
            "layout": "IPY_MODEL_4bf5065f3d19462cabef0d199a116c12",
            "placeholder": "​",
            "style": "IPY_MODEL_24e152fd182042788ca174a626fb194c",
            "value": " 1/1 [00:00&lt;00:00,  1.84ba/s]"
          }
        },
        "7a40b7a370fa4dcda1cade7bfe725606": {
          "model_module": "@jupyter-widgets/base",
          "model_name": "LayoutModel",
          "model_module_version": "1.2.0",
          "state": {
            "_model_module": "@jupyter-widgets/base",
            "_model_module_version": "1.2.0",
            "_model_name": "LayoutModel",
            "_view_count": null,
            "_view_module": "@jupyter-widgets/base",
            "_view_module_version": "1.2.0",
            "_view_name": "LayoutView",
            "align_content": null,
            "align_items": null,
            "align_self": null,
            "border": null,
            "bottom": null,
            "display": null,
            "flex": null,
            "flex_flow": null,
            "grid_area": null,
            "grid_auto_columns": null,
            "grid_auto_flow": null,
            "grid_auto_rows": null,
            "grid_column": null,
            "grid_gap": null,
            "grid_row": null,
            "grid_template_areas": null,
            "grid_template_columns": null,
            "grid_template_rows": null,
            "height": null,
            "justify_content": null,
            "justify_items": null,
            "left": null,
            "margin": null,
            "max_height": null,
            "max_width": null,
            "min_height": null,
            "min_width": null,
            "object_fit": null,
            "object_position": null,
            "order": null,
            "overflow": null,
            "overflow_x": null,
            "overflow_y": null,
            "padding": null,
            "right": null,
            "top": null,
            "visibility": null,
            "width": null
          }
        },
        "edc635def6f04f238b20c50b356ce429": {
          "model_module": "@jupyter-widgets/base",
          "model_name": "LayoutModel",
          "model_module_version": "1.2.0",
          "state": {
            "_model_module": "@jupyter-widgets/base",
            "_model_module_version": "1.2.0",
            "_model_name": "LayoutModel",
            "_view_count": null,
            "_view_module": "@jupyter-widgets/base",
            "_view_module_version": "1.2.0",
            "_view_name": "LayoutView",
            "align_content": null,
            "align_items": null,
            "align_self": null,
            "border": null,
            "bottom": null,
            "display": null,
            "flex": null,
            "flex_flow": null,
            "grid_area": null,
            "grid_auto_columns": null,
            "grid_auto_flow": null,
            "grid_auto_rows": null,
            "grid_column": null,
            "grid_gap": null,
            "grid_row": null,
            "grid_template_areas": null,
            "grid_template_columns": null,
            "grid_template_rows": null,
            "height": null,
            "justify_content": null,
            "justify_items": null,
            "left": null,
            "margin": null,
            "max_height": null,
            "max_width": null,
            "min_height": null,
            "min_width": null,
            "object_fit": null,
            "object_position": null,
            "order": null,
            "overflow": null,
            "overflow_x": null,
            "overflow_y": null,
            "padding": null,
            "right": null,
            "top": null,
            "visibility": null,
            "width": null
          }
        },
        "d4d7acd486594d77a9a9f202d64a309e": {
          "model_module": "@jupyter-widgets/controls",
          "model_name": "DescriptionStyleModel",
          "model_module_version": "1.5.0",
          "state": {
            "_model_module": "@jupyter-widgets/controls",
            "_model_module_version": "1.5.0",
            "_model_name": "DescriptionStyleModel",
            "_view_count": null,
            "_view_module": "@jupyter-widgets/base",
            "_view_module_version": "1.2.0",
            "_view_name": "StyleView",
            "description_width": ""
          }
        },
        "06f3e1a935624c15b9bc26c7f898f4de": {
          "model_module": "@jupyter-widgets/base",
          "model_name": "LayoutModel",
          "model_module_version": "1.2.0",
          "state": {
            "_model_module": "@jupyter-widgets/base",
            "_model_module_version": "1.2.0",
            "_model_name": "LayoutModel",
            "_view_count": null,
            "_view_module": "@jupyter-widgets/base",
            "_view_module_version": "1.2.0",
            "_view_name": "LayoutView",
            "align_content": null,
            "align_items": null,
            "align_self": null,
            "border": null,
            "bottom": null,
            "display": null,
            "flex": null,
            "flex_flow": null,
            "grid_area": null,
            "grid_auto_columns": null,
            "grid_auto_flow": null,
            "grid_auto_rows": null,
            "grid_column": null,
            "grid_gap": null,
            "grid_row": null,
            "grid_template_areas": null,
            "grid_template_columns": null,
            "grid_template_rows": null,
            "height": null,
            "justify_content": null,
            "justify_items": null,
            "left": null,
            "margin": null,
            "max_height": null,
            "max_width": null,
            "min_height": null,
            "min_width": null,
            "object_fit": null,
            "object_position": null,
            "order": null,
            "overflow": null,
            "overflow_x": null,
            "overflow_y": null,
            "padding": null,
            "right": null,
            "top": null,
            "visibility": null,
            "width": null
          }
        },
        "2212577777894b868195dcab5a449af8": {
          "model_module": "@jupyter-widgets/controls",
          "model_name": "ProgressStyleModel",
          "model_module_version": "1.5.0",
          "state": {
            "_model_module": "@jupyter-widgets/controls",
            "_model_module_version": "1.5.0",
            "_model_name": "ProgressStyleModel",
            "_view_count": null,
            "_view_module": "@jupyter-widgets/base",
            "_view_module_version": "1.2.0",
            "_view_name": "StyleView",
            "bar_color": null,
            "description_width": ""
          }
        },
        "4bf5065f3d19462cabef0d199a116c12": {
          "model_module": "@jupyter-widgets/base",
          "model_name": "LayoutModel",
          "model_module_version": "1.2.0",
          "state": {
            "_model_module": "@jupyter-widgets/base",
            "_model_module_version": "1.2.0",
            "_model_name": "LayoutModel",
            "_view_count": null,
            "_view_module": "@jupyter-widgets/base",
            "_view_module_version": "1.2.0",
            "_view_name": "LayoutView",
            "align_content": null,
            "align_items": null,
            "align_self": null,
            "border": null,
            "bottom": null,
            "display": null,
            "flex": null,
            "flex_flow": null,
            "grid_area": null,
            "grid_auto_columns": null,
            "grid_auto_flow": null,
            "grid_auto_rows": null,
            "grid_column": null,
            "grid_gap": null,
            "grid_row": null,
            "grid_template_areas": null,
            "grid_template_columns": null,
            "grid_template_rows": null,
            "height": null,
            "justify_content": null,
            "justify_items": null,
            "left": null,
            "margin": null,
            "max_height": null,
            "max_width": null,
            "min_height": null,
            "min_width": null,
            "object_fit": null,
            "object_position": null,
            "order": null,
            "overflow": null,
            "overflow_x": null,
            "overflow_y": null,
            "padding": null,
            "right": null,
            "top": null,
            "visibility": null,
            "width": null
          }
        },
        "24e152fd182042788ca174a626fb194c": {
          "model_module": "@jupyter-widgets/controls",
          "model_name": "DescriptionStyleModel",
          "model_module_version": "1.5.0",
          "state": {
            "_model_module": "@jupyter-widgets/controls",
            "_model_module_version": "1.5.0",
            "_model_name": "DescriptionStyleModel",
            "_view_count": null,
            "_view_module": "@jupyter-widgets/base",
            "_view_module_version": "1.2.0",
            "_view_name": "StyleView",
            "description_width": ""
          }
        },
        "fb911de6893f486cb249553fa97cf890": {
          "model_module": "@jupyter-widgets/controls",
          "model_name": "HBoxModel",
          "model_module_version": "1.5.0",
          "state": {
            "_dom_classes": [],
            "_model_module": "@jupyter-widgets/controls",
            "_model_module_version": "1.5.0",
            "_model_name": "HBoxModel",
            "_view_count": null,
            "_view_module": "@jupyter-widgets/controls",
            "_view_module_version": "1.5.0",
            "_view_name": "HBoxView",
            "box_style": "",
            "children": [
              "IPY_MODEL_f56c99770af44b3393eefd8cba487c1f",
              "IPY_MODEL_ab41eaf3d5094425a40803a87e9d45f4",
              "IPY_MODEL_657709d3272b4188870a48385224515a"
            ],
            "layout": "IPY_MODEL_ade050100fdf40e0bf50ec04f1c84724"
          }
        },
        "f56c99770af44b3393eefd8cba487c1f": {
          "model_module": "@jupyter-widgets/controls",
          "model_name": "HTMLModel",
          "model_module_version": "1.5.0",
          "state": {
            "_dom_classes": [],
            "_model_module": "@jupyter-widgets/controls",
            "_model_module_version": "1.5.0",
            "_model_name": "HTMLModel",
            "_view_count": null,
            "_view_module": "@jupyter-widgets/controls",
            "_view_module_version": "1.5.0",
            "_view_name": "HTMLView",
            "description": "",
            "description_tooltip": null,
            "layout": "IPY_MODEL_4d65e0e9315c4f9fbd005bdb08f01dde",
            "placeholder": "​",
            "style": "IPY_MODEL_015f9b35255d4c8c922d3a969c7ff162",
            "value": "100%"
          }
        },
        "ab41eaf3d5094425a40803a87e9d45f4": {
          "model_module": "@jupyter-widgets/controls",
          "model_name": "FloatProgressModel",
          "model_module_version": "1.5.0",
          "state": {
            "_dom_classes": [],
            "_model_module": "@jupyter-widgets/controls",
            "_model_module_version": "1.5.0",
            "_model_name": "FloatProgressModel",
            "_view_count": null,
            "_view_module": "@jupyter-widgets/controls",
            "_view_module_version": "1.5.0",
            "_view_name": "ProgressView",
            "bar_style": "success",
            "description": "",
            "description_tooltip": null,
            "layout": "IPY_MODEL_f3a26462627f48ec8f39d17202363a20",
            "max": 71,
            "min": 0,
            "orientation": "horizontal",
            "style": "IPY_MODEL_7811a04bbe8d411185b2decfca2a7e71",
            "value": 71
          }
        },
        "657709d3272b4188870a48385224515a": {
          "model_module": "@jupyter-widgets/controls",
          "model_name": "HTMLModel",
          "model_module_version": "1.5.0",
          "state": {
            "_dom_classes": [],
            "_model_module": "@jupyter-widgets/controls",
            "_model_module_version": "1.5.0",
            "_model_name": "HTMLModel",
            "_view_count": null,
            "_view_module": "@jupyter-widgets/controls",
            "_view_module_version": "1.5.0",
            "_view_name": "HTMLView",
            "description": "",
            "description_tooltip": null,
            "layout": "IPY_MODEL_ba2de29816b344419c41fd787f9049fd",
            "placeholder": "​",
            "style": "IPY_MODEL_7686c5d7e0a84554a5a5281a7ed30861",
            "value": " 71/71 [00:00&lt;00:00, 241.51it/s]"
          }
        },
        "ade050100fdf40e0bf50ec04f1c84724": {
          "model_module": "@jupyter-widgets/base",
          "model_name": "LayoutModel",
          "model_module_version": "1.2.0",
          "state": {
            "_model_module": "@jupyter-widgets/base",
            "_model_module_version": "1.2.0",
            "_model_name": "LayoutModel",
            "_view_count": null,
            "_view_module": "@jupyter-widgets/base",
            "_view_module_version": "1.2.0",
            "_view_name": "LayoutView",
            "align_content": null,
            "align_items": null,
            "align_self": null,
            "border": null,
            "bottom": null,
            "display": null,
            "flex": null,
            "flex_flow": null,
            "grid_area": null,
            "grid_auto_columns": null,
            "grid_auto_flow": null,
            "grid_auto_rows": null,
            "grid_column": null,
            "grid_gap": null,
            "grid_row": null,
            "grid_template_areas": null,
            "grid_template_columns": null,
            "grid_template_rows": null,
            "height": null,
            "justify_content": null,
            "justify_items": null,
            "left": null,
            "margin": null,
            "max_height": null,
            "max_width": null,
            "min_height": null,
            "min_width": null,
            "object_fit": null,
            "object_position": null,
            "order": null,
            "overflow": null,
            "overflow_x": null,
            "overflow_y": null,
            "padding": null,
            "right": null,
            "top": null,
            "visibility": null,
            "width": null
          }
        },
        "4d65e0e9315c4f9fbd005bdb08f01dde": {
          "model_module": "@jupyter-widgets/base",
          "model_name": "LayoutModel",
          "model_module_version": "1.2.0",
          "state": {
            "_model_module": "@jupyter-widgets/base",
            "_model_module_version": "1.2.0",
            "_model_name": "LayoutModel",
            "_view_count": null,
            "_view_module": "@jupyter-widgets/base",
            "_view_module_version": "1.2.0",
            "_view_name": "LayoutView",
            "align_content": null,
            "align_items": null,
            "align_self": null,
            "border": null,
            "bottom": null,
            "display": null,
            "flex": null,
            "flex_flow": null,
            "grid_area": null,
            "grid_auto_columns": null,
            "grid_auto_flow": null,
            "grid_auto_rows": null,
            "grid_column": null,
            "grid_gap": null,
            "grid_row": null,
            "grid_template_areas": null,
            "grid_template_columns": null,
            "grid_template_rows": null,
            "height": null,
            "justify_content": null,
            "justify_items": null,
            "left": null,
            "margin": null,
            "max_height": null,
            "max_width": null,
            "min_height": null,
            "min_width": null,
            "object_fit": null,
            "object_position": null,
            "order": null,
            "overflow": null,
            "overflow_x": null,
            "overflow_y": null,
            "padding": null,
            "right": null,
            "top": null,
            "visibility": null,
            "width": null
          }
        },
        "015f9b35255d4c8c922d3a969c7ff162": {
          "model_module": "@jupyter-widgets/controls",
          "model_name": "DescriptionStyleModel",
          "model_module_version": "1.5.0",
          "state": {
            "_model_module": "@jupyter-widgets/controls",
            "_model_module_version": "1.5.0",
            "_model_name": "DescriptionStyleModel",
            "_view_count": null,
            "_view_module": "@jupyter-widgets/base",
            "_view_module_version": "1.2.0",
            "_view_name": "StyleView",
            "description_width": ""
          }
        },
        "f3a26462627f48ec8f39d17202363a20": {
          "model_module": "@jupyter-widgets/base",
          "model_name": "LayoutModel",
          "model_module_version": "1.2.0",
          "state": {
            "_model_module": "@jupyter-widgets/base",
            "_model_module_version": "1.2.0",
            "_model_name": "LayoutModel",
            "_view_count": null,
            "_view_module": "@jupyter-widgets/base",
            "_view_module_version": "1.2.0",
            "_view_name": "LayoutView",
            "align_content": null,
            "align_items": null,
            "align_self": null,
            "border": null,
            "bottom": null,
            "display": null,
            "flex": null,
            "flex_flow": null,
            "grid_area": null,
            "grid_auto_columns": null,
            "grid_auto_flow": null,
            "grid_auto_rows": null,
            "grid_column": null,
            "grid_gap": null,
            "grid_row": null,
            "grid_template_areas": null,
            "grid_template_columns": null,
            "grid_template_rows": null,
            "height": null,
            "justify_content": null,
            "justify_items": null,
            "left": null,
            "margin": null,
            "max_height": null,
            "max_width": null,
            "min_height": null,
            "min_width": null,
            "object_fit": null,
            "object_position": null,
            "order": null,
            "overflow": null,
            "overflow_x": null,
            "overflow_y": null,
            "padding": null,
            "right": null,
            "top": null,
            "visibility": null,
            "width": null
          }
        },
        "7811a04bbe8d411185b2decfca2a7e71": {
          "model_module": "@jupyter-widgets/controls",
          "model_name": "ProgressStyleModel",
          "model_module_version": "1.5.0",
          "state": {
            "_model_module": "@jupyter-widgets/controls",
            "_model_module_version": "1.5.0",
            "_model_name": "ProgressStyleModel",
            "_view_count": null,
            "_view_module": "@jupyter-widgets/base",
            "_view_module_version": "1.2.0",
            "_view_name": "StyleView",
            "bar_color": null,
            "description_width": ""
          }
        },
        "ba2de29816b344419c41fd787f9049fd": {
          "model_module": "@jupyter-widgets/base",
          "model_name": "LayoutModel",
          "model_module_version": "1.2.0",
          "state": {
            "_model_module": "@jupyter-widgets/base",
            "_model_module_version": "1.2.0",
            "_model_name": "LayoutModel",
            "_view_count": null,
            "_view_module": "@jupyter-widgets/base",
            "_view_module_version": "1.2.0",
            "_view_name": "LayoutView",
            "align_content": null,
            "align_items": null,
            "align_self": null,
            "border": null,
            "bottom": null,
            "display": null,
            "flex": null,
            "flex_flow": null,
            "grid_area": null,
            "grid_auto_columns": null,
            "grid_auto_flow": null,
            "grid_auto_rows": null,
            "grid_column": null,
            "grid_gap": null,
            "grid_row": null,
            "grid_template_areas": null,
            "grid_template_columns": null,
            "grid_template_rows": null,
            "height": null,
            "justify_content": null,
            "justify_items": null,
            "left": null,
            "margin": null,
            "max_height": null,
            "max_width": null,
            "min_height": null,
            "min_width": null,
            "object_fit": null,
            "object_position": null,
            "order": null,
            "overflow": null,
            "overflow_x": null,
            "overflow_y": null,
            "padding": null,
            "right": null,
            "top": null,
            "visibility": null,
            "width": null
          }
        },
        "7686c5d7e0a84554a5a5281a7ed30861": {
          "model_module": "@jupyter-widgets/controls",
          "model_name": "DescriptionStyleModel",
          "model_module_version": "1.5.0",
          "state": {
            "_model_module": "@jupyter-widgets/controls",
            "_model_module_version": "1.5.0",
            "_model_name": "DescriptionStyleModel",
            "_view_count": null,
            "_view_module": "@jupyter-widgets/base",
            "_view_module_version": "1.2.0",
            "_view_name": "StyleView",
            "description_width": ""
          }
        }
      }
    }
  },
  "cells": [
    {
      "cell_type": "markdown",
      "source": [
        "# **Question and Answering with Transformers**\n",
        "Question and answering is one of the most diverse and fast-moving areas of development in the world of transformers. In this notebook we will summarize a few of the key topics that we will later cover.\n",
        "\n",
        "# **Types of Model**\n",
        "**Open-Domain vs Reading Comprehension** - in QA we will often find that models will recieve a question, and (sometimes) extract an answer from a context. In the cases where this context is provided to the model alongside the question, eg:\n",
        "\n",
        "{\n",
        "    'question': 'What field of study has a variety of unusual contexts?',\n",
        "    'context': 'The term \"matter\" is used throughout physics in a bewildering variety of contexts: for example, one refers to \"condensed matter physics\", \"elementary matter\", \"partonic\" matter, \"dark\" matter, \"anti\"-matter, \"strange\" matter, and \"nuclear\" matter. In discussions of matter and antimatter, normal matter has been referred to by Alfvén as koinomatter (Gk. common matter). It is fair to say that in physics, there is no broad consensus as to a general definition of matter, and the term \"matter\" usually is used in conjunction with a specifying modifier.'\n",
        "}"
      ],
      "metadata": {
        "id": "1sdXV88fO4WJ"
      }
    },
    {
      "cell_type": "markdown",
      "source": [
        "# **we need to install transformers library for training Arabic transformer based model for Question and Answering**"
      ],
      "metadata": {
        "id": "3LzrCcaiPUX_"
      }
    },
    {
      "cell_type": "code",
      "source": [
        "! pip install transformers datasets huggingface_hub"
      ],
      "metadata": {
        "colab": {
          "base_uri": "https://localhost:8080/"
        },
        "id": "VcE4vLcvJ6UU",
        "outputId": "3fdca6de-48e7-4cae-ee1c-13400c0e963c"
      },
      "execution_count": 1,
      "outputs": [
        {
          "output_type": "stream",
          "name": "stdout",
          "text": [
            "Collecting transformers\n",
            "  Downloading transformers-4.19.2-py3-none-any.whl (4.2 MB)\n",
            "\u001b[K     |████████████████████████████████| 4.2 MB 5.0 MB/s \n",
            "\u001b[?25hCollecting datasets\n",
            "  Downloading datasets-2.2.1-py3-none-any.whl (342 kB)\n",
            "\u001b[K     |████████████████████████████████| 342 kB 49.9 MB/s \n",
            "\u001b[?25hCollecting huggingface_hub\n",
            "  Downloading huggingface_hub-0.6.0-py3-none-any.whl (84 kB)\n",
            "\u001b[K     |████████████████████████████████| 84 kB 3.0 MB/s \n",
            "\u001b[?25hRequirement already satisfied: numpy>=1.17 in /usr/local/lib/python3.7/dist-packages (from transformers) (1.21.6)\n",
            "Collecting pyyaml>=5.1\n",
            "  Downloading PyYAML-6.0-cp37-cp37m-manylinux_2_5_x86_64.manylinux1_x86_64.manylinux_2_12_x86_64.manylinux2010_x86_64.whl (596 kB)\n",
            "\u001b[K     |████████████████████████████████| 596 kB 48.5 MB/s \n",
            "\u001b[?25hRequirement already satisfied: importlib-metadata in /usr/local/lib/python3.7/dist-packages (from transformers) (4.11.3)\n",
            "Requirement already satisfied: regex!=2019.12.17 in /usr/local/lib/python3.7/dist-packages (from transformers) (2019.12.20)\n",
            "Requirement already satisfied: filelock in /usr/local/lib/python3.7/dist-packages (from transformers) (3.7.0)\n",
            "Requirement already satisfied: packaging>=20.0 in /usr/local/lib/python3.7/dist-packages (from transformers) (21.3)\n",
            "Requirement already satisfied: tqdm>=4.27 in /usr/local/lib/python3.7/dist-packages (from transformers) (4.64.0)\n",
            "Collecting tokenizers!=0.11.3,<0.13,>=0.11.1\n",
            "  Downloading tokenizers-0.12.1-cp37-cp37m-manylinux_2_12_x86_64.manylinux2010_x86_64.whl (6.6 MB)\n",
            "\u001b[K     |████████████████████████████████| 6.6 MB 36.9 MB/s \n",
            "\u001b[?25hRequirement already satisfied: requests in /usr/local/lib/python3.7/dist-packages (from transformers) (2.23.0)\n",
            "Requirement already satisfied: typing-extensions>=3.7.4.3 in /usr/local/lib/python3.7/dist-packages (from huggingface_hub) (4.2.0)\n",
            "Requirement already satisfied: pyparsing!=3.0.5,>=2.0.2 in /usr/local/lib/python3.7/dist-packages (from packaging>=20.0->transformers) (3.0.9)\n",
            "Requirement already satisfied: pyarrow>=6.0.0 in /usr/local/lib/python3.7/dist-packages (from datasets) (6.0.1)\n",
            "Collecting aiohttp\n",
            "  Downloading aiohttp-3.8.1-cp37-cp37m-manylinux_2_5_x86_64.manylinux1_x86_64.manylinux_2_12_x86_64.manylinux2010_x86_64.whl (1.1 MB)\n",
            "\u001b[K     |████████████████████████████████| 1.1 MB 36.4 MB/s \n",
            "\u001b[?25hCollecting responses<0.19\n",
            "  Downloading responses-0.18.0-py3-none-any.whl (38 kB)\n",
            "Requirement already satisfied: dill in /usr/local/lib/python3.7/dist-packages (from datasets) (0.3.4)\n",
            "Collecting xxhash\n",
            "  Downloading xxhash-3.0.0-cp37-cp37m-manylinux_2_17_x86_64.manylinux2014_x86_64.whl (212 kB)\n",
            "\u001b[K     |████████████████████████████████| 212 kB 39.9 MB/s \n",
            "\u001b[?25hRequirement already satisfied: pandas in /usr/local/lib/python3.7/dist-packages (from datasets) (1.3.5)\n",
            "Requirement already satisfied: multiprocess in /usr/local/lib/python3.7/dist-packages (from datasets) (0.70.12.2)\n",
            "Collecting fsspec[http]>=2021.05.0\n",
            "  Downloading fsspec-2022.5.0-py3-none-any.whl (140 kB)\n",
            "\u001b[K     |████████████████████████████████| 140 kB 35.5 MB/s \n",
            "\u001b[?25hRequirement already satisfied: certifi>=2017.4.17 in /usr/local/lib/python3.7/dist-packages (from requests->transformers) (2021.10.8)\n",
            "Requirement already satisfied: chardet<4,>=3.0.2 in /usr/local/lib/python3.7/dist-packages (from requests->transformers) (3.0.4)\n",
            "Requirement already satisfied: idna<3,>=2.5 in /usr/local/lib/python3.7/dist-packages (from requests->transformers) (2.10)\n",
            "Requirement already satisfied: urllib3!=1.25.0,!=1.25.1,<1.26,>=1.21.1 in /usr/local/lib/python3.7/dist-packages (from requests->transformers) (1.24.3)\n",
            "Collecting urllib3!=1.25.0,!=1.25.1,<1.26,>=1.21.1\n",
            "  Downloading urllib3-1.25.11-py2.py3-none-any.whl (127 kB)\n",
            "\u001b[K     |████████████████████████████████| 127 kB 36.2 MB/s \n",
            "\u001b[?25hCollecting multidict<7.0,>=4.5\n",
            "  Downloading multidict-6.0.2-cp37-cp37m-manylinux_2_17_x86_64.manylinux2014_x86_64.whl (94 kB)\n",
            "\u001b[K     |████████████████████████████████| 94 kB 3.4 MB/s \n",
            "\u001b[?25hCollecting async-timeout<5.0,>=4.0.0a3\n",
            "  Downloading async_timeout-4.0.2-py3-none-any.whl (5.8 kB)\n",
            "Requirement already satisfied: charset-normalizer<3.0,>=2.0 in /usr/local/lib/python3.7/dist-packages (from aiohttp->datasets) (2.0.12)\n",
            "Requirement already satisfied: attrs>=17.3.0 in /usr/local/lib/python3.7/dist-packages (from aiohttp->datasets) (21.4.0)\n",
            "Collecting asynctest==0.13.0\n",
            "  Downloading asynctest-0.13.0-py3-none-any.whl (26 kB)\n",
            "Collecting aiosignal>=1.1.2\n",
            "  Downloading aiosignal-1.2.0-py3-none-any.whl (8.2 kB)\n",
            "Collecting frozenlist>=1.1.1\n",
            "  Downloading frozenlist-1.3.0-cp37-cp37m-manylinux_2_5_x86_64.manylinux1_x86_64.manylinux_2_17_x86_64.manylinux2014_x86_64.whl (144 kB)\n",
            "\u001b[K     |████████████████████████████████| 144 kB 52.4 MB/s \n",
            "\u001b[?25hCollecting yarl<2.0,>=1.0\n",
            "  Downloading yarl-1.7.2-cp37-cp37m-manylinux_2_5_x86_64.manylinux1_x86_64.manylinux_2_12_x86_64.manylinux2010_x86_64.whl (271 kB)\n",
            "\u001b[K     |████████████████████████████████| 271 kB 49.8 MB/s \n",
            "\u001b[?25hRequirement already satisfied: zipp>=0.5 in /usr/local/lib/python3.7/dist-packages (from importlib-metadata->transformers) (3.8.0)\n",
            "Requirement already satisfied: python-dateutil>=2.7.3 in /usr/local/lib/python3.7/dist-packages (from pandas->datasets) (2.8.2)\n",
            "Requirement already satisfied: pytz>=2017.3 in /usr/local/lib/python3.7/dist-packages (from pandas->datasets) (2022.1)\n",
            "Requirement already satisfied: six>=1.5 in /usr/local/lib/python3.7/dist-packages (from python-dateutil>=2.7.3->pandas->datasets) (1.15.0)\n",
            "Installing collected packages: multidict, frozenlist, yarl, urllib3, asynctest, async-timeout, aiosignal, pyyaml, fsspec, aiohttp, xxhash, tokenizers, responses, huggingface-hub, transformers, datasets\n",
            "  Attempting uninstall: urllib3\n",
            "    Found existing installation: urllib3 1.24.3\n",
            "    Uninstalling urllib3-1.24.3:\n",
            "      Successfully uninstalled urllib3-1.24.3\n",
            "  Attempting uninstall: pyyaml\n",
            "    Found existing installation: PyYAML 3.13\n",
            "    Uninstalling PyYAML-3.13:\n",
            "      Successfully uninstalled PyYAML-3.13\n",
            "\u001b[31mERROR: pip's dependency resolver does not currently take into account all the packages that are installed. This behaviour is the source of the following dependency conflicts.\n",
            "datascience 0.10.6 requires folium==0.2.1, but you have folium 0.8.3 which is incompatible.\u001b[0m\n",
            "Successfully installed aiohttp-3.8.1 aiosignal-1.2.0 async-timeout-4.0.2 asynctest-0.13.0 datasets-2.2.1 frozenlist-1.3.0 fsspec-2022.5.0 huggingface-hub-0.6.0 multidict-6.0.2 pyyaml-6.0 responses-0.18.0 tokenizers-0.12.1 transformers-4.19.2 urllib3-1.25.11 xxhash-3.0.0 yarl-1.7.2\n"
          ]
        }
      ]
    },
    {
      "cell_type": "code",
      "execution_count": 2,
      "metadata": {
        "colab": {
          "base_uri": "https://localhost:8080/"
        },
        "id": "owpfKsORQLRv",
        "outputId": "678fe2cb-3e31-47bb-f80d-90dc52e79c88"
      },
      "outputs": [
        {
          "output_type": "stream",
          "name": "stdout",
          "text": [
            "Mounted at /content/drive\n"
          ]
        }
      ],
      "source": [
        "from google.colab import drive\n",
        "import pandas as pd\n",
        "drive.mount(\"/content/drive\")"
      ]
    },
    {
      "cell_type": "markdown",
      "source": [
        "**Lets open up the training data and confirm that is shares the same format as the training data.**"
      ],
      "metadata": {
        "id": "tjnDdQgwPsyG"
      }
    },
    {
      "cell_type": "code",
      "source": [
        "import os\n",
        "import json\n",
        "\n",
        "with open(os.path.join(\"/content/drive/MyDrive/Dataset/train.json\"), 'rb') as tr, open(os.path.join(\"/content/drive/MyDrive/Dataset/test.json\"), 'rb') as te:\n",
        "    train_dataset = json.load(tr)\n",
        "    val_dataset = json.load(te)"
      ],
      "metadata": {
        "id": "zpEF5esLSbEb"
      },
      "execution_count": 3,
      "outputs": []
    },
    {
      "cell_type": "markdown",
      "source": [
        "As before, the JSON structure contains a top-level 'data' key which contains a list of groups, where each group is a topic. We can take a look at a few examples from the start and end of the dataset."
      ],
      "metadata": {
        "id": "JcERTPAMPxS2"
      }
    },
    {
      "cell_type": "code",
      "source": [
        "train_dataset['data'][0]['paragraphs'][0]"
      ],
      "metadata": {
        "colab": {
          "base_uri": "https://localhost:8080/"
        },
        "id": "e39Q9GPyPwaX",
        "outputId": "26782404-c500-49e2-bbde-24c13d4004f3"
      },
      "execution_count": 4,
      "outputs": [
        {
          "output_type": "execute_result",
          "data": {
            "text/plain": [
              "{'context': 'السعودية أو (رسميًا: المملكة العربية السعودية) هي دولة عربية، وتعد أكبر دولة في الشرق الأوسط وتقع تحديدًا في الجنوب الغربي من قارة آسيا وتشكل الجزء الأكبر من شبه الجزيرة العربية إذ تبلغ مساحتها حوالي مليوني كيلومتر مربع.',\n",
              " 'qas': [{'answers': [{'answer_start': 21,\n",
              "     'text': 'المملكة العربية السعودية)'}],\n",
              "   'id': '333772766499',\n",
              "   'question': ' - أي دولة هي أكبر دولة في الشرق الأوسط؟ ال'},\n",
              "  {'answers': [{'answer_start': 109, 'text': 'الجنوب الغربي'}],\n",
              "   'id': '262204981583',\n",
              "   'question': ' - أين تقع المملكة العربية السعودية في آسيا؟ ال'},\n",
              "  {'answers': [{'answer_start': 194, 'text': 'حوالي مليوني كيلومتر مربع.'}],\n",
              "   'id': '809283218984',\n",
              "   'question': ' - ما هي مساحة الجزء الأكبر من شبه الجزيرة العربية؟ ال'}]}"
            ]
          },
          "metadata": {},
          "execution_count": 4
        }
      ]
    },
    {
      "cell_type": "code",
      "source": [
        "val_dataset['data'][0]['paragraphs'][0]"
      ],
      "metadata": {
        "colab": {
          "base_uri": "https://localhost:8080/"
        },
        "id": "8hvkzHz_gmWS",
        "outputId": "7fa13964-8ee5-44ba-b806-ed6c6b825318"
      },
      "execution_count": 5,
      "outputs": [
        {
          "output_type": "execute_result",
          "data": {
            "text/plain": [
              "{'context': 'حمزة بن عبد المطلب الهاشمي القرشي صحابي من صحابة رسول الإسلام محمد، وعمُّه وأخوه من الرضاعة وأحد وزرائه الأربعة عشر، وهو خير أعمامه لقوله: «خَيْرُ إِخْوَتِي عَلِيٌّ، وَخَيْرُ أَعْمَامِي حَمْزَةُ رَضِيَ اللَّهُ عَنْهُمَا».',\n",
              " 'qas': [{'answers': [{'answer_start': 34,\n",
              "     'text': 'صحابي من صحابة رسول الإسلام محمد، وعمُّه وأخوه من الرضاعة وأحد وزرائه الأربعة عشر،'}],\n",
              "   'id': '621723207492',\n",
              "   'question': 'من هو حمزة بن عبد المطلب؟'},\n",
              "  {'answers': [{'answer_start': 166, 'text': 'وَخَيْرُ أَعْمَامِي'}],\n",
              "   'id': '189105393656',\n",
              "   'question': 'بما وصفه رسول الله؟'},\n",
              "  {'answers': [{'answer_start': 139, 'text': '«خَيْرُ إِخْوَتِي عَلِيٌّ،'}],\n",
              "   'id': '662616978980',\n",
              "   'question': 'بما وصف رسول الله على ؟'}]}"
            ]
          },
          "metadata": {},
          "execution_count": 5
        }
      ]
    },
    {
      "cell_type": "code",
      "source": [
        "train_dataset = train_dataset['data']\n",
        "val_dataset = val_dataset['data']"
      ],
      "metadata": {
        "id": "bB4AJMfzlkyn"
      },
      "execution_count": 6,
      "outputs": []
    },
    {
      "cell_type": "markdown",
      "source": [
        "We need to change the Dictionary file into a suitable file so that we will be able to train a model on it"
      ],
      "metadata": {
        "id": "VbjOBw0jP2hW"
      }
    },
    {
      "cell_type": "code",
      "source": [
        "\n",
        "context = {\"Context\":'',\"answers\":''}\n",
        "train_dict = {}\n",
        "qas = {}\n",
        "\n",
        "for i in range(len(train_dataset)):\n",
        "  # print(i)\n",
        "  # print(train_dataset[i]['paragraphs'][0]['context'])\n",
        "  # context[\"Context\"].append(train_dataset[i]['paragraphs'][0]['context'])\n",
        "  # context['answers'].append(train_dataset[i]['paragraphs'][0]['qas'][0]['answers'])\n",
        "  if \"Context\" not in train_dict:\n",
        "    train_dict[\"id\"] = []\n",
        "    train_dict[\"Context\"] = []\n",
        "    train_dict[\"answers\"] = []\n",
        "    train_dict[\"question\"] = []\n",
        "\n",
        "  train_dict[\"id\"].append(train_dataset[i]['paragraphs'][0]['qas'][0]['id']) \n",
        "  train_dict[\"Context\"].append(train_dataset[i]['paragraphs'][0]['context'])\n",
        "  train_dict[\"answers\"].append(train_dataset[i]['paragraphs'][0]['qas'][0]['answers'][0])\n",
        "  train_dict[\"question\"].append(train_dataset[i]['paragraphs'][0]['qas'][0]['question'])\n"
      ],
      "metadata": {
        "id": "8I08WEZGk8Og"
      },
      "execution_count": 7,
      "outputs": []
    },
    {
      "cell_type": "code",
      "source": [
        "\n",
        "context = {\"Context\":'',\"answers\":''}\n",
        "test_dict = {}\n",
        "qas = {}\n",
        "\n",
        "for i in range(len(val_dataset)):\n",
        "  # print(i)\n",
        "  # print(train_dataset[i]['paragraphs'][0]['context'])\n",
        "  # context[\"Context\"].append(train_dataset[i]['paragraphs'][0]['context'])\n",
        "  # context['answers'].append(train_dataset[i]['paragraphs'][0]['qas'][0]['answers'])\n",
        "  if \"Context\" not in test_dict:\n",
        "    test_dict[\"id\"] = []\n",
        "    test_dict[\"Context\"] = []\n",
        "    test_dict[\"answers\"] = []\n",
        "    test_dict[\"question\"] = []\n",
        "\n",
        "  test_dict[\"id\"].append(str(val_dataset[i]['paragraphs'][0]['qas'][0]['id'])) \n",
        "  test_dict[\"Context\"].append(val_dataset[i]['paragraphs'][0]['context'])\n",
        "  test_dict[\"answers\"].append(val_dataset[i]['paragraphs'][0]['qas'][0]['answers'][0])\n",
        "  test_dict[\"question\"].append(val_dataset[i]['paragraphs'][0]['qas'][0]['question'])\n"
      ],
      "metadata": {
        "id": "wxV37nVs6jWr"
      },
      "execution_count": 8,
      "outputs": []
    },
    {
      "cell_type": "code",
      "source": [
        "train_dict['Context'][0:5]"
      ],
      "metadata": {
        "colab": {
          "base_uri": "https://localhost:8080/"
        },
        "id": "hMaDtRA47gEu",
        "outputId": "7b674de0-a86d-4a28-805f-790c2dc0a1c5"
      },
      "execution_count": 9,
      "outputs": [
        {
          "output_type": "execute_result",
          "data": {
            "text/plain": [
              "['السعودية أو (رسميًا: المملكة العربية السعودية) هي دولة عربية، وتعد أكبر دولة في الشرق الأوسط وتقع تحديدًا في الجنوب الغربي من قارة آسيا وتشكل الجزء الأكبر من شبه الجزيرة العربية إذ تبلغ مساحتها حوالي مليوني كيلومتر مربع.',\n",
              " 'مِصرَ أو (رسمياً: جُمهورِيّةُ مِصرَ العَرَبيّةِ) هي دولة عربية تقع في الركن الشمالي الشرقي من قارة أفريقيا، ولديها امتداد آسيوي، حيث تقع شبه جزيرة سيناء داخل قارة آسيا فهي دولة عابرة للقارات، قُدّر عدد سكانها بـ104 مليون نسمة، ليكون ترتيبها الثالثة عشر بين دول العالم بعدد السكان والأكثر سكانا عربيا.',\n",
              " 'أَبُو القَاسِم مُحَمَّد بنِ عَبد الله بنِ عَبدِ المُطَّلِب (22 أبريل 571 - 8 يونيو 632) يُؤمن المسلمون بأنَّه رسول الله إلى الإنس والجن؛ ليعيدهم إلى توحيد الله وعبادته شأنه شأن كل الأنبياء والمُرسَلين، وهو خاتمهم، وأُرسِل للنَّاس كافَّة، ويؤمنون أيضا بأنّه أشرف المخلوقات وسيّد البشر، كما يعتقدون فيه العِصمة.',\n",
              " 'المَغْرِب أو (رسمياً: المَمْلَكَةُ المَغْرِبِيَّة)  (بالأمازيغية: ⵍⵎⵖⵔⵉⴱ ⵏ ⵜⴰⴳⵍⴷⵉⵜ: وتنطق لمغريب) هي دولة عربية تقع في أقصى غرب شمال أفريقيا عاصمتها الرباط وأكبر مدنها الدار البيضاء التي تعدّ العاصمة الاقتصادية، ومن أهم المدن: سلا، فاس، مراكش، مكناس، طنجة، أكادير، آسفي، تطوان، وزان، وجدة، سطات، تازة، العيون (مدينة) والحسيمة.',\n",
              " 'الدَّوْلَةُ العُثمَانِيَّة، أو الدَّوْلَةُ العَلِيَّةُ العُثمَانِيَّة (بالتركية العثمانية: دَوْلَتِ عَلِيّهٔ عُثمَانِيّه؛ بالتركية الحديثة: Yüce Osmanlı Devleti) أو الخِلَافَةُ العُثمَانِيَّة، هي إمبراطورية إسلامية أسسها عثمان الأول بن أرطغرل، واستمرت قائمة لما يقرب من 600 سنة، وبالتحديد من 27 يوليو 1299م حتى 29 أكتوبر 1923م.']"
            ]
          },
          "metadata": {},
          "execution_count": 9
        }
      ]
    },
    {
      "cell_type": "code",
      "source": [
        "train_dict['question'][0:5]"
      ],
      "metadata": {
        "colab": {
          "base_uri": "https://localhost:8080/"
        },
        "id": "E9oPnjyaI6YG",
        "outputId": "e13344c0-fdc4-4ce5-a895-96a5e43dbb65"
      },
      "execution_count": 10,
      "outputs": [
        {
          "output_type": "execute_result",
          "data": {
            "text/plain": [
              "[' - أي دولة هي أكبر دولة في الشرق الأوسط؟ ال',\n",
              " ' - أين تقع مصر؟ ال',\n",
              " ' - من هو رسول الله؟ ال',\n",
              " ' - أين يقع المغرب؟ ال',\n",
              " 'من اسس الدولة العثمانية؟']"
            ]
          },
          "metadata": {},
          "execution_count": 10
        }
      ]
    },
    {
      "cell_type": "code",
      "source": [
        "train_dict['answers'][0:5]"
      ],
      "metadata": {
        "colab": {
          "base_uri": "https://localhost:8080/"
        },
        "id": "x1Vyuz1BIeuf",
        "outputId": "2259be2d-1fd8-4773-b4f3-526c4f78dfb3"
      },
      "execution_count": 11,
      "outputs": [
        {
          "output_type": "execute_result",
          "data": {
            "text/plain": [
              "[{'answer_start': 21, 'text': 'المملكة العربية السعودية)'},\n",
              " {'answer_start': 63, 'text': 'تقع في الركن الشمالي الشرقي من قارة أفريقيا،'},\n",
              " {'answer_start': 0,\n",
              "  'text': 'أَبُو القَاسِم مُحَمَّد بنِ عَبد الله بنِ عَبدِ المُطَّلِب'},\n",
              " {'answer_start': 112, 'text': 'تقع في أقصى غرب شمال أفريقيا'},\n",
              " {'answer_start': 221, 'text': 'عثمان الأول بن أرطغرل،'}]"
            ]
          },
          "metadata": {},
          "execution_count": 11
        }
      ]
    },
    {
      "cell_type": "code",
      "source": [
        "train_dict['answers'][0]['answer_start']"
      ],
      "metadata": {
        "colab": {
          "base_uri": "https://localhost:8080/"
        },
        "id": "dLLM3JdR-PSx",
        "outputId": "1e72e4f3-f167-47d8-cef5-842420c24999"
      },
      "execution_count": 12,
      "outputs": [
        {
          "output_type": "execute_result",
          "data": {
            "text/plain": [
              "21"
            ]
          },
          "metadata": {},
          "execution_count": 12
        }
      ]
    },
    {
      "cell_type": "code",
      "source": [
        "train_dict['id'][0:5]"
      ],
      "metadata": {
        "colab": {
          "base_uri": "https://localhost:8080/"
        },
        "id": "YuCy6XbV9rAj",
        "outputId": "8e25831b-d410-4177-e44c-db82afae53a6"
      },
      "execution_count": 13,
      "outputs": [
        {
          "output_type": "execute_result",
          "data": {
            "text/plain": [
              "['333772766499', '762977773921', '39922158955', '143079297992', '310583692508']"
            ]
          },
          "metadata": {},
          "execution_count": 13
        }
      ]
    },
    {
      "cell_type": "code",
      "source": [
        "from transformers import AutoTokenizer, AutoModel\n",
        "\n",
        "\n",
        "tokenizer = AutoTokenizer.from_pretrained(\"asafaya/bert-base-arabic\")\n",
        "model = AutoModel.from_pretrained(\"asafaya/bert-base-arabic\")"
      ],
      "metadata": {
        "colab": {
          "base_uri": "https://localhost:8080/",
          "height": 249,
          "referenced_widgets": [
            "31a3e46bfb9d4e358598858cb1710b22",
            "fb983a1a12634650893ecc58ad75ab1b",
            "38772ba85c9348138cc10c425aacfa23",
            "5650b6e8c5b14793b84d3e640700937b",
            "4d31f1f942a94db0849575453cc45103",
            "dec965328f3e4bf1afcec4d2f4ce3e2b",
            "8f01637f985d4dd8b95dfe516fe097bc",
            "21ce7a5dbe0b4c17ae2d706a288cbd41",
            "6f5f038c1b8f42009459b61a656bdd58",
            "47f48fcddc3c4ed485e17a0480adb1d4",
            "f90e14840afb4145848e9de71dff836c",
            "8777d1c1db5046a6aca6fcfa0cc6c062",
            "1ab6bb6877844022947f536060909155",
            "362e39e95f52492e8c52b450653fd27e",
            "47123836036c4b1495937a519a22ce7d",
            "81050a3ff6114168adc1c95ea3f0e3c8",
            "8a52cffdaca145789d0529484f49afe2",
            "8261917351964bfb88f56e1d50b5e777",
            "19904e084ae54105a0fdfc58966fa356",
            "61bc3911b2924646a621f8acacf88db6",
            "e210195a1e9f446aba419a60c2e5d606",
            "298d1b44b5fe495db16797e77ec275c9",
            "6633f2ec23594bf4a3e9b7acbe369b59",
            "319a553ddba54fe298093c2ec5496c08",
            "15e740e70ba44b09ac54de789ee8000e",
            "d7ef2f83107a47ec94d5c4e4e9b3255d",
            "9e2825daa74b47229f15ba00a59f1735",
            "913a171ffaa44edb8bcaf64a51bee3e0",
            "57cb4b687d5545d5b498fa41f91ff8f3",
            "d1d8b267bfc24f0b957a34adcb761ab3",
            "3bb016ec642847ecb9b2b890e68c9992",
            "3a4e4f9870c64cc597f330b6f228be38",
            "c86b669391164204b6291b76993021d4",
            "2d6e4483a9784f7f80dc126a4e6ccddf",
            "9b21c02ae06343738dfaccf004f5d657",
            "8c53d9bdf0904fe08156a91bb8159903",
            "75c82c03e59446c282f1d51fe9d0e34f",
            "184c2cf9d09846df908403530c80559d",
            "eb507c41814b4b9996db721515d90e6f",
            "acf8dbbd2aae4e59851eacbf06583000",
            "9a349df14a274e4494c40e912e125427",
            "6bea09f6da664208924f3b8fb9bca03e",
            "e131f47a9d4e4459a794cd49e100ede6",
            "36d49de9a1b44f51a18eea6e2e6a868c",
            "51637afb39a6427d9b285b4998e7ef85",
            "6333763f59b54e1eab7fa51d83b01d44",
            "2d3edafdad624bbc802012fdc5b45deb",
            "4fbc9b4ee2684d86aaabc97230d72a8d",
            "279a1c35a6894cb786e2f088638806b3",
            "c0d6de200e2f437e8d1bc06e220fde20",
            "30caeb39f7644cfba4acbed73e298de3",
            "d9c286f3d1424f6ea7334a33872e5417",
            "88887deb19644ffaa53e79b2cfb72365",
            "9d28cebd489e480482a0098c70568a56",
            "3b2ea9f970734fa2ae28f2e1833a2faa"
          ]
        },
        "id": "ZYWOBZfovUbR",
        "outputId": "71b12d24-6296-46a3-989c-b00df9d2fd74"
      },
      "execution_count": 14,
      "outputs": [
        {
          "output_type": "display_data",
          "data": {
            "text/plain": [
              "Downloading:   0%|          | 0.00/62.0 [00:00<?, ?B/s]"
            ],
            "application/vnd.jupyter.widget-view+json": {
              "version_major": 2,
              "version_minor": 0,
              "model_id": "31a3e46bfb9d4e358598858cb1710b22"
            }
          },
          "metadata": {}
        },
        {
          "output_type": "display_data",
          "data": {
            "text/plain": [
              "Downloading:   0%|          | 0.00/491 [00:00<?, ?B/s]"
            ],
            "application/vnd.jupyter.widget-view+json": {
              "version_major": 2,
              "version_minor": 0,
              "model_id": "8777d1c1db5046a6aca6fcfa0cc6c062"
            }
          },
          "metadata": {}
        },
        {
          "output_type": "display_data",
          "data": {
            "text/plain": [
              "Downloading:   0%|          | 0.00/326k [00:00<?, ?B/s]"
            ],
            "application/vnd.jupyter.widget-view+json": {
              "version_major": 2,
              "version_minor": 0,
              "model_id": "6633f2ec23594bf4a3e9b7acbe369b59"
            }
          },
          "metadata": {}
        },
        {
          "output_type": "display_data",
          "data": {
            "text/plain": [
              "Downloading:   0%|          | 0.00/112 [00:00<?, ?B/s]"
            ],
            "application/vnd.jupyter.widget-view+json": {
              "version_major": 2,
              "version_minor": 0,
              "model_id": "2d6e4483a9784f7f80dc126a4e6ccddf"
            }
          },
          "metadata": {}
        },
        {
          "output_type": "display_data",
          "data": {
            "text/plain": [
              "Downloading:   0%|          | 0.00/424M [00:00<?, ?B/s]"
            ],
            "application/vnd.jupyter.widget-view+json": {
              "version_major": 2,
              "version_minor": 0,
              "model_id": "51637afb39a6427d9b285b4998e7ef85"
            }
          },
          "metadata": {}
        },
        {
          "output_type": "stream",
          "name": "stderr",
          "text": [
            "Some weights of the model checkpoint at asafaya/bert-base-arabic were not used when initializing BertModel: ['cls.predictions.decoder.bias', 'cls.predictions.transform.dense.weight', 'cls.predictions.transform.dense.bias', 'cls.predictions.bias', 'cls.predictions.transform.LayerNorm.weight', 'cls.predictions.transform.LayerNorm.bias', 'cls.predictions.decoder.weight']\n",
            "- This IS expected if you are initializing BertModel from the checkpoint of a model trained on another task or with another architecture (e.g. initializing a BertForSequenceClassification model from a BertForPreTraining model).\n",
            "- This IS NOT expected if you are initializing BertModel from the checkpoint of a model that you expect to be exactly identical (initializing a BertForSequenceClassification model from a BertForSequenceClassification model).\n"
          ]
        }
      ]
    },
    {
      "cell_type": "code",
      "source": [
        "import transformers\n",
        "\n",
        "assert isinstance(tokenizer, transformers.PreTrainedTokenizerFast)"
      ],
      "metadata": {
        "id": "MY7pwQSsTI7b"
      },
      "execution_count": 15,
      "outputs": []
    },
    {
      "cell_type": "code",
      "source": [
        "max_length = 384  # The maximum length of a feature (question and context)\n",
        "doc_stride = 128"
      ],
      "metadata": {
        "id": "U9ESRpm3TMyT"
      },
      "execution_count": 16,
      "outputs": []
    },
    {
      "cell_type": "code",
      "source": [
        "from datasets import Dataset\n",
        "my_dict = {\"id\": train_dict[\"id\"],\n",
        "           \"context\":train_dict['Context'],\n",
        "           \"question\":train_dict['question'],\n",
        "           \"answers\":train_dict['answers']}\n",
        "datasets = Dataset.from_dict(my_dict)\n",
        "\n",
        "my_dict_test = {\"id\": test_dict[\"id\"],\n",
        "           \"context\":test_dict['Context'],\n",
        "           \"question\":test_dict['question'],\n",
        "           \"answers\":test_dict['answers']}\n",
        "datasets_test = Dataset.from_dict(my_dict_test)"
      ],
      "metadata": {
        "id": "JtJBVg1vTTn_"
      },
      "execution_count": 17,
      "outputs": []
    },
    {
      "cell_type": "code",
      "source": [
        "datasets"
      ],
      "metadata": {
        "colab": {
          "base_uri": "https://localhost:8080/"
        },
        "id": "Ap6ZKOcbYNnt",
        "outputId": "2f63d197-6403-462f-f8c9-4f0da991f387"
      },
      "execution_count": 18,
      "outputs": [
        {
          "output_type": "execute_result",
          "data": {
            "text/plain": [
              "Dataset({\n",
              "    features: ['id', 'context', 'question', 'answers'],\n",
              "    num_rows: 74\n",
              "})"
            ]
          },
          "metadata": {},
          "execution_count": 18
        }
      ]
    },
    {
      "cell_type": "code",
      "source": [
        "datasets_test"
      ],
      "metadata": {
        "colab": {
          "base_uri": "https://localhost:8080/"
        },
        "id": "sfD9hYwQB4jy",
        "outputId": "accc27eb-af7a-4e82-82f8-b7d551a7baaf"
      },
      "execution_count": 19,
      "outputs": [
        {
          "output_type": "execute_result",
          "data": {
            "text/plain": [
              "Dataset({\n",
              "    features: ['id', 'context', 'question', 'answers'],\n",
              "    num_rows: 71\n",
              "})"
            ]
          },
          "metadata": {},
          "execution_count": 19
        }
      ]
    },
    {
      "cell_type": "code",
      "source": [
        "for i, example in enumerate(datasets):\n",
        "    if len(tokenizer(example[\"question\"], example[\"context\"])[\"input_ids\"]) > 384:\n",
        "        break\n",
        "example = datasets[i]"
      ],
      "metadata": {
        "id": "ewKxvh0lWyDB"
      },
      "execution_count": 20,
      "outputs": []
    },
    {
      "cell_type": "code",
      "source": [
        "len(tokenizer(example[\"question\"], example[\"context\"])[\"input_ids\"])"
      ],
      "metadata": {
        "colab": {
          "base_uri": "https://localhost:8080/"
        },
        "id": "V4pb3_GsYjf7",
        "outputId": "b87f596c-55e9-4d34-c1a0-f0976693de31"
      },
      "execution_count": 21,
      "outputs": [
        {
          "output_type": "execute_result",
          "data": {
            "text/plain": [
              "88"
            ]
          },
          "metadata": {},
          "execution_count": 21
        }
      ]
    },
    {
      "cell_type": "code",
      "source": [
        "len(\n",
        "    tokenizer(\n",
        "        example[\"question\"],\n",
        "        example[\"context\"],\n",
        "        max_length=max_length,\n",
        "        truncation=\"only_second\",\n",
        "    )[\"input_ids\"]\n",
        ")"
      ],
      "metadata": {
        "colab": {
          "base_uri": "https://localhost:8080/"
        },
        "id": "LKWe9qgDYrfE",
        "outputId": "c1082632-d859-45b9-8903-20bba26e465d"
      },
      "execution_count": 22,
      "outputs": [
        {
          "output_type": "execute_result",
          "data": {
            "text/plain": [
              "88"
            ]
          },
          "metadata": {},
          "execution_count": 22
        }
      ]
    },
    {
      "cell_type": "code",
      "source": [
        "tokenized_example = tokenizer(\n",
        "    example[\"question\"],\n",
        "    example[\"context\"],\n",
        "    max_length=max_length,\n",
        "    truncation=\"only_second\",\n",
        "    return_overflowing_tokens=True,\n",
        "    stride=doc_stride,\n",
        ")"
      ],
      "metadata": {
        "id": "-i4CiUuPYu8o"
      },
      "execution_count": 23,
      "outputs": []
    },
    {
      "cell_type": "code",
      "source": [
        "[len(x) for x in tokenized_example[\"input_ids\"]]"
      ],
      "metadata": {
        "colab": {
          "base_uri": "https://localhost:8080/"
        },
        "id": "GwXVhRj8Y7FT",
        "outputId": "6500a67a-5cf9-4a24-c1c5-dfe55c280cce"
      },
      "execution_count": 24,
      "outputs": [
        {
          "output_type": "execute_result",
          "data": {
            "text/plain": [
              "[88]"
            ]
          },
          "metadata": {},
          "execution_count": 24
        }
      ]
    },
    {
      "cell_type": "code",
      "source": [
        "for x in tokenized_example[\"input_ids\"][:2]:\n",
        "    print(tokenizer.decode(x))"
      ],
      "metadata": {
        "colab": {
          "base_uri": "https://localhost:8080/"
        },
        "id": "dAsmCoSVY9Kt",
        "outputId": "05228825-2649-495a-bb42-7de9fdca2e3b"
      },
      "execution_count": 25,
      "outputs": [
        {
          "output_type": "stream",
          "name": "stdout",
          "text": [
            "[CLS] ما هو اسم الباراسيتامول بالانجليزية ؟ [SEP] الپاراسیتامول ( بالانجليزية : paracetamol ) او الاسيتامينوفين ، وهو الاسم المعتمد في الولايات المتحدة ( بالانجليزية : acetaminophen ) ، او الخلنجول ( لفظ منحوت من خلــي نـشادري الـجــاوول ) او خلي نشادري الجاوول هو مسكن وخافض للحرارة واسع الاستخدام. [SEP]\n"
          ]
        }
      ]
    },
    {
      "cell_type": "code",
      "source": [
        "tokenized_example = tokenizer(\n",
        "    example[\"question\"],\n",
        "    example[\"context\"],\n",
        "    max_length=max_length,\n",
        "    truncation=\"only_second\",\n",
        "    return_overflowing_tokens=True,\n",
        "    return_offsets_mapping=True,\n",
        "    stride=doc_stride,\n",
        ")\n",
        "print(tokenized_example[\"offset_mapping\"][0][:100])"
      ],
      "metadata": {
        "colab": {
          "base_uri": "https://localhost:8080/"
        },
        "id": "7EoVB2BvY_Nk",
        "outputId": "2c76d395-9ad4-480a-b437-bab410a34939"
      },
      "execution_count": 26,
      "outputs": [
        {
          "output_type": "stream",
          "name": "stdout",
          "text": [
            "[(0, 0), (0, 2), (3, 5), (6, 9), (10, 15), (15, 18), (18, 21), (21, 23), (24, 35), (35, 36), (0, 0), (0, 2), (2, 3), (3, 6), (6, 7), (7, 8), (8, 11), (11, 13), (14, 15), (15, 26), (26, 27), (28, 31), (31, 34), (34, 36), (36, 37), (37, 39), (39, 40), (41, 43), (44, 49), (49, 52), (52, 55), (55, 58), (58, 59), (60, 63), (64, 69), (70, 77), (78, 80), (81, 89), (90, 97), (98, 99), (99, 110), (110, 111), (112, 114), (114, 116), (116, 118), (118, 121), (121, 123), (123, 125), (125, 126), (126, 127), (128, 130), (131, 136), (137, 140), (141, 143), (144, 145), (145, 148), (149, 152), (152, 154), (155, 157), (158, 161), (163, 166), (168, 169), (170, 172), (173, 177), (178, 179), (182, 185), (185, 186), (187, 190), (190, 194), (194, 195), (196, 198), (199, 205), (208, 213), (213, 218), (221, 224), (225, 227), (228, 230), (233, 235), (236, 240), (241, 243), (243, 245), (245, 246), (247, 250), (250, 254), (255, 259), (260, 269), (269, 270), (0, 0)]\n"
          ]
        }
      ]
    },
    {
      "cell_type": "code",
      "source": [
        "first_token_id = tokenized_example[\"input_ids\"][0][1]\n",
        "offsets = tokenized_example[\"offset_mapping\"][0][1]\n",
        "print(\n",
        "    tokenizer.convert_ids_to_tokens([first_token_id])[0],\n",
        "    example[\"question\"][offsets[0] : offsets[1]],\n",
        ")"
      ],
      "metadata": {
        "colab": {
          "base_uri": "https://localhost:8080/"
        },
        "id": "Wfozh9czZHH-",
        "outputId": "3da865e7-e382-4d82-a257-982778905cd2"
      },
      "execution_count": 27,
      "outputs": [
        {
          "output_type": "stream",
          "name": "stdout",
          "text": [
            "ما ما\n"
          ]
        }
      ]
    },
    {
      "cell_type": "code",
      "source": [
        "sequence_ids = tokenized_example.sequence_ids()\n",
        "print(sequence_ids)"
      ],
      "metadata": {
        "colab": {
          "base_uri": "https://localhost:8080/"
        },
        "id": "RydD58sRZJxI",
        "outputId": "e26da82f-208b-4284-f8d4-533f7beb6bcc"
      },
      "execution_count": 28,
      "outputs": [
        {
          "output_type": "stream",
          "name": "stdout",
          "text": [
            "[None, 0, 0, 0, 0, 0, 0, 0, 0, 0, None, 1, 1, 1, 1, 1, 1, 1, 1, 1, 1, 1, 1, 1, 1, 1, 1, 1, 1, 1, 1, 1, 1, 1, 1, 1, 1, 1, 1, 1, 1, 1, 1, 1, 1, 1, 1, 1, 1, 1, 1, 1, 1, 1, 1, 1, 1, 1, 1, 1, 1, 1, 1, 1, 1, 1, 1, 1, 1, 1, 1, 1, 1, 1, 1, 1, 1, 1, 1, 1, 1, 1, 1, 1, 1, 1, 1, None]\n"
          ]
        }
      ]
    },
    {
      "cell_type": "code",
      "source": [
        "answers = example[\"answers\"]\n",
        "print(answers)"
      ],
      "metadata": {
        "colab": {
          "base_uri": "https://localhost:8080/"
        },
        "id": "055agEVMZK_u",
        "outputId": "c581368a-f017-42f0-e0e7-11b2cae0e1c1"
      },
      "execution_count": 29,
      "outputs": [
        {
          "output_type": "stream",
          "name": "stdout",
          "text": [
            "{'answer_start': 28, 'text': 'Paracetamol)'}\n"
          ]
        }
      ]
    },
    {
      "cell_type": "code",
      "source": [
        "answers = example[\"answers\"]\n",
        "start_char = answers[\"answer_start\"]\n",
        "end_char = start_char + len(answers[\"text\"][0])\n",
        "\n",
        "# Start token index of the current span in the text.\n",
        "token_start_index = 0\n",
        "while sequence_ids[token_start_index] != 1:\n",
        "    token_start_index += 1\n",
        "\n",
        "# End token index of the current span in the text.\n",
        "token_end_index = len(tokenized_example[\"input_ids\"][0]) - 1\n",
        "while sequence_ids[token_end_index] != 1:\n",
        "    token_end_index -= 1\n",
        "\n",
        "# Detect if the answer is out of the span (in which case this feature is labeled with the CLS index).\n",
        "offsets = tokenized_example[\"offset_mapping\"][0]\n",
        "if (\n",
        "    offsets[token_start_index][0] <= start_char\n",
        "    and offsets[token_end_index][1] >= end_char\n",
        "):\n",
        "    # Move the token_start_index and token_end_index to the two ends of the answer.\n",
        "    # Note: we could go after the last offset if the answer is the last word (edge case).\n",
        "    while (\n",
        "        token_start_index < len(offsets) and offsets[token_start_index][0] <= start_char\n",
        "    ):\n",
        "        token_start_index += 1\n",
        "    start_position = token_start_index - 1\n",
        "    while offsets[token_end_index][1] >= end_char:\n",
        "        token_end_index -= 1\n",
        "    end_position = token_end_index + 1\n",
        "    print(start_position, end_position)\n",
        "else:\n",
        "    print(\"The answer is not in this feature.\")"
      ],
      "metadata": {
        "colab": {
          "base_uri": "https://localhost:8080/"
        },
        "id": "uaGe1-CrZNgS",
        "outputId": "ef893960-6cd5-4c9d-d94a-e10bdb20568b"
      },
      "execution_count": 30,
      "outputs": [
        {
          "output_type": "stream",
          "name": "stdout",
          "text": [
            "21 21\n"
          ]
        }
      ]
    },
    {
      "cell_type": "code",
      "source": [
        "print(\n",
        "    tokenizer.decode(\n",
        "        tokenized_example[\"input_ids\"][0][start_position : end_position + 1]\n",
        "    )\n",
        ")\n",
        "print(answers[\"text\"][0])"
      ],
      "metadata": {
        "colab": {
          "base_uri": "https://localhost:8080/"
        },
        "id": "paqJm6gLboU1",
        "outputId": "89760eea-3611-4a70-e5a2-946533659610"
      },
      "execution_count": 31,
      "outputs": [
        {
          "output_type": "stream",
          "name": "stdout",
          "text": [
            "par\n",
            "P\n"
          ]
        }
      ]
    },
    {
      "cell_type": "code",
      "source": [
        "\n",
        "pad_on_right = tokenizer.padding_side == \"right\""
      ],
      "metadata": {
        "id": "N2ow5lZNcB92"
      },
      "execution_count": 32,
      "outputs": []
    },
    {
      "cell_type": "code",
      "source": [
        "def prepare_train_features(examples):\n",
        "    tokenized_examples = tokenizer(\n",
        "        examples[\"question\" if pad_on_right else \"context\"],\n",
        "        examples[\"context\" if pad_on_right else \"question\"],\n",
        "        truncation=\"only_second\" if pad_on_right else \"only_first\",\n",
        "        max_length=max_length,\n",
        "        stride=doc_stride,\n",
        "        return_overflowing_tokens=True,\n",
        "        return_offsets_mapping=True,\n",
        "        padding=\"max_length\",\n",
        "    )\n",
        "\n",
        "    sample_mapping = tokenized_examples.pop(\"overflow_to_sample_mapping\")\n",
        "    offset_mapping = tokenized_examples.pop(\"offset_mapping\")\n",
        "\n",
        "    tokenized_examples[\"start_positions\"] = []\n",
        "    tokenized_examples[\"end_positions\"] = []\n",
        "\n",
        "    for i, offsets in enumerate(offset_mapping):\n",
        "        input_ids = tokenized_examples[\"input_ids\"][i]\n",
        "        cls_index = input_ids.index(tokenizer.cls_token_id)\n",
        "\n",
        "        sequence_ids = tokenized_examples.sequence_ids(i)\n",
        "\n",
        "        sample_index = sample_mapping[i]\n",
        "        answers = examples[\"answers\"][sample_index]\n",
        "        if answers[\"answer_start\"] == 0:\n",
        "            tokenized_examples[\"start_positions\"].append(cls_index)\n",
        "            tokenized_examples[\"end_positions\"].append(cls_index)\n",
        "        else:\n",
        "            start_char = answers[\"answer_start\"]\n",
        "            end_char = start_char + len(answers[\"text\"][0])\n",
        "\n",
        "            token_start_index = 0\n",
        "            while sequence_ids[token_start_index] != (1 if pad_on_right else 0):\n",
        "                token_start_index += 1\n",
        "\n",
        "            token_end_index = len(input_ids) - 1\n",
        "            while sequence_ids[token_end_index] != (1 if pad_on_right else 0):\n",
        "                token_end_index -= 1\n",
        "\n",
        "            if not (\n",
        "                offsets[token_start_index][0] <= start_char\n",
        "                and offsets[token_end_index][1] >= end_char\n",
        "            ):\n",
        "                tokenized_examples[\"start_positions\"].append(cls_index)\n",
        "                tokenized_examples[\"end_positions\"].append(cls_index)\n",
        "            else:\n",
        "                while (\n",
        "                    token_start_index < len(offsets)\n",
        "                    and offsets[token_start_index][0] <= start_char\n",
        "                ):\n",
        "                    token_start_index += 1\n",
        "                tokenized_examples[\"start_positions\"].append(token_start_index - 1)\n",
        "                while offsets[token_end_index][1] >= end_char:\n",
        "                    token_end_index -= 1\n",
        "                tokenized_examples[\"end_positions\"].append(token_end_index + 1)\n",
        "\n",
        "    return tokenized_examples"
      ],
      "metadata": {
        "id": "hZWytBUXcM1Y"
      },
      "execution_count": 33,
      "outputs": []
    },
    {
      "cell_type": "code",
      "source": [
        "features = prepare_train_features(datasets[:5])\n",
        "features = prepare_train_features(datasets_test[:5])"
      ],
      "metadata": {
        "id": "Ah5cc2SAcPWN"
      },
      "execution_count": 34,
      "outputs": []
    },
    {
      "cell_type": "code",
      "source": [
        "tokenized_datasets = datasets.map(\n",
        "    prepare_train_features, batched=True, remove_columns=datasets.column_names\n",
        ")\n",
        "tokenized_datasets_test = datasets_test.map(\n",
        "    prepare_train_features, batched=True, remove_columns=datasets.column_names\n",
        ")\n"
      ],
      "metadata": {
        "colab": {
          "base_uri": "https://localhost:8080/",
          "height": 81,
          "referenced_widgets": [
            "7a5b70c1be534096bc221113cd8bc42b",
            "2be3fcd142c840058e6adaa6dbc893e9",
            "48ba51c3476543989444b679b1901697",
            "203e1112041f4cd6aa329044b2bc2053",
            "2ce1b6a9193f49ed8557bbe3425241c1",
            "503f210679ad4ae190175e627275274d",
            "3bdb42f030784f63bdf47acabb7b63e5",
            "bd283f5bbf53424c9bfcad358475b005",
            "7f3430e8760d48d98f6c7b72bda28d6b",
            "afadd90f978a45adbf08b1b2725857c7",
            "30f92c7e516a46bf8f3c1f5e5a9e95d0",
            "705a2dbe14114dcc85dfb5d9bf196791",
            "dfd6578f14c8459895056bac762f81d3",
            "6539a8585f174e2d8a79b5ed12906cfc",
            "52c7915112ae40dd8dfabb0732d6b71b",
            "96135dffd8714186bb598384a23067b2",
            "eaea06637101429fbd0876a22a2bc219",
            "1727fed753d747c6b420d6fd423c89ab",
            "f23821c5c4b345bb8bb5a93dc668bdbd",
            "f0e4156d37fc4ccdb808d0e4dcfded0d",
            "a354453ef6de400bb7f1edf11707ecf7",
            "bfb5f74ebfbe4e4e9c52cb76f148624d"
          ]
        },
        "id": "cbHM0tI8cRKV",
        "outputId": "224c8425-d24c-4b1c-db59-14b5eb32396a"
      },
      "execution_count": 35,
      "outputs": [
        {
          "output_type": "display_data",
          "data": {
            "text/plain": [
              "  0%|          | 0/1 [00:00<?, ?ba/s]"
            ],
            "application/vnd.jupyter.widget-view+json": {
              "version_major": 2,
              "version_minor": 0,
              "model_id": "7a5b70c1be534096bc221113cd8bc42b"
            }
          },
          "metadata": {}
        },
        {
          "output_type": "display_data",
          "data": {
            "text/plain": [
              "  0%|          | 0/1 [00:00<?, ?ba/s]"
            ],
            "application/vnd.jupyter.widget-view+json": {
              "version_major": 2,
              "version_minor": 0,
              "model_id": "705a2dbe14114dcc85dfb5d9bf196791"
            }
          },
          "metadata": {}
        }
      ]
    },
    {
      "cell_type": "markdown",
      "source": [
        "## Building the model"
      ],
      "metadata": {
        "id": "-EyXIXQoeJ6W"
      }
    },
    {
      "cell_type": "code",
      "source": [
        "from transformers import TFAutoModelForQuestionAnswering\n",
        "\n",
        "model = TFAutoModelForQuestionAnswering.from_pretrained(\"asafaya/bert-base-arabic\")"
      ],
      "metadata": {
        "colab": {
          "base_uri": "https://localhost:8080/",
          "height": 118,
          "referenced_widgets": [
            "47c82152a3f543fbb6a4e892693124c1",
            "dedde5baf06343eeb704d3e928b1a5f2",
            "ac14997efda946638c6a562a1f88cb4a",
            "87def36d2a7646fc8ee8f79f48205f10",
            "0abb050ad8a54759a3bc8f7a3e479286",
            "84e456f8595d4bb485e7763334a12fa2",
            "d76e51bd9f714eb48089c59a312b567d",
            "e0932dee8d5d4b3e9760ad0f01642142",
            "0234cec67ff74545a188cd693e9a3be9",
            "9ef0873049b44b0f839e040bbd2637ac",
            "8dcebb0f88e941b388006cac5ecbc5cf"
          ]
        },
        "id": "VpbmsyKxeIjK",
        "outputId": "b4bb29e2-d693-4953-f2f0-e84d84c2553a"
      },
      "execution_count": 36,
      "outputs": [
        {
          "output_type": "display_data",
          "data": {
            "text/plain": [
              "Downloading:   0%|          | 0.00/520M [00:00<?, ?B/s]"
            ],
            "application/vnd.jupyter.widget-view+json": {
              "version_major": 2,
              "version_minor": 0,
              "model_id": "47c82152a3f543fbb6a4e892693124c1"
            }
          },
          "metadata": {}
        },
        {
          "output_type": "stream",
          "name": "stderr",
          "text": [
            "All model checkpoint layers were used when initializing TFBertForQuestionAnswering.\n",
            "\n",
            "Some layers of TFBertForQuestionAnswering were not initialized from the model checkpoint at asafaya/bert-base-arabic and are newly initialized: ['qa_outputs']\n",
            "You should probably TRAIN this model on a down-stream task to be able to use it for predictions and inference.\n"
          ]
        }
      ]
    },
    {
      "cell_type": "code",
      "source": [
        "push_to_hub_model_id = \"ics-arabert-qa\"\n",
        "learning_rate = 2e-5\n",
        "num_train_epochs = 100\n",
        "weight_decay = 0.01\n",
        "batch_size = 8"
      ],
      "metadata": {
        "id": "RU7yEas7c-ab"
      },
      "execution_count": 88,
      "outputs": []
    },
    {
      "cell_type": "code",
      "source": [
        "len(tokenized_datasets['input_ids'])"
      ],
      "metadata": {
        "colab": {
          "base_uri": "https://localhost:8080/"
        },
        "id": "9VlKkuPbdF1R",
        "outputId": "fa469bb1-1a97-4576-a64d-277eb4242ddf"
      },
      "execution_count": 89,
      "outputs": [
        {
          "output_type": "execute_result",
          "data": {
            "text/plain": [
              "74"
            ]
          },
          "metadata": {},
          "execution_count": 89
        }
      ]
    },
    {
      "cell_type": "code",
      "source": [
        "from transformers import DefaultDataCollator\n",
        "\n",
        "data_collator = DefaultDataCollator(return_tensors=\"tf\")"
      ],
      "metadata": {
        "id": "bu9xCSoMdHKe"
      },
      "execution_count": 90,
      "outputs": []
    },
    {
      "cell_type": "code",
      "source": [
        "train_set = tokenized_datasets.to_tf_dataset(\n",
        "    columns=[\"attention_mask\", \"input_ids\", \"start_positions\", \"end_positions\"],\n",
        "    shuffle=True,\n",
        "    batch_size=batch_size,\n",
        "    collate_fn=data_collator,\n",
        ")\n",
        "validation_set = tokenized_datasets_test.to_tf_dataset(\n",
        "    columns=[\"attention_mask\", \"input_ids\", \"start_positions\", \"end_positions\"],\n",
        "    shuffle=True,\n",
        "    batch_size=batch_size,\n",
        "    collate_fn=data_collator,\n",
        ")"
      ],
      "metadata": {
        "id": "NdXcIiPXdNlU"
      },
      "execution_count": 91,
      "outputs": []
    },
    {
      "cell_type": "code",
      "source": [
        "from transformers import create_optimizer\n",
        "\n",
        "total_train_steps = (len(tokenized_datasets) // batch_size) * num_train_epochs\n",
        "\n",
        "optimizer, schedule = create_optimizer(\n",
        "    init_lr=learning_rate, num_warmup_steps=0, num_train_steps=total_train_steps\n",
        ")"
      ],
      "metadata": {
        "id": "XrniMPtQdOr4"
      },
      "execution_count": 92,
      "outputs": []
    },
    {
      "cell_type": "code",
      "source": [
        "\n",
        "import tensorflow as tf\n",
        "\n",
        "model.compile(optimizer=optimizer)"
      ],
      "metadata": {
        "colab": {
          "base_uri": "https://localhost:8080/"
        },
        "id": "jtB7cjqUdmFV",
        "outputId": "87764f32-015d-423b-dcc4-d8d2062d2cfc"
      },
      "execution_count": 93,
      "outputs": [
        {
          "output_type": "stream",
          "name": "stderr",
          "text": [
            "No loss specified in compile() - the model's internal loss computation will be used as the loss. Don't panic - this is a common way to train TensorFlow models in Transformers! To disable this behaviour, please pass a loss argument, or explicitly pass `loss=None` if you do not want your model to compute a loss.\n"
          ]
        }
      ]
    },
    {
      "cell_type": "code",
      "source": [
        "\n",
        "from transformers.keras_callbacks import PushToHubCallback\n",
        "from tensorflow.keras.callbacks import TensorBoard\n",
        "\n",
        "# push_to_hub_callback = PushToHubCallback(\n",
        "#     output_dir=\"./qa_model_save\",\n",
        "#     tokenizer=tokenizer,\n",
        "#     hub_model_id=push_to_hub_model_id,\n",
        "# )\n",
        "\n",
        "# tensorboard_callback = TensorBoard(log_dir=\"./qa_model_save/logs\")\n",
        "\n",
        "# callbacks = [tensorboard_callback, push_to_hub_callback]\n",
        "\n",
        "model.fit(\n",
        "    train_set,\n",
        "    validation_data=validation_set,\n",
        "    epochs=num_train_epochs,\n",
        "    # callbacks=callbacks,\n",
        ")"
      ],
      "metadata": {
        "colab": {
          "base_uri": "https://localhost:8080/"
        },
        "id": "KnojGwCVdnlS",
        "outputId": "0bc4a7f4-6fa8-45bd-abcc-06a9d6cf6d88"
      },
      "execution_count": 94,
      "outputs": [
        {
          "output_type": "stream",
          "name": "stdout",
          "text": [
            "Epoch 1/100\n",
            "9/9 [==============================] - 38s 2s/step - loss: 4.4563 - val_loss: 4.2012\n",
            "Epoch 2/100\n",
            "9/9 [==============================] - 17s 2s/step - loss: 3.5566 - val_loss: 3.7744\n",
            "Epoch 3/100\n",
            "9/9 [==============================] - 17s 2s/step - loss: 2.5132 - val_loss: 3.3138\n",
            "Epoch 4/100\n",
            "9/9 [==============================] - 17s 2s/step - loss: 1.5127 - val_loss: 3.2216\n",
            "Epoch 5/100\n",
            "9/9 [==============================] - 17s 2s/step - loss: 0.8449 - val_loss: 3.5281\n",
            "Epoch 6/100\n",
            "9/9 [==============================] - 17s 2s/step - loss: 0.4144 - val_loss: 4.2806\n",
            "Epoch 7/100\n",
            "9/9 [==============================] - 17s 2s/step - loss: 0.2660 - val_loss: 4.4259\n",
            "Epoch 8/100\n",
            "9/9 [==============================] - 17s 2s/step - loss: 0.1606 - val_loss: 4.0523\n",
            "Epoch 9/100\n",
            "9/9 [==============================] - 17s 2s/step - loss: 0.1631 - val_loss: 4.4186\n",
            "Epoch 10/100\n",
            "9/9 [==============================] - 17s 2s/step - loss: 0.1100 - val_loss: 4.5069\n",
            "Epoch 11/100\n",
            "9/9 [==============================] - 17s 2s/step - loss: 0.0792 - val_loss: 4.8656\n",
            "Epoch 12/100\n",
            "9/9 [==============================] - 17s 2s/step - loss: 0.0378 - val_loss: 5.3323\n",
            "Epoch 13/100\n",
            "9/9 [==============================] - 17s 2s/step - loss: 0.0303 - val_loss: 5.4191\n",
            "Epoch 14/100\n",
            "9/9 [==============================] - 17s 2s/step - loss: 0.0323 - val_loss: 5.5611\n",
            "Epoch 15/100\n",
            "9/9 [==============================] - 17s 2s/step - loss: 0.0206 - val_loss: 5.7718\n",
            "Epoch 16/100\n",
            "9/9 [==============================] - 17s 2s/step - loss: 0.0204 - val_loss: 5.9042\n",
            "Epoch 17/100\n",
            "9/9 [==============================] - 17s 2s/step - loss: 0.0183 - val_loss: 6.0055\n",
            "Epoch 18/100\n",
            "9/9 [==============================] - 17s 2s/step - loss: 0.0148 - val_loss: 6.1396\n",
            "Epoch 19/100\n",
            "9/9 [==============================] - 17s 2s/step - loss: 0.0151 - val_loss: 6.1808\n",
            "Epoch 20/100\n",
            "9/9 [==============================] - 17s 2s/step - loss: 0.0092 - val_loss: 6.2579\n",
            "Epoch 21/100\n",
            "9/9 [==============================] - 17s 2s/step - loss: 0.0111 - val_loss: 6.2753\n",
            "Epoch 22/100\n",
            "9/9 [==============================] - 17s 2s/step - loss: 0.0080 - val_loss: 6.3507\n",
            "Epoch 23/100\n",
            "9/9 [==============================] - 17s 2s/step - loss: 0.0198 - val_loss: 5.8818\n",
            "Epoch 24/100\n",
            "9/9 [==============================] - 17s 2s/step - loss: 0.0327 - val_loss: 6.0739\n",
            "Epoch 25/100\n",
            "9/9 [==============================] - 17s 2s/step - loss: 0.0175 - val_loss: 5.9124\n",
            "Epoch 26/100\n",
            "9/9 [==============================] - 17s 2s/step - loss: 0.0146 - val_loss: 5.9176\n",
            "Epoch 27/100\n",
            "9/9 [==============================] - 17s 2s/step - loss: 0.0103 - val_loss: 5.9814\n",
            "Epoch 28/100\n",
            "9/9 [==============================] - 17s 2s/step - loss: 0.0080 - val_loss: 6.0754\n",
            "Epoch 29/100\n",
            "9/9 [==============================] - 17s 2s/step - loss: 0.0057 - val_loss: 6.0001\n",
            "Epoch 30/100\n",
            "9/9 [==============================] - 17s 2s/step - loss: 0.0054 - val_loss: 6.2888\n",
            "Epoch 31/100\n",
            "9/9 [==============================] - 17s 2s/step - loss: 0.0049 - val_loss: 6.2774\n",
            "Epoch 32/100\n",
            "9/9 [==============================] - 17s 2s/step - loss: 0.0043 - val_loss: 6.3775\n",
            "Epoch 33/100\n",
            "9/9 [==============================] - 17s 2s/step - loss: 0.0059 - val_loss: 6.2859\n",
            "Epoch 34/100\n",
            "9/9 [==============================] - 17s 2s/step - loss: 0.0036 - val_loss: 6.2800\n",
            "Epoch 35/100\n",
            "9/9 [==============================] - 17s 2s/step - loss: 0.0040 - val_loss: 6.4069\n",
            "Epoch 36/100\n",
            "9/9 [==============================] - 17s 2s/step - loss: 0.0036 - val_loss: 6.4280\n",
            "Epoch 37/100\n",
            "9/9 [==============================] - 17s 2s/step - loss: 0.0031 - val_loss: 6.4336\n",
            "Epoch 38/100\n",
            "9/9 [==============================] - 17s 2s/step - loss: 0.0057 - val_loss: 6.1221\n",
            "Epoch 39/100\n",
            "9/9 [==============================] - 17s 2s/step - loss: 0.0038 - val_loss: 6.3376\n",
            "Epoch 40/100\n",
            "9/9 [==============================] - 17s 2s/step - loss: 0.0049 - val_loss: 6.4091\n",
            "Epoch 41/100\n",
            "9/9 [==============================] - 17s 2s/step - loss: 0.0034 - val_loss: 6.3247\n",
            "Epoch 42/100\n",
            "9/9 [==============================] - 17s 2s/step - loss: 0.0024 - val_loss: 6.3968\n",
            "Epoch 43/100\n",
            "9/9 [==============================] - 17s 2s/step - loss: 0.0027 - val_loss: 6.5032\n",
            "Epoch 44/100\n",
            "9/9 [==============================] - 17s 2s/step - loss: 0.0024 - val_loss: 6.5713\n",
            "Epoch 45/100\n",
            "9/9 [==============================] - 17s 2s/step - loss: 0.0022 - val_loss: 6.5961\n",
            "Epoch 46/100\n",
            "9/9 [==============================] - 17s 2s/step - loss: 0.0022 - val_loss: 6.5998\n",
            "Epoch 47/100\n",
            "9/9 [==============================] - 17s 2s/step - loss: 0.0017 - val_loss: 6.7188\n",
            "Epoch 48/100\n",
            "9/9 [==============================] - 17s 2s/step - loss: 0.0016 - val_loss: 6.6125\n",
            "Epoch 49/100\n",
            "9/9 [==============================] - 17s 2s/step - loss: 0.0019 - val_loss: 6.7518\n",
            "Epoch 50/100\n",
            "9/9 [==============================] - 17s 2s/step - loss: 0.0017 - val_loss: 6.6437\n",
            "Epoch 51/100\n",
            "9/9 [==============================] - 17s 2s/step - loss: 0.0017 - val_loss: 6.6080\n",
            "Epoch 52/100\n",
            "9/9 [==============================] - 17s 2s/step - loss: 0.0018 - val_loss: 6.5920\n",
            "Epoch 53/100\n",
            "9/9 [==============================] - 17s 2s/step - loss: 0.0017 - val_loss: 6.6689\n",
            "Epoch 54/100\n",
            "9/9 [==============================] - 17s 2s/step - loss: 0.0018 - val_loss: 6.7643\n",
            "Epoch 55/100\n",
            "9/9 [==============================] - 17s 2s/step - loss: 0.0015 - val_loss: 6.8167\n",
            "Epoch 56/100\n",
            "9/9 [==============================] - 17s 2s/step - loss: 0.0016 - val_loss: 6.7516\n",
            "Epoch 57/100\n",
            "9/9 [==============================] - 17s 2s/step - loss: 0.0015 - val_loss: 6.7309\n",
            "Epoch 58/100\n",
            "9/9 [==============================] - 17s 2s/step - loss: 0.0013 - val_loss: 6.7467\n",
            "Epoch 59/100\n",
            "9/9 [==============================] - 17s 2s/step - loss: 0.0012 - val_loss: 6.6635\n",
            "Epoch 60/100\n",
            "9/9 [==============================] - 17s 2s/step - loss: 0.0014 - val_loss: 6.7927\n",
            "Epoch 61/100\n",
            "9/9 [==============================] - 17s 2s/step - loss: 0.0014 - val_loss: 6.7651\n",
            "Epoch 62/100\n",
            "9/9 [==============================] - 17s 2s/step - loss: 0.0013 - val_loss: 6.7681\n",
            "Epoch 63/100\n",
            "9/9 [==============================] - 17s 2s/step - loss: 0.0011 - val_loss: 6.8167\n",
            "Epoch 64/100\n",
            "9/9 [==============================] - 17s 2s/step - loss: 0.0013 - val_loss: 6.7658\n",
            "Epoch 65/100\n",
            "9/9 [==============================] - 17s 2s/step - loss: 0.0011 - val_loss: 6.7997\n",
            "Epoch 66/100\n",
            "9/9 [==============================] - 17s 2s/step - loss: 0.0012 - val_loss: 6.8699\n",
            "Epoch 67/100\n",
            "9/9 [==============================] - 17s 2s/step - loss: 0.0011 - val_loss: 6.8041\n",
            "Epoch 68/100\n",
            "9/9 [==============================] - 17s 2s/step - loss: 9.8249e-04 - val_loss: 6.8923\n",
            "Epoch 69/100\n",
            "9/9 [==============================] - 17s 2s/step - loss: 0.0012 - val_loss: 6.9692\n",
            "Epoch 70/100\n",
            "9/9 [==============================] - 17s 2s/step - loss: 0.0013 - val_loss: 6.8189\n",
            "Epoch 71/100\n",
            "9/9 [==============================] - 17s 2s/step - loss: 0.0010 - val_loss: 6.9175\n",
            "Epoch 72/100\n",
            "9/9 [==============================] - 17s 2s/step - loss: 0.0011 - val_loss: 6.8494\n",
            "Epoch 73/100\n",
            "9/9 [==============================] - 17s 2s/step - loss: 9.8114e-04 - val_loss: 6.9530\n",
            "Epoch 74/100\n",
            "9/9 [==============================] - 17s 2s/step - loss: 9.0332e-04 - val_loss: 6.9165\n",
            "Epoch 75/100\n",
            "9/9 [==============================] - 17s 2s/step - loss: 0.0014 - val_loss: 6.8914\n",
            "Epoch 76/100\n",
            "9/9 [==============================] - 17s 2s/step - loss: 9.8655e-04 - val_loss: 6.9171\n",
            "Epoch 77/100\n",
            "9/9 [==============================] - 17s 2s/step - loss: 0.0010 - val_loss: 6.9880\n",
            "Epoch 78/100\n",
            "9/9 [==============================] - 17s 2s/step - loss: 0.0013 - val_loss: 6.8507\n",
            "Epoch 79/100\n",
            "9/9 [==============================] - 17s 2s/step - loss: 9.9708e-04 - val_loss: 6.9948\n",
            "Epoch 80/100\n",
            "9/9 [==============================] - 17s 2s/step - loss: 0.0011 - val_loss: 6.7893\n",
            "Epoch 81/100\n",
            "9/9 [==============================] - 18s 2s/step - loss: 9.1864e-04 - val_loss: 6.8907\n",
            "Epoch 82/100\n",
            "9/9 [==============================] - 17s 2s/step - loss: 0.0011 - val_loss: 6.9198\n",
            "Epoch 83/100\n",
            "9/9 [==============================] - 17s 2s/step - loss: 8.9340e-04 - val_loss: 7.0623\n",
            "Epoch 84/100\n",
            "9/9 [==============================] - 17s 2s/step - loss: 8.4408e-04 - val_loss: 7.0591\n",
            "Epoch 85/100\n",
            "9/9 [==============================] - 17s 2s/step - loss: 9.5686e-04 - val_loss: 6.9132\n",
            "Epoch 86/100\n",
            "9/9 [==============================] - 17s 2s/step - loss: 8.4823e-04 - val_loss: 6.9241\n",
            "Epoch 87/100\n",
            "9/9 [==============================] - 17s 2s/step - loss: 7.4144e-04 - val_loss: 6.9491\n",
            "Epoch 88/100\n",
            "9/9 [==============================] - 17s 2s/step - loss: 9.3411e-04 - val_loss: 7.0021\n",
            "Epoch 89/100\n",
            "9/9 [==============================] - 17s 2s/step - loss: 7.9140e-04 - val_loss: 6.9273\n",
            "Epoch 90/100\n",
            "9/9 [==============================] - 17s 2s/step - loss: 8.2171e-04 - val_loss: 6.8517\n",
            "Epoch 91/100\n",
            "9/9 [==============================] - 17s 2s/step - loss: 0.0052 - val_loss: 6.9198\n",
            "Epoch 92/100\n",
            "9/9 [==============================] - 17s 2s/step - loss: 9.6863e-04 - val_loss: 6.7653\n",
            "Epoch 93/100\n",
            "9/9 [==============================] - 17s 2s/step - loss: 0.0022 - val_loss: 6.7071\n",
            "Epoch 94/100\n",
            "9/9 [==============================] - 17s 2s/step - loss: 0.0049 - val_loss: 6.8611\n",
            "Epoch 95/100\n",
            "9/9 [==============================] - 17s 2s/step - loss: 0.0096 - val_loss: 6.7084\n",
            "Epoch 96/100\n",
            "9/9 [==============================] - 17s 2s/step - loss: 0.0010 - val_loss: 6.7891\n",
            "Epoch 97/100\n",
            "9/9 [==============================] - 17s 2s/step - loss: 9.8094e-04 - val_loss: 6.7528\n",
            "Epoch 98/100\n",
            "9/9 [==============================] - 17s 2s/step - loss: 0.0016 - val_loss: 6.6675\n",
            "Epoch 99/100\n",
            "9/9 [==============================] - 17s 2s/step - loss: 8.9055e-04 - val_loss: 6.6542\n",
            "Epoch 100/100\n",
            "9/9 [==============================] - 17s 2s/step - loss: 8.9572e-04 - val_loss: 6.6666\n"
          ]
        },
        {
          "output_type": "execute_result",
          "data": {
            "text/plain": [
              "<keras.callbacks.History at 0x7fd5305d6fd0>"
            ]
          },
          "metadata": {},
          "execution_count": 94
        }
      ]
    },
    {
      "cell_type": "code",
      "source": [
        "model.save_pretrained('./final_ics472-aqa-project')"
      ],
      "metadata": {
        "id": "V7H4DuPjKJXg"
      },
      "execution_count": 95,
      "outputs": []
    },
    {
      "cell_type": "markdown",
      "source": [
        "##Evaluation"
      ],
      "metadata": {
        "id": "dqCEkRrxNDGJ"
      }
    },
    {
      "cell_type": "code",
      "source": [
        "batch = next(iter(validation_set))\n",
        "output = model.predict_on_batch(batch)\n",
        "output.keys()\n"
      ],
      "metadata": {
        "id": "h62LiU3gNE5y",
        "colab": {
          "base_uri": "https://localhost:8080/"
        },
        "outputId": "a4fc744a-f006-49f5-9d12-72d2d194bafc"
      },
      "execution_count": 45,
      "outputs": [
        {
          "output_type": "execute_result",
          "data": {
            "text/plain": [
              "odict_keys(['loss', 'start_logits', 'end_logits'])"
            ]
          },
          "metadata": {},
          "execution_count": 45
        }
      ]
    },
    {
      "cell_type": "code",
      "source": [
        "output.start_logits.shape, output.end_logits.shape"
      ],
      "metadata": {
        "id": "BTaLirpeNIpI",
        "colab": {
          "base_uri": "https://localhost:8080/"
        },
        "outputId": "5ae77ef1-60d7-4b53-bd00-3c323ec7c23b"
      },
      "execution_count": 46,
      "outputs": [
        {
          "output_type": "execute_result",
          "data": {
            "text/plain": [
              "((8, 384), (8, 384))"
            ]
          },
          "metadata": {},
          "execution_count": 46
        }
      ]
    },
    {
      "cell_type": "code",
      "source": [
        "import numpy as np\n",
        "\n",
        "np.argmax(output.start_logits, -1), np.argmax(output.end_logits, -1)"
      ],
      "metadata": {
        "id": "72-7ld-KNMDL",
        "colab": {
          "base_uri": "https://localhost:8080/"
        },
        "outputId": "71513464-2b62-4b36-bfb3-9e86f7514e88"
      },
      "execution_count": 47,
      "outputs": [
        {
          "output_type": "execute_result",
          "data": {
            "text/plain": [
              "(array([ 0, 10, 71,  0, 59, 50, 19, 11]),\n",
              " array([ 0, 51,  0, 54,  8,  0, 19, 21]))"
            ]
          },
          "metadata": {},
          "execution_count": 47
        }
      ]
    },
    {
      "cell_type": "code",
      "source": [
        "n_best_size = 20"
      ],
      "metadata": {
        "id": "9TNdvKEbNP2G"
      },
      "execution_count": 48,
      "outputs": []
    },
    {
      "cell_type": "code",
      "source": [
        "import numpy as np\n",
        "\n",
        "start_logits = output.start_logits[0]\n",
        "end_logits = output.end_logits[0]\n",
        "\n",
        "start_indexes = np.argsort(start_logits)[-1 : -n_best_size - 1 : -1].tolist()\n",
        "end_indexes = np.argsort(end_logits)[-1 : -n_best_size - 1 : -1].tolist()\n",
        "valid_answers = []\n",
        "for start_index in start_indexes:\n",
        "    for end_index in end_indexes:\n",
        "        if (\n",
        "            start_index <= end_index\n",
        "        ):  \n",
        "            valid_answers.append(\n",
        "                {\n",
        "                    \"score\": start_logits[start_index] + end_logits[end_index],\n",
        "                    \"text\": \"\",  \n",
        "                }\n",
        "            )"
      ],
      "metadata": {
        "id": "frpocLDANUlf"
      },
      "execution_count": 49,
      "outputs": []
    },
    {
      "cell_type": "code",
      "source": [
        "def prepare_validation_features(examples):\n",
        "\n",
        "    tokenized_examples = tokenizer(\n",
        "        examples[\"question\" if pad_on_right else \"context\"],\n",
        "        examples[\"context\" if pad_on_right else \"question\"],\n",
        "        truncation=\"only_second\" if pad_on_right else \"only_first\",\n",
        "        max_length=max_length,\n",
        "        stride=doc_stride,\n",
        "        return_overflowing_tokens=True,\n",
        "        return_offsets_mapping=True,\n",
        "        padding=\"max_length\",\n",
        "    )\n",
        "\n",
        "\n",
        "    sample_mapping = tokenized_examples.pop(\"overflow_to_sample_mapping\")\n",
        "\n",
        "    tokenized_examples[\"example_id\"] = []\n",
        "\n",
        "    for i in range(len(tokenized_examples[\"input_ids\"])):\n",
        "\n",
        "        sequence_ids = tokenized_examples.sequence_ids(i)\n",
        "        context_index = 1 if pad_on_right else 0\n",
        "\n",
        "        sample_index = sample_mapping[i]\n",
        "        tokenized_examples[\"example_id\"].append(examples[\"id\"][sample_index])\n",
        "\n",
        "        tokenized_examples[\"offset_mapping\"][i] = [\n",
        "            (o if sequence_ids[k] == context_index else None)\n",
        "            for k, o in enumerate(tokenized_examples[\"offset_mapping\"][i])\n",
        "        ]\n",
        "\n",
        "    return tokenized_examples"
      ],
      "metadata": {
        "id": "vVSE8RrrNXMA"
      },
      "execution_count": 50,
      "outputs": []
    },
    {
      "cell_type": "code",
      "source": [
        "validation_features = datasets_test.map(\n",
        "    prepare_validation_features,\n",
        "    batched=True,\n",
        "    remove_columns=datasets_test.column_names,\n",
        ")"
      ],
      "metadata": {
        "id": "FlZZf7leNZ8R",
        "colab": {
          "base_uri": "https://localhost:8080/",
          "height": 49,
          "referenced_widgets": [
            "d4a8119bcdda4108ae6646850d003d96",
            "5d8e3045a7d6432b98089375b4f091b9",
            "1586c494792146d7bb251f09bf71726c",
            "6be30a9af5d84ae8af87f5065b2e243c",
            "7a40b7a370fa4dcda1cade7bfe725606",
            "edc635def6f04f238b20c50b356ce429",
            "d4d7acd486594d77a9a9f202d64a309e",
            "06f3e1a935624c15b9bc26c7f898f4de",
            "2212577777894b868195dcab5a449af8",
            "4bf5065f3d19462cabef0d199a116c12",
            "24e152fd182042788ca174a626fb194c"
          ]
        },
        "outputId": "d4a7390e-b55c-4bef-8b14-7000a17135db"
      },
      "execution_count": 51,
      "outputs": [
        {
          "output_type": "display_data",
          "data": {
            "text/plain": [
              "  0%|          | 0/1 [00:00<?, ?ba/s]"
            ],
            "application/vnd.jupyter.widget-view+json": {
              "version_major": 2,
              "version_minor": 0,
              "model_id": "d4a8119bcdda4108ae6646850d003d96"
            }
          },
          "metadata": {}
        }
      ]
    },
    {
      "cell_type": "code",
      "source": [
        "validation_dataset = validation_features.to_tf_dataset(\n",
        "    columns=[\"attention_mask\", \"input_ids\"],\n",
        "    shuffle=False,\n",
        "    batch_size=batch_size,\n",
        "    collate_fn=data_collator,\n",
        ")"
      ],
      "metadata": {
        "id": "5ON-H_KIOUts"
      },
      "execution_count": 52,
      "outputs": []
    },
    {
      "cell_type": "code",
      "source": [
        "raw_predictions = model.predict(validation_dataset)"
      ],
      "metadata": {
        "id": "qjVaaEBoOZbW"
      },
      "execution_count": 53,
      "outputs": []
    },
    {
      "cell_type": "code",
      "source": [
        "max_answer_length = 30"
      ],
      "metadata": {
        "id": "C-funrenOb3x"
      },
      "execution_count": 54,
      "outputs": []
    },
    {
      "cell_type": "code",
      "source": [
        "start_logits = output.start_logits[0]\n",
        "end_logits = output.end_logits[0]\n",
        "offset_mapping = validation_features[0][\"offset_mapping\"]\n",
        "\n",
        "context = datasets_test[0][\"context\"]\n",
        "\n",
        "start_indexes = np.argsort(start_logits)[-1 : -n_best_size - 1 : -1].tolist()\n",
        "end_indexes = np.argsort(end_logits)[-1 : -n_best_size - 1 : -1].tolist()\n",
        "valid_answers = []\n",
        "for start_index in start_indexes:\n",
        "    for end_index in end_indexes:\n",
        "\n",
        "        if (\n",
        "            start_index >= len(offset_mapping)\n",
        "            or end_index >= len(offset_mapping)\n",
        "            or offset_mapping[start_index] is None\n",
        "            or offset_mapping[end_index] is None\n",
        "        ):\n",
        "            continue\n",
        "\n",
        "        if end_index < start_index or end_index - start_index + 1 > max_answer_length:\n",
        "            continue\n",
        "        if (\n",
        "            start_index <= end_index\n",
        "        ):  \n",
        "            start_char = offset_mapping[start_index][0]\n",
        "            end_char = offset_mapping[end_index][1]\n",
        "            valid_answers.append(\n",
        "                {\n",
        "                    \"score\": start_logits[start_index] + end_logits[end_index],\n",
        "                    \"text\": context[start_char:end_char],\n",
        "                }\n",
        "            )\n",
        "\n",
        "valid_answers = sorted(valid_answers, key=lambda x: x[\"score\"], reverse=True)[\n",
        "    :n_best_size\n",
        "]\n",
        "valid_answers"
      ],
      "metadata": {
        "id": "oiGn6wGYOdaa",
        "colab": {
          "base_uri": "https://localhost:8080/"
        },
        "outputId": "1de5be1b-b1ea-4a5c-cdfe-174b995d2c7e"
      },
      "execution_count": 55,
      "outputs": [
        {
          "output_type": "execute_result",
          "data": {
            "text/plain": [
              "[{'score': 3.926443, 'text': 'ابي من صحابة'},\n",
              " {'score': 3.8427482, 'text': 'ابي من صحابة رسول الإسلام محمد، وعمُّه وأخ'},\n",
              " {'score': 3.822568, 'text': 'صحابي من صحابة'},\n",
              " {'score': 3.8190947, 'text': 'ابي'},\n",
              " {'score': 3.7388732, 'text': 'صحابي من صحابة رسول الإسلام محمد، وعمُّه وأخ'},\n",
              " {'score': 3.7152195, 'text': 'صحابي'},\n",
              " {'score': 3.6859488,\n",
              "  'text': ': «خَيْرُ إِخْوَتِي عَلِيٌّ، وَخَيْرُ أَعْمَامِي حَمْزَةُ رَضِيَ اللَّه'},\n",
              " {'score': 3.657933,\n",
              "  'text': 'خير أعمامه لقوله: «خَيْرُ إِخْوَتِي عَلِيٌّ، وَخَيْرُ أَعْمَامِي حَمْزَةُ رَضِيَ اللَّه'},\n",
              " {'score': 3.6548944, 'text': 'صح'},\n",
              " {'score': 3.626093, 'text': 'ابي من صحابة رسول الإسلام محمد، وعمُّه'},\n",
              " {'score': 3.6230273,\n",
              "  'text': 'ابي من صحابة رسول الإسلام محمد، وعمُّه وأخوه من الرضاعة وأحد وزرائه الأربعة عشر، وهو خير'},\n",
              " {'score': 3.6218736, 'text': 'خير'},\n",
              " {'score': 3.5765266, 'text': 'ابي من صحابة رسول'},\n",
              " {'score': 3.527875, 'text': 'ابي من'},\n",
              " {'score': 3.522218, 'text': 'صحابي من صحابة رسول الإسلام محمد، وعمُّه'},\n",
              " {'score': 3.5191522,\n",
              "  'text': 'صحابي من صحابة رسول الإسلام محمد، وعمُّه وأخوه من الرضاعة وأحد وزرائه الأربعة عشر، وهو خير'},\n",
              " {'score': 3.4726517, 'text': 'صحابي من صحابة رسول'},\n",
              " {'score': 3.4239998, 'text': 'صحابي من'}]"
            ]
          },
          "metadata": {},
          "execution_count": 55
        }
      ]
    },
    {
      "cell_type": "code",
      "source": [
        "datasets_test[0][\"answers\"]"
      ],
      "metadata": {
        "id": "AU0qJe3gOiya",
        "colab": {
          "base_uri": "https://localhost:8080/"
        },
        "outputId": "cd7c976f-2904-4002-d9ca-e720dad20027"
      },
      "execution_count": 56,
      "outputs": [
        {
          "output_type": "execute_result",
          "data": {
            "text/plain": [
              "{'answer_start': 34,\n",
              " 'text': 'صحابي من صحابة رسول الإسلام محمد، وعمُّه وأخوه من الرضاعة وأحد وزرائه الأربعة عشر،'}"
            ]
          },
          "metadata": {},
          "execution_count": 56
        }
      ]
    },
    {
      "cell_type": "code",
      "source": [
        "import collections\n",
        "squad_v2 = False\n",
        "examples = datasets_test\n",
        "features = validation_features\n",
        "\n",
        "example_id_to_index = {k: i for i, k in enumerate(examples[\"id\"])}\n",
        "features_per_example = collections.defaultdict(list)\n",
        "for i, feature in enumerate(features):\n",
        "    features_per_example[example_id_to_index[feature[\"example_id\"]]].append(i)"
      ],
      "metadata": {
        "id": "E-RImYZJOo9r"
      },
      "execution_count": 60,
      "outputs": []
    },
    {
      "cell_type": "code",
      "source": [
        "from tqdm.auto import tqdm\n",
        "\n",
        "\n",
        "def postprocess_qa_predictions(\n",
        "    examples,\n",
        "    features,\n",
        "    all_start_logits,\n",
        "    all_end_logits,\n",
        "    n_best_size=20,\n",
        "    max_answer_length=30,\n",
        "):\n",
        "\n",
        "    example_id_to_index = {k: i for i, k in enumerate(examples[\"id\"])}\n",
        "    features_per_example = collections.defaultdict(list)\n",
        "    for i, feature in enumerate(features):\n",
        "        features_per_example[example_id_to_index[feature[\"example_id\"]]].append(i)\n",
        "\n",
        "\n",
        "    predictions = collections.OrderedDict()\n",
        "\n",
        "\n",
        "    print(\n",
        "        f\"Post-processing {len(examples)} example predictions split into {len(features)} features.\"\n",
        "    )\n",
        "\n",
        "\n",
        "    for example_index, example in enumerate(tqdm(examples)):\n",
        "\n",
        "        feature_indices = features_per_example[example_index]\n",
        "\n",
        "        min_null_score = None  \n",
        "        valid_answers = []\n",
        "\n",
        "        context = example[\"context\"]\n",
        "\n",
        "        for feature_index in feature_indices:\n",
        "\n",
        "            start_logits = all_start_logits[feature_index]\n",
        "            end_logits = all_end_logits[feature_index]\n",
        "\n",
        "            offset_mapping = features[feature_index][\"offset_mapping\"]\n",
        "\n",
        "            cls_index = features[feature_index][\"input_ids\"].index(\n",
        "                tokenizer.cls_token_id\n",
        "            )\n",
        "            feature_null_score = start_logits[cls_index] + end_logits[cls_index]\n",
        "            if min_null_score is None or min_null_score < feature_null_score:\n",
        "                min_null_score = feature_null_score\n",
        "\n",
        "            start_indexes = np.argsort(start_logits)[\n",
        "                -1 : -n_best_size - 1 : -1\n",
        "            ].tolist()\n",
        "            end_indexes = np.argsort(end_logits)[-1 : -n_best_size - 1 : -1].tolist()\n",
        "            for start_index in start_indexes:\n",
        "                for end_index in end_indexes:\n",
        "\n",
        "                    if (\n",
        "                        start_index >= len(offset_mapping)\n",
        "                        or end_index >= len(offset_mapping)\n",
        "                        or offset_mapping[start_index] is None\n",
        "                        or offset_mapping[end_index] is None\n",
        "                    ):\n",
        "                        continue\n",
        "\n",
        "                    if (\n",
        "                        end_index < start_index\n",
        "                        or end_index - start_index + 1 > max_answer_length\n",
        "                    ):\n",
        "                        continue\n",
        "\n",
        "                    start_char = offset_mapping[start_index][0]\n",
        "                    end_char = offset_mapping[end_index][1]\n",
        "                    valid_answers.append(\n",
        "                        {\n",
        "                            \"score\": start_logits[start_index] + end_logits[end_index],\n",
        "                            \"text\": context[start_char:end_char],\n",
        "                        }\n",
        "                    )\n",
        "\n",
        "        if len(valid_answers) > 0:\n",
        "            best_answer = sorted(valid_answers, key=lambda x: x[\"score\"], reverse=True)[\n",
        "                0\n",
        "            ]\n",
        "        else:\n",
        "\n",
        "            best_answer = {\"text\": \"\", \"score\": 0.0}\n",
        "\n",
        "        \n",
        "        if not squad_v2:\n",
        "            predictions[example[\"id\"]] = best_answer[\"text\"]\n",
        "        else:\n",
        "            answer = (\n",
        "                best_answer[\"text\"] if best_answer[\"score\"] > min_null_score else \"\"\n",
        "            )\n",
        "            predictions[example[\"id\"]] = answer\n",
        "\n",
        "    return predictions"
      ],
      "metadata": {
        "id": "lz-QYO1FOuHU"
      },
      "execution_count": 61,
      "outputs": []
    },
    {
      "cell_type": "code",
      "source": [
        "final_predictions = postprocess_qa_predictions(\n",
        "    datasets_test,\n",
        "    validation_features,\n",
        "    raw_predictions[\"start_logits\"],\n",
        "    raw_predictions[\"end_logits\"],\n",
        ")\n",
        "print(final_predictions.items())\n"
      ],
      "metadata": {
        "id": "SnZwGYv_OxmZ",
        "colab": {
          "base_uri": "https://localhost:8080/",
          "height": 104,
          "referenced_widgets": [
            "fb911de6893f486cb249553fa97cf890",
            "f56c99770af44b3393eefd8cba487c1f",
            "ab41eaf3d5094425a40803a87e9d45f4",
            "657709d3272b4188870a48385224515a",
            "ade050100fdf40e0bf50ec04f1c84724",
            "4d65e0e9315c4f9fbd005bdb08f01dde",
            "015f9b35255d4c8c922d3a969c7ff162",
            "f3a26462627f48ec8f39d17202363a20",
            "7811a04bbe8d411185b2decfca2a7e71",
            "ba2de29816b344419c41fd787f9049fd",
            "7686c5d7e0a84554a5a5281a7ed30861"
          ]
        },
        "outputId": "4785464c-c1de-4e0e-b414-0843af70d5fa"
      },
      "execution_count": 62,
      "outputs": [
        {
          "output_type": "stream",
          "name": "stdout",
          "text": [
            "Post-processing 71 example predictions split into 73 features.\n"
          ]
        },
        {
          "output_type": "display_data",
          "data": {
            "text/plain": [
              "  0%|          | 0/71 [00:00<?, ?it/s]"
            ],
            "application/vnd.jupyter.widget-view+json": {
              "version_major": 2,
              "version_minor": 0,
              "model_id": "fb911de6893f486cb249553fa97cf890"
            }
          },
          "metadata": {}
        },
        {
          "output_type": "stream",
          "name": "stdout",
          "text": [
            "odict_items([('621723207492', 'صحابي من صحابة رسول الإسلام محمد، وعمُّه وأخوه من الرضاعة وأحد وزرائه الأربعة عشر، وهو'), ('809758390695', 'بالإضافة إلى أنه خامس أكبر قمرٍ طبيعيٍ في المجموعة الشمسية. فهو'), ('147293444932', 'مدينة مقدسة لدى المسلمين، بها المسجد الحرام، والكعبة التي تعد قبلة المسلمين في صلاتهم. تقع'), ('990778242153', 'الأبراج'), ('415269827302', '(2'), ('784255729308', 'طيف التوحد أو مختلف اضطرابات النمو المتفشية، هو اضطراب النمو العصبي الذي'), ('124880607612', 'Manchester United Football Club) ويعرف'), ('550131195698', 'شاعرعربي من مكانة رفيعة، بَرز في فترةِ الجاهلية، ويُعد'), ('361673467364', '\" وهي'), ('25304657387', 'إنْكِلْترا (بالإنجليزية: Eng'), ('517594478761', '(1165 - 1227م) . وهو'), ('538945350605', '(ميلاد: 6 نوفمبر 1494 بطرابزون، وفاة: 7 سبتمبر 1566 بسيكتوار)،'), ('168251134990', 'مراكز أو أقسام أو مراكز وأقسام معاً، المراكز الإدارية توجد في المحافظات التي بها ريف، وين'), ('4664484146', '1945 في مدينة'), ('507285299079', 'هي جمهورية فيدرالية وبلد غير ساحلي يقع'), ('243469500443', 'هي دولة عربية وأفريقية، تقع'), ('420017214319', '(15'), ('332061731788', '4'), ('802819858675', 'إمبراطورية المغول أو الإمبراطورية المغولية أو الإمبراطورية المنغولية (بالمغولية: М'), ('919895462592', ')، ويعتبرها بعض المؤرخين من أهم المعارك في تاريخ العالم لأنها'), ('756087650018', '1505 وقد'), ('865035953810', 'ترامادول (بالإنجليزية: Tramadol) هو مسكن ألم مركزي له مفعول مقارب للكودايين، وهو نظير هذا الأخير. ويص'), ('297936343221', '17'), ('725988702909', '(23'), ('73557521029', 'لاعب كرة قدم برازيلي سابق اعتزل لعب كرة القدم في فبراير عام 2011، وُلد يوم 22'), ('591547410873', 'الإعجاز'), ('167300230211', '('), ('876389952025', 'هي  دولة عربية تقع'), ('954102634361', 'Z'), ('248723650065', 'هي دولة في أمريكا الشمالية تتألف من 10 مقاطعات وثلاثة أقاليم. أراضي كندا مأهولة منذ آلاف السنين من قبل مجموعات'), ('241639333474', '(19'), ('12191844396', 'هي ثاني خلافة في تاريخ الإسلام، وأكبر دولة في تاريخ الإسلام، وواحدةٌ من أكبر الدُّوَلِ الحاكِمة في التاريخ. يرجع الأمويون في نسبهم إلى'), ('607293526021', 'هي أهم مسابقة لرياضة كرة القدم تقام تحت إشراف الاتحاد الدولي لكرة القدم. وتقام بطولة كأس العالم كل أربع سنوات منذ عام'), ('419795417510', '(23'), ('192143037394', 'وهذا'), ('10737648493', '). أقيمت البطولة أول مرة عام'), ('626665128310', 'هي فرقة فتيان كورية جنوبية صينية تشكلت بواسطة إس إم إنترتينمنت، تأسست الفرقة في عام'), ('700875109722', 'فاطمة بنت'), ('492279725872', 'تقع'), ('345420011906', 'هو الرئيس الخامس والأربعون للولايات المتحدة الأمريكية والحالي منذ 20 يناير 2017، وهو'), ('845301245731', 'نانسي نبيل عجرم هي مغنية لبنانية (من مواليد 16'), ('908720674244', 'هي إحدى'), ('485668827760', '('), ('776694712557', 'تقع'), ('349269736518', '('), ('450320199237', '190'), ('656759110650', 'هي منطقة جغرافية في'), ('297816646023', '('), ('936851592782', 'هو أحد أشهر شعراء العرب في فترة ما قبل الإسلام، واشتهر بشعر الفروسية،'), ('711841036142', ') هو احتفال ظهر حديثاً في مطلع'), ('866109889455', '('), ('903580558707', '('), ('110058198329', 'فطاحلة اللغة العربية كسيبويه والعلامة أبو الأسود الدؤلي والخليل بن أحمد الفراهيدي وغيرهم، حيث'), ('551255164976', '('), ('638004998278', 'منطقة ناغورني قرة باغ ذات الأغلبية الأرمنية في الجنوب الغربي من أذربيجان أعلنت نفسها مستقلة من أذربيجان في عام'), ('256235646792', '(40 - 95 هـ = 660 - 714 م)،'), ('819851999317', 'Can'), ('407193616159', '('), ('170440072453', '(303هـ - 354هـ) (91'), ('312679657578', '\" فكرّمه الله تعالى بقدرة إلهية وآنسه بحادثة الإسراء والمعراج، فأي تكريم ومؤانسة أشد وأعظم من تكريم كهذا إذ'), ('603885464301', 'تقع'), ('255457697673', 'هو نادي كرة قدم إنجليزي محترف، تأسس بتاريخ 15'), ('69753145621', 'هي الدولة الأكثر سكانًا في العالم حيث'), ('611673520160', '186'), ('489914443978', 'وهي'), ('468041944124', '('), ('472874517914', ') هي غزوة وقعت في السابع'), ('991932191786', 'كانت تتخبَّط فيه من اضطراب وما كان يتهدَّدها من أخطار. وفي سنة 129'), ('506565318741', 'أوروبا'), ('775319039596', 'هي دولة عضو في الاتحاد الأوروبي تقع في'), ('218560719663', 'تقع')])\n"
          ]
        }
      ]
    },
    {
      "cell_type": "code",
      "source": [
        "from datasets import load_metric\n",
        "metric = load_metric(\"squad_v2\" if squad_v2 else \"squad\")\n"
      ],
      "metadata": {
        "id": "N79uaUC_Ozud"
      },
      "execution_count": 65,
      "outputs": []
    },
    {
      "cell_type": "code",
      "source": [
        "if squad_v2:\n",
        "    formatted_predictions = [\n",
        "        {\"id\": k, \"prediction_text\": v, \"no_answer_probability\": 0.0}\n",
        "        for k, v in final_predictions.items()\n",
        "    ]\n",
        "else:\n",
        "    formatted_predictions = [\n",
        "        {\"id\": k, \"prediction_text\": v} for k, v in final_predictions.items()\n",
        "    ]\n",
        "references = [\n",
        "    {\"id\": ex[\"id\"], \"answers\": ex[\"answers\"]} for ex in datasets_test\n",
        "]\n",
        "metric.compute(predictions=formatted_predictions, references=references)"
      ],
      "metadata": {
        "id": "0N4sQvgAPn2t"
      },
      "execution_count": 95,
      "outputs": []
    },
    {
      "cell_type": "code",
      "source": [
        "print(datasets_test['answers'])"
      ],
      "metadata": {
        "id": "_KEDkdUZQJhS"
      },
      "execution_count": null,
      "outputs": []
    },
    {
      "cell_type": "code",
      "source": [
        "from transformers import TFAutoModelForQuestionAnswering\n",
        "\n",
        "tess = TFAutoModelForQuestionAnswering.from_pretrained(\"./final_ics472-aqa-project\")"
      ],
      "metadata": {
        "id": "-meu4okQV_lR"
      },
      "execution_count": null,
      "outputs": []
    },
    {
      "cell_type": "code",
      "source": [
        "from transformers import AutoTokenizer, TFAutoModelForQuestionAnswering\n",
        "import tensorflow as tf\n",
        "\n",
        "tokenizer = AutoTokenizer.from_pretrained(\"asafaya/bert-base-arabic\")\n",
        "model = TFAutoModelForQuestionAnswering.from_pretrained(\"./ics472-aqa-project\")\n",
        "\n",
        "text = r\"\"\"\n",
        "\n",
        "تقع سويسرا في قلب القارة الأوروبية وتحيط بها خمس دول، وهي ألمانيا من الشمال وإيطاليا من الجنوب والنمسا وإمارة ليختنشتاين من الشرق وفرنسا من الغرب، وليست لها منافذ بحرية وتبلغ مساحتها حوالي 41300 كيلومترا مربعا. وتتكون سويسرا من ثلاث مناطق جغرافية وهي: سلسلة جبال الألب، التي تمتد في الجنوب وتغطي حوالي ثلثي مساحة البلاد ويبلغ ارتفاع أعلى قممها \"بونتا دوفور\" 4638م. ثم هناك سلسلة جبال جورا والتي تمتد على شكل هلال في غرب وشمال البلاد، وتمثل الحد الفاصل بين سويسرا وفرنسا وتغطي نحو 12٪ من المساحة الكلية، ويبلغ ارتفاع أعلى قممها \"كريت دو لا نيج\" 1718 م، وبين هاتين المجموعتين من السلاسل الجبلية، تمتد منطقة الهضبة السهلية التي تضم معظم المدن والقرى السويسرية.\n",
        "\"\"\"\n",
        "\n",
        "questions = [\n",
        "      \"كم دولة على الحدود مع سويسرا\"\n",
        "      ,\"كم دولة تحيط بسويسرا؟\"\n",
        "      ,\"ما مساحتها\"\n",
        "      ,\"ما هي المساحة الاجمالية لسويسرا؟\"\n",
        "      ,\"أي دولة تقع جنوب سويسرا؟\"\n",
        "      ,\"ما هي الدول الواقعة شرق سويسرا؟\"\n",
        "]\n",
        "\n",
        "for question in questions:\n",
        "    inputs = tokenizer(question, text, add_special_tokens=True, return_tensors=\"tf\")\n",
        "    input_ids = inputs[\"input_ids\"].numpy()[0]\n",
        "\n",
        "    outputs = model(inputs)\n",
        "    answer_start_scores = outputs.start_logits\n",
        "    answer_end_scores = outputs.end_logits\n",
        "\n",
        "    # Get the most likely beginning of answer with the argmax of the score\n",
        "    answer_start = tf.argmax(answer_start_scores, axis=1).numpy()[0]\n",
        "    # Get the most likely end of answer with the argmax of the score\n",
        "    answer_end = tf.argmax(answer_end_scores, axis=1).numpy()[0] + 1\n",
        "\n",
        "    answer = tokenizer.convert_tokens_to_string(\n",
        "        tokenizer.convert_ids_to_tokens(input_ids[answer_start:answer_end])\n",
        "    )\n",
        "\n",
        "    print(f\"Question: {question}\")\n",
        "    print(f\"Answer: {answer}\")"
      ],
      "metadata": {
        "id": "2k7LI835Winq"
      },
      "execution_count": null,
      "outputs": []
    },
    {
      "cell_type": "code",
      "source": [
        "ve = []\n",
        "ke = []\n",
        "for k, v in final_predictions.items():\n",
        "  ke = k\n",
        "  ve = v"
      ],
      "metadata": {
        "id": "-rsCdK5HLchU"
      },
      "execution_count": 68,
      "outputs": []
    },
    {
      "cell_type": "code",
      "source": [
        "print(type(ke[0]))"
      ],
      "metadata": {
        "colab": {
          "base_uri": "https://localhost:8080/"
        },
        "id": "DZRgEVeXaR7-",
        "outputId": "88511046-d042-44ac-c6a7-1e95900f8ab9"
      },
      "execution_count": 82,
      "outputs": [
        {
          "output_type": "stream",
          "name": "stdout",
          "text": [
            "<class 'str'>\n"
          ]
        }
      ]
    }
  ]
}