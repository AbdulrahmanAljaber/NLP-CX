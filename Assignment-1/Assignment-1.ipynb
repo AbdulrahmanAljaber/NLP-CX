{
 "cells": [
  {
   "cell_type": "markdown",
   "metadata": {},
   "source": [
    "# Regular Expressions and Python with UNIX tools"
   ]
  },
  {
   "cell_type": "markdown",
   "metadata": {},
   "source": [
    "This assignment is about the use of regular expressions (regex) and Python including a set of Unix tools for quick text processing. The specific number of points for each question is provided."
   ]
  },
  {
   "cell_type": "markdown",
   "metadata": {},
   "source": [
    "## Before Starting"
   ]
  },
  {
   "cell_type": "markdown",
   "metadata": {},
   "source": [
    "### A. The United Nations Corpus"
   ]
  },
  {
   "cell_type": "markdown",
   "metadata": {},
   "source": [
    "In this assignment, you will make use of the United Nations (UNCorpus), a corpus on the UN general assembly resolutions. The UNCorpus is a six-language parallel text in Arabic, Chinese, English, French, Russian and Spanish.  The following paper describes the corpus:\n",
    "Alexandre Rafalovitch and Robert Dale. 2009. United Nations General Assembly Resolutions: A Six-Language Parallel Corpus. In Proceedings of the MT Summit XII, pages 292-299, Ottawa, Canada.\n",
    "\n",
    "URL: http://web.science.mq.edu.au/~rdale/publications/papers/2009/MTS-2009-Rafalovitch.pdf\n",
    "\n",
    "The portion of the UN corpus we will work with is provided with the assignment in the file \"uncorpora_plain_20090831.tmx\". This file will be referred to as the UNCorpus in the rest of this document."
   ]
  },
  {
   "cell_type": "markdown",
   "metadata": {},
   "source": [
    "### B. Unix Tools"
   ]
  },
  {
   "cell_type": "markdown",
   "metadata": {},
   "source": [
    "Revise the usage of the following Unix commands (and some of their specific options), which you will need in this assignment: cat, wc, sort (sort -nr), uniq (uniq - c), grep (grep -e; grep -a), comm, and more (the command that is).  You can use the man command to check the usage from any Unix terminal (e.g. man cat).  You can also check this\n",
    "online man page: http://man7.org/linux/man-pages/. Other Unix commands you may want to consider checking are: less, tr and sed.\n",
    "\n",
    "Additionally, revise the use of the pipeline and I/O redirections (|  and >, specifically). For a quick introduction, see:\n",
    "\n",
    "https://www.youtube.com/watch?v=K-yILGfjn3U\n",
    "\n",
    "http://www.westwind.com/reference/os-x/commandline/pipes.html."
   ]
  },
  {
   "cell_type": "markdown",
   "metadata": {},
   "source": [
    "### C. Regular Expressions"
   ]
  },
  {
   "cell_type": "markdown",
   "metadata": {},
   "source": [
    "A useful resource to test your regex:  https://regex101.com/"
   ]
  },
  {
   "cell_type": "markdown",
   "metadata": {},
   "source": [
    "## Questions & Answers"
   ]
  },
  {
   "cell_type": "markdown",
   "metadata": {},
   "source": [
    "For each question involving regular expression, apart from the python code include the regex as tested on https://regex101.com/ as comment in the top of the cell."
   ]
  },
  {
   "cell_type": "markdown",
   "metadata": {},
   "source": [
    "### Q0: (2pt) Ignoring letter case, how many lines of text in the UNCorpus mention the term Human Rights?"
   ]
  },
  {
   "cell_type": "code",
   "execution_count": 2,
   "metadata": {},
   "outputs": [],
   "source": [
    "## TODO: ADD YOUR CODE ###\n",
    "import re\n",
    "path = './uncorpora_plain_20090831.tmx'\n",
    "file = open(path, encoding = 'UTF-8')\n",
    "corpus = file.read()\n",
    "\n",
    "\n"
   ]
  },
  {
   "cell_type": "code",
   "execution_count": null,
   "metadata": {},
   "outputs": [],
   "source": [
    "## TODO: ADD YOUR CODE ###\n",
    "hr = re.findall(\".*[hH]uman [Rr]ights.*\\n\",corpus)\n",
    "print(\"{} lines of text\".format(len(hr)))"
   ]
  },
  {
   "cell_type": "markdown",
   "metadata": {},
   "source": [
    "Your answer should look like this:\n",
    "\n",
    "5,664 lines of text."
   ]
  },
  {
   "cell_type": "markdown",
   "metadata": {},
   "source": [
    "### Q1: (5 pt) Describe the XML structure of the UNCorpus file."
   ]
  },
  {
   "cell_type": "code",
   "execution_count": 230,
   "metadata": {},
   "outputs": [
    {
     "name": "stdout",
     "output_type": "stream",
     "text": [
      "The XML Recommendation states that an XML document has both logical and physical structure. Physically, it is comprised of storage units called entities, each of which may refer to other entities, similar to the way that include works in the C language. Logically, an XML document consists of declarations, elements, comments, character references, and processing instructions, collectively known as the markup.\n"
     ]
    }
   ],
   "source": [
    "## TODO: ADD YOUR CODE ###\n",
    "print('The XML Recommendation states that an XML document has both logical and physical structure. Physically, it is comprised of storage units called entities, each of which may refer to other entities, similar to the way that include works in the C language. Logically, an XML document consists of declarations, elements, comments, character references, and processing instructions, collectively known as the markup.')"
   ]
  },
  {
   "cell_type": "markdown",
   "metadata": {},
   "source": [
    "### Q2: (20 pt) The Full UNCorpus\n",
    "\n",
    "Answer the following questions using Python and regular expressions.  "
   ]
  },
  {
   "cell_type": "raw",
   "metadata": {},
   "source": [
    "a.\tHow many lines does the UNCorpus file have?"
   ]
  },
  {
   "cell_type": "code",
   "execution_count": 13,
   "metadata": {},
   "outputs": [
    {
     "name": "stdout",
     "output_type": "stream",
     "text": [
      "1501316 lines of text\n"
     ]
    }
   ],
   "source": [
    "## TODO: ADD YOUR CODE ###\n",
    "\n",
    "\n",
    "pattern = re.compile(r'\\n')\n",
    "matches = pattern.findall(corpus)\n",
    "print(\"{} lines of text\".format(len(matches)))"
   ]
  },
  {
   "cell_type": "raw",
   "metadata": {},
   "source": [
    "b.\tHow many lines with the segment tag \"<seg>?"
   ]
  },
  {
   "cell_type": "code",
   "execution_count": 11,
   "metadata": {},
   "outputs": [
    {
     "name": "stdout",
     "output_type": "stream",
     "text": [
      "434034 is the total number of unique words (types) ignoring capitalization.\n"
     ]
    }
   ],
   "source": [
    "## TODO: ADD YOUR CODE ###\n",
    "\n",
    "pattern = re.compile(r'<seg>')\n",
    "matches = pattern.findall(corpus)\n",
    "print(\"{} lines of segment tag <seg>\".format(len(matches)))"
   ]
  },
  {
   "cell_type": "raw",
   "metadata": {},
   "source": [
    "c.\tHow many lines with no <seg> tags? As in tags such as <prop> and </tuv>?"
   ]
  },
  {
   "cell_type": "code",
   "execution_count": 14,
   "metadata": {},
   "outputs": [
    {
     "name": "stdout",
     "output_type": "stream",
     "text": [
      "1501316 lines with no <seg> tag \n"
     ]
    }
   ],
   "source": [
    "## TODO: ADD YOUR CODE ###\n",
    "pattern = re.compile(r'\\n')\n",
    "matches = pattern.findall(corpus)\n",
    "print(\"{} lines with no <seg> tag \".format(len(matches)))"
   ]
  },
  {
   "cell_type": "raw",
   "metadata": {},
   "source": [
    "d.\tHow many English segments does the text have?"
   ]
  },
  {
   "cell_type": "code",
   "execution_count": 15,
   "metadata": {},
   "outputs": [
    {
     "name": "stdout",
     "output_type": "stream",
     "text": [
      "72339 lines of English segments\n"
     ]
    }
   ],
   "source": [
    "pattern = re.compile(r'<tuv xml:lang=\"EN\">')\n",
    "matches = pattern.findall(corpus)\n",
    "print(\"{} lines of English segments\".format(len(matches)))"
   ]
  },
  {
   "cell_type": "markdown",
   "metadata": {},
   "source": [
    "### Q3: (25 pt) The English UNCorpus\n",
    "\n",
    "A word in this exercise is simply any sequence of one or more non-space characters.\n",
    "\n",
    "Before you start, extract the text without XML for only the English segments and put in a file called \"uncorpus.eng.txt\"  (Hint, use \"grep -a1\").\n",
    "\n",
    "To validate that you did this task correctly, make sure that you get the same result as below when you run wc:\n",
    "\n",
    "wc -c  uncorpus.eng.txt\n",
    " 18009005 uncorpus.eng.txt\n",
    "\n",
    "The rest of the questions are about this file."
   ]
  },
  {
   "cell_type": "code",
   "execution_count": 20,
   "metadata": {},
   "outputs": [
    {
     "name": "stdout",
     "output_type": "stream",
     "text": [
      "2685538\n"
     ]
    }
   ],
   "source": [
    "path2 = 'uncorpus.eng.txt'\n",
    "\n",
    "file = open(path2, encoding = 'UTF-8')\n",
    "text = file.read()\n",
    "words = text.split()\n",
    "print(len(words))\n"
   ]
  },
  {
   "cell_type": "raw",
   "metadata": {},
   "source": [
    "a.\tCount the total number of words (tokens)."
   ]
  },
  {
   "cell_type": "code",
   "execution_count": 47,
   "metadata": {},
   "outputs": [
    {
     "name": "stdout",
     "output_type": "stream",
     "text": [
      "2684764 is the total number of words (tokens)\n"
     ]
    }
   ],
   "source": [
    "## TODO: ADD YOUR CODE ###\n",
    "pattern = re.compile(r'\\S\\D\\w*')\n",
    "matches = pattern.findall(text)\n",
    "print(\"{} is the total number of words (tokens)\".format(len(matches)))"
   ]
  },
  {
   "cell_type": "raw",
   "metadata": {},
   "source": [
    "b.\tCount the total number of unique words (types)."
   ]
  },
  {
   "cell_type": "code",
   "execution_count": 102,
   "metadata": {},
   "outputs": [
    {
     "name": "stdout",
     "output_type": "stream",
     "text": [
      "37032 is total number of unique words (types)\n"
     ]
    }
   ],
   "source": [
    "## TODO: ADD YOUR CODE ###\n",
    "unique = []\n",
    "for match in matches:\n",
    "    if match not in unique:\n",
    "        unique.append(match)\n",
    "print(\"{} is the total number of unique words (types).\".format(len(unique)))"
   ]
  },
  {
   "cell_type": "raw",
   "metadata": {},
   "source": [
    "c.\tCount the total number of unique words (types) ignoring capitalization."
   ]
  },
  {
   "cell_type": "code",
   "execution_count": 77,
   "metadata": {},
   "outputs": [
    {
     "name": "stdout",
     "output_type": "stream",
     "text": [
      "28630 is the total number of unique words (types).\n"
     ]
    }
   ],
   "source": [
    "## TODO: ADD YOUR CODE ###\n",
    "pattern = re.compile(r'\\S\\D\\w*',re.IGNORECASE)\n",
    "matches = pattern.findall(text)\n",
    "unique = []\n",
    "for match in matches:\n",
    "    if match not in unique:\n",
    "        unique.append(match)\n",
    "print(\"{} is the total number of unique words (types).\".format(len(unique)))"
   ]
  },
  {
   "cell_type": "raw",
   "metadata": {},
   "source": [
    "d.\tCount the total number of words (tokens) made out of digits only (e.g., 9000)."
   ]
  },
  {
   "cell_type": "code",
   "execution_count": 66,
   "metadata": {},
   "outputs": [
    {
     "name": "stdout",
     "output_type": "stream",
     "text": [
      "51302 is the total number of words (tokens)\n"
     ]
    }
   ],
   "source": [
    "# \"^[0-9]*$\"\n",
    "## TODO: ADD YOUR CODE ###\n",
    "pattern = re.compile(r'\\d[0-9]*\\s')\n",
    "mat = pattern.findall(text)\n",
    "print(\"{} is the total number of words (tokens) made out of digits only (e.g., 9000).\".format(len(matches)))"
   ]
  },
  {
   "cell_type": "raw",
   "metadata": {},
   "source": [
    "e.  Count the total number of words (tokens)  made out of digits and at least\n",
    "one other non alphabetic character (e.g. 8,000.00 or 8-8)."
   ]
  },
  {
   "cell_type": "code",
   "execution_count": 83,
   "metadata": {},
   "outputs": [
    {
     "name": "stdout",
     "output_type": "stream",
     "text": [
      "2324 is the total number of words (tokens)  made out of digits and at least one other non alphabetic character \n"
     ]
    }
   ],
   "source": [
    "## TODO: ADD YOUR CODE ###\n",
    "pattern = re.compile(r'\\d[0-9]*[A-Za-z]{1,}\\s')\n",
    "matches = pattern.findall(text)\n",
    "print(\"{} is the total number of words (tokens)  made out of digits and at least one other non alphabetic character \".format(len(matches)))\n"
   ]
  },
  {
   "cell_type": "markdown",
   "metadata": {},
   "source": [
    "### Q4: (15 pt) War and Peace in the UN\n",
    "\n",
    "This question uses the file  \"uncorpus.eng.txt\" as the corpus. For this\n",
    "question ignore letter case and all non-alphabetic characters (only use\n",
    "letters)."
   ]
  },
  {
   "cell_type": "raw",
   "metadata": {},
   "source": [
    "a.\tWhat is the count of unique words containing the substring \"war\"?"
   ]
  },
  {
   "cell_type": "code",
   "execution_count": 167,
   "metadata": {},
   "outputs": [
    {
     "name": "stdout",
     "output_type": "stream",
     "text": [
      "43 is the total number of unique words containing the substring war\n",
      "['towards', 'awareness', 'war', 'warrant', 'aware', 'forward', 'award', 'awards', 'awarded', 'warning', 'warlords', 'warring', 'warfare', 'outward', 'stewardship', 'warsaw', 'warship', 'warships', 'warheads', 'warmly', 'wars', 'software', 'hardware', 'afterwards', 'rewards', 'upward', 'reward', 'backwardness', 'awarding', 'forwarded', 'downward', 'forwarding', 'warhead', 'warranted', 'thwarting', 'warm', 'warehouse', 'toward', 'warrants', 'wardship', 'warnings', 'warranting', 'freeware']\n"
     ]
    }
   ],
   "source": [
    "# ## TODO: ADD YOUR CODE ###\n",
    "pattern = re.compile(r'\\w*?war\\w*',re.IGNORECASE)\n",
    "matches = pattern.findall(text)\n",
    "\n",
    "unique = []\n",
    "for match in matches:\n",
    "    if match.lower() not in unique:\n",
    "        unique.append(match.lower())\n",
    "print(\"{} is the total number of unique words containing the substring war\".format(len(unique)))\n",
    "print(unique)"
   ]
  },
  {
   "cell_type": "code",
   "execution_count": 175,
   "metadata": {},
   "outputs": [
    {
     "name": "stdout",
     "output_type": "stream",
     "text": [
      "['war']\n",
      "1 is the total number of unique words containing the substring war\n"
     ]
    }
   ],
   "source": [
    "dojo = \"fwar sssswareee jbwar saleswarw 7war war fwar waraam warlock\"\n",
    "pattern = re.compile(r'\\bwar\\b')\n",
    "matches = pattern.findall(dojo)\n",
    "print(matches)\n",
    "print(\"{} is the total number of unique words containing the substring war\".format(len(matches)))\n"
   ]
  },
  {
   "cell_type": "raw",
   "metadata": {},
   "source": [
    "b.\tWhat is the count of unique words starting with the substring \"war\"?"
   ]
  },
  {
   "cell_type": "code",
   "execution_count": 168,
   "metadata": {},
   "outputs": [
    {
     "name": "stdout",
     "output_type": "stream",
     "text": [
      "37 is the total  unique words starting with the substring war \n"
     ]
    }
   ],
   "source": [
    "pattern = re.compile(r'war\\S[a-z]\\w*',re.IGNORECASE)\n",
    "matches = pattern.findall(text)\n",
    "unique = []\n",
    "for match in matches:\n",
    "    if match.lower() not in unique:\n",
    "        unique.append(match)\n",
    "print(\"{} is the total number of unique words starting with the substring war \".format(len(unique)))\n"
   ]
  },
  {
   "cell_type": "raw",
   "metadata": {},
   "source": [
    "c.\tWhat is the count of unique words ending with the substring \"war\"?"
   ]
  },
  {
   "cell_type": "code",
   "execution_count": 126,
   "metadata": {},
   "outputs": [
    {
     "name": "stdout",
     "output_type": "stream",
     "text": [
      "0 is the total number of words (tokens)\n"
     ]
    }
   ],
   "source": [
    "## TODO: ADD YOUR CODE ###\n",
    "\n",
    "pattern = re.compile(r'\\w*[a-z]war\\s')\n",
    "matches = pattern.findall(text)\n",
    "print(\"{} is the total number of unique words ending with the substring war \".format(len(matches)))\n",
    "\n"
   ]
  },
  {
   "cell_type": "raw",
   "metadata": {},
   "source": [
    "d.\tWhat is the count of unique words containing the substring \"war\" but neither start nor end with it?"
   ]
  },
  {
   "cell_type": "code",
   "execution_count": 130,
   "metadata": {},
   "outputs": [
    {
     "name": "stdout",
     "output_type": "stream",
     "text": [
      "53 is the total number of unique words (types).\n"
     ]
    }
   ],
   "source": [
    "## TODO: ADD YOUR CODE ###\n",
    "\n",
    "pattern = re.compile(r'\\w*[a-z]war\\S*',re.IGNORECASE)\n",
    "matches = pattern.findall(text)\n",
    "unique = []\n",
    "for match in matches:\n",
    "    if match.lower() not in unique:\n",
    "        unique.append(match)\n",
    "print(\"{} is the total number of unique words containing the substring war but neither start nor end with it?\".format(len(unique)))"
   ]
  },
  {
   "cell_type": "raw",
   "metadata": {},
   "source": [
    "e.\tWhat is the count of unique words containing the substring \"peace\"?"
   ]
  },
  {
   "cell_type": "code",
   "execution_count": 16,
   "metadata": {},
   "outputs": [],
   "source": [
    "## TODO: ADD YOUR CODE ###\n",
    "pattern = re.compile(r'\\w*?peace\\w*',re.IGNORECASE)\n",
    "matches = pattern.findall(text)\n",
    "\n",
    "unique = []\n",
    "for match in matches:\n",
    "    if match.lower() not in unique:\n",
    "        unique.append(match.lower())\n",
    "print(\"{} is the total number of unique words containing the substring peace\".format(len(unique)))"
   ]
  },
  {
   "cell_type": "raw",
   "metadata": {},
   "source": [
    "f.\tWhat is the count of unique words starting with the substring \"peace\"?"
   ]
  },
  {
   "cell_type": "code",
   "execution_count": 17,
   "metadata": {},
   "outputs": [],
   "source": [
    "## TODO: ADD YOUR CODE ###\n",
    "pattern = re.compile(r'peace\\S[a-z]\\w*',re.IGNORECASE)\n",
    "matches = pattern.findall(text)\n",
    "unique = []\n",
    "for match in matches:\n",
    "    if match.lower() not in unique:\n",
    "        unique.append(match)\n",
    "print(\"{} is the total number of unique words starting with the substring peace \".format(len(unique)))"
   ]
  },
  {
   "cell_type": "raw",
   "metadata": {},
   "source": [
    "g.\tWhat is the count of unique words ending with the substring \"peace\"?"
   ]
  },
  {
   "cell_type": "code",
   "execution_count": 169,
   "metadata": {},
   "outputs": [
    {
     "name": "stdout",
     "output_type": "stream",
     "text": [
      "0 is the total number of unique words ending with the substring peace\n"
     ]
    }
   ],
   "source": [
    "## TODO: ADD YOUR CODE ###\n",
    "\n",
    "pattern = re.compile(r'\\w*[a-z]peace\\s')\n",
    "matches = pattern.findall(text)\n",
    "print(\"{} is the total number of unique words ending with the substring peace\".format(len(matches)))\n"
   ]
  },
  {
   "cell_type": "raw",
   "metadata": {},
   "source": [
    "h.\tWhat is the count of unique words containing the substring \"peace\" but neither start nor end with it?"
   ]
  },
  {
   "cell_type": "code",
   "execution_count": 170,
   "metadata": {},
   "outputs": [
    {
     "name": "stdout",
     "output_type": "stream",
     "text": [
      "53 is the total number of unique words containing the substring war but neither start nor end with it?\n"
     ]
    }
   ],
   "source": [
    "## TODO: ADD YOUR CODE ###\n",
    "\n",
    "pattern = re.compile(r'\\w*[a-z]peace\\S*',re.IGNORECASE)\n",
    "matches = pattern.findall(text)\n",
    "unique = []\n",
    "for match in matches:\n",
    "    if match.lower() not in unique:\n",
    "        unique.append(match)\n",
    "print(\"{} is the total number of unique words containing the substring peace but neither start nor end with it?\".format(len(unique)))"
   ]
  },
  {
   "cell_type": "raw",
   "metadata": {},
   "source": [
    "i. Which is the more common substring in all words \"war\" or \"peace\" ?"
   ]
  },
  {
   "cell_type": "code",
   "execution_count": 173,
   "metadata": {},
   "outputs": [
    {
     "name": "stdout",
     "output_type": "stream",
     "text": [
      "war:    3430\n",
      "peace:  5144\n"
     ]
    }
   ],
   "source": [
    "## TODO: ADD YOUR CODE ###\n",
    "pattern = re.compile(r'\\w*?peace\\w*',re.IGNORECASE)\n",
    "peace = pattern.findall(text)\n",
    "pattern = re.compile(r'\\w*?war\\w*',re.IGNORECASE)\n",
    "war = pattern.findall(text)\n",
    "print('war:   ',len(war))\n",
    "print('peace: ',len(peace))"
   ]
  },
  {
   "cell_type": "raw",
   "metadata": {},
   "source": [
    "j. Which is the more common full word \"war\" or \"peace\" ?"
   ]
  },
  {
   "cell_type": "code",
   "execution_count": 176,
   "metadata": {},
   "outputs": [
    {
     "name": "stdout",
     "output_type": "stream",
     "text": [
      "war:    516\n",
      "peace:  3536\n"
     ]
    }
   ],
   "source": [
    "## TODO: ADD YOUR CODE ###\n",
    "pattern = re.compile(r'\\bpeace\\b',re.IGNORECASE)\n",
    "peace = pattern.findall(text)\n",
    "pattern = re.compile(r'\\bwar\\b',re.IGNORECASE)\n",
    "war = pattern.findall(text)\n",
    "print('war:   ',len(war))\n",
    "print('peace: ',len(peace))"
   ]
  },
  {
   "cell_type": "markdown",
   "metadata": {},
   "source": [
    "### Q6: (20 pt) Histogram\n",
    "\n",
    "This question uses the file  \"uncorpus.eng.txt\" as the corpus.\n",
    "Construct a histogram of the words in the corpus -- a list of words\n",
    "sorted by frequency (with specified frequency).  Identify the 10 most\n",
    "frequent words (top 10) and 10 of the least frequent words (bottom 10)\n",
    "in the full corpus."
   ]
  },
  {
   "cell_type": "code",
   "execution_count": 229,
   "metadata": {},
   "outputs": [
    {
     "name": "stderr",
     "output_type": "stream",
     "text": [
      "No handles with labels found to put in legend.\n"
     ]
    },
    {
     "data": {
      "image/png": "[encoded data removed]",
      "text/plain": [
       "<Figure size 1440x720 with 1 Axes>"
      ]
     },
     "metadata": {
      "needs_background": "light"
     },
     "output_type": "display_data"
    }
   ],
   "source": [
    "## TODO: ADD YOUR CODE ###\n",
    "import numpy as np\n",
    "import matplotlib.pyplot as plt\n",
    "from collections import Counter\n",
    "pattern = re.compile(r'\\w*\\D\\s',re.IGNORECASE)\n",
    "peace = pattern.findall(text)\n",
    "\n",
    "import numpy as np\n",
    "import matplotlib.pyplot as plt\n",
    "\n",
    "\n",
    "least = []\n",
    "most = Counter(peace).most_common(10)\n",
    "for i in range(10,0,-1):\n",
    "    least.append(Counter(peace).most_common()[-i])\n",
    "most_least = most + least\n",
    "words = [x[0] for x in most_least]\n",
    "values = [int(x[1]) for x in most_least]\n",
    "\n",
    "plt.figure(figsize=(20,10)) \n",
    "mybar = plt.bar(words, values, color='green', alpha=0.4 )\n",
    "\n",
    "plt.xlabel('Words')\n",
    "plt.ylabel('Frequency')\n",
    "plt.title('Word Frequency Chart')\n",
    "plt.legend()\n",
    "plt.show()"
   ]
  },
  {
   "cell_type": "markdown",
   "metadata": {},
   "source": [
    "### Q7: (15 pt) Back to the Original Corpus\n",
    "\n",
    "Get the top 20 (most frequent) words in English, Arabic, Spanish and Russian\n",
    "of the UNCorpus. Show the lists of words in your answer.\n",
    "\n",
    "For this task, consider a word to simply be white-space separated (i.e. keep\n",
    "all punctuation and digits and separate on white space)."
   ]
  },
  {
   "cell_type": "code",
   "execution_count": 23,
   "metadata": {},
   "outputs": [],
   "source": [
    "## TODO: ADD YOUR CODE ###\n"
   ]
  },
  {
   "cell_type": "markdown",
   "metadata": {},
   "source": [
    "### BONUS: Q8: (10 pt) Secret Words\n",
    "This is a cipher-breaking task.  In the assignment directory, you are provided\n",
    "with an encrypted English document (doc.crypt.txt).  We know from our spies\n",
    "that the encryption technique used is the Caesar Cipher."
   ]
  },
  {
   "cell_type": "raw",
   "metadata": {},
   "source": [
    "a.\tDemonstrate how to use frequency analysis to decode the message.\n",
    "(Hint - use the English corpus provided to you)"
   ]
  },
  {
   "cell_type": "code",
   "execution_count": 24,
   "metadata": {},
   "outputs": [],
   "source": [
    "## TODO: ADD YOUR CODE ###\n"
   ]
  },
  {
   "cell_type": "raw",
   "metadata": {},
   "source": [
    "b.\tWhat are the first 10 lines of the decoded message?"
   ]
  },
  {
   "cell_type": "code",
   "execution_count": 25,
   "metadata": {},
   "outputs": [],
   "source": [
    "## TODO: ADD YOUR CODE ###\n"
   ]
  }
 ],
 "metadata": {
  "kernelspec": {
   "display_name": "Python 3",
   "language": "python",
   "name": "python3"
  },
  "language_info": {
   "codemirror_mode": {
    "name": "ipython",
    "version": 3
   },
   "file_extension": ".py",
   "mimetype": "text/x-python",
   "name": "python",
   "nbconvert_exporter": "python",
   "pygments_lexer": "ipython3",
   "version": "3.8.8"
  }
 },
 "nbformat": 4,
 "nbformat_minor": 4
}
